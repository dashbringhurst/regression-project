{
 "cells": [
  {
   "cell_type": "code",
   "execution_count": 814,
   "id": "115a8e47",
   "metadata": {},
   "outputs": [],
   "source": [
    "import pandas as pd\n",
    "import numpy as np\n",
    "import os\n",
    "import wrangle\n",
    "import matplotlib.pyplot as plt\n",
    "import seaborn as sns\n",
    "from scipy import stats\n",
    "from math import sqrt\n",
    "from sklearn.preprocessing import MinMaxScaler, StandardScaler, PolynomialFeatures\n",
    "from sklearn.linear_model import LinearRegression, LassoLars, TweedieRegressor\n",
    "from sklearn.feature_selection import SelectKBest, f_regression \n",
    "from sklearn.metrics import mean_squared_error, r2_score, explained_variance_score\n",
    "from sklearn.pipeline import make_pipeline"
   ]
  },
  {
   "cell_type": "code",
   "execution_count": 815,
   "id": "11b9aaec",
   "metadata": {},
   "outputs": [],
   "source": [
    "def new_zillow_db():\n",
    "    '''The function uses the get_connection function to connect to a database and retrieve the zillow dataset'''\n",
    "    \n",
    "    zillow = pd.read_sql('''SELECT p.bathroomcnt, p.bedroomcnt, p.calculatedfinishedsquarefeet,\n",
    "    p.fips, p.lotsizesquarefeet, p.regionidcity, p.regionidcounty, p.regionidzip, p.yearbuilt, \n",
    "    p.taxvaluedollarcnt, pd.transactiondate, pd.logerror\n",
    "    FROM properties_2017 as p\n",
    "\n",
    "    JOIN predictions_2017 as pd\n",
    "    on p.id = pd.id\n",
    "    LEFT JOIN propertylandusetype USING(propertylandusetypeid)\n",
    "\n",
    "    WHERE propertylandusedesc IN (\"Single Family Residential\",                       \n",
    "                              \"Inferred Single Family Residential\")\n",
    "    AND pd.transactiondate BETWEEN \"2017-01-01\" AND \"2017-12-31\"\n",
    "    ;''', wrangle.get_connection('zillow'))\n",
    "    return zillow\n"
   ]
  },
  {
   "cell_type": "code",
   "execution_count": 816,
   "id": "39e7a537",
   "metadata": {},
   "outputs": [],
   "source": [
    "df = new_zillow_db()"
   ]
  },
  {
   "cell_type": "code",
   "execution_count": 817,
   "id": "34fada32",
   "metadata": {},
   "outputs": [
    {
     "data": {
      "text/html": [
       "<div>\n",
       "<style scoped>\n",
       "    .dataframe tbody tr th:only-of-type {\n",
       "        vertical-align: middle;\n",
       "    }\n",
       "\n",
       "    .dataframe tbody tr th {\n",
       "        vertical-align: top;\n",
       "    }\n",
       "\n",
       "    .dataframe thead th {\n",
       "        text-align: right;\n",
       "    }\n",
       "</style>\n",
       "<table border=\"1\" class=\"dataframe\">\n",
       "  <thead>\n",
       "    <tr style=\"text-align: right;\">\n",
       "      <th></th>\n",
       "      <th>bathroomcnt</th>\n",
       "      <th>bedroomcnt</th>\n",
       "      <th>calculatedfinishedsquarefeet</th>\n",
       "      <th>fips</th>\n",
       "      <th>lotsizesquarefeet</th>\n",
       "      <th>regionidcity</th>\n",
       "      <th>regionidcounty</th>\n",
       "      <th>regionidzip</th>\n",
       "      <th>yearbuilt</th>\n",
       "      <th>taxvaluedollarcnt</th>\n",
       "      <th>transactiondate</th>\n",
       "      <th>logerror</th>\n",
       "    </tr>\n",
       "  </thead>\n",
       "  <tbody>\n",
       "    <tr>\n",
       "      <th>0</th>\n",
       "      <td>0.0</td>\n",
       "      <td>0.0</td>\n",
       "      <td>NaN</td>\n",
       "      <td>6037.0</td>\n",
       "      <td>4083.0</td>\n",
       "      <td>37688.0</td>\n",
       "      <td>3101.0</td>\n",
       "      <td>96337.0</td>\n",
       "      <td>NaN</td>\n",
       "      <td>27516.0</td>\n",
       "      <td>2017-01-01</td>\n",
       "      <td>0.055619</td>\n",
       "    </tr>\n",
       "    <tr>\n",
       "      <th>1</th>\n",
       "      <td>0.0</td>\n",
       "      <td>0.0</td>\n",
       "      <td>NaN</td>\n",
       "      <td>6037.0</td>\n",
       "      <td>11975.0</td>\n",
       "      <td>40227.0</td>\n",
       "      <td>3101.0</td>\n",
       "      <td>97329.0</td>\n",
       "      <td>NaN</td>\n",
       "      <td>10.0</td>\n",
       "      <td>2017-01-02</td>\n",
       "      <td>0.008669</td>\n",
       "    </tr>\n",
       "    <tr>\n",
       "      <th>2</th>\n",
       "      <td>0.0</td>\n",
       "      <td>0.0</td>\n",
       "      <td>NaN</td>\n",
       "      <td>6037.0</td>\n",
       "      <td>9403.0</td>\n",
       "      <td>40227.0</td>\n",
       "      <td>3101.0</td>\n",
       "      <td>97330.0</td>\n",
       "      <td>NaN</td>\n",
       "      <td>10.0</td>\n",
       "      <td>2017-01-02</td>\n",
       "      <td>-0.021896</td>\n",
       "    </tr>\n",
       "    <tr>\n",
       "      <th>3</th>\n",
       "      <td>0.0</td>\n",
       "      <td>0.0</td>\n",
       "      <td>NaN</td>\n",
       "      <td>6037.0</td>\n",
       "      <td>3817.0</td>\n",
       "      <td>40227.0</td>\n",
       "      <td>3101.0</td>\n",
       "      <td>97330.0</td>\n",
       "      <td>NaN</td>\n",
       "      <td>2108.0</td>\n",
       "      <td>2017-01-02</td>\n",
       "      <td>-0.017167</td>\n",
       "    </tr>\n",
       "    <tr>\n",
       "      <th>4</th>\n",
       "      <td>2.0</td>\n",
       "      <td>4.0</td>\n",
       "      <td>3633.0</td>\n",
       "      <td>6037.0</td>\n",
       "      <td>9826.0</td>\n",
       "      <td>40227.0</td>\n",
       "      <td>3101.0</td>\n",
       "      <td>97329.0</td>\n",
       "      <td>2005.0</td>\n",
       "      <td>296425.0</td>\n",
       "      <td>2017-01-02</td>\n",
       "      <td>0.042463</td>\n",
       "    </tr>\n",
       "    <tr>\n",
       "      <th>...</th>\n",
       "      <td>...</td>\n",
       "      <td>...</td>\n",
       "      <td>...</td>\n",
       "      <td>...</td>\n",
       "      <td>...</td>\n",
       "      <td>...</td>\n",
       "      <td>...</td>\n",
       "      <td>...</td>\n",
       "      <td>...</td>\n",
       "      <td>...</td>\n",
       "      <td>...</td>\n",
       "      <td>...</td>\n",
       "    </tr>\n",
       "    <tr>\n",
       "      <th>56074</th>\n",
       "      <td>2.0</td>\n",
       "      <td>2.0</td>\n",
       "      <td>1362.0</td>\n",
       "      <td>6037.0</td>\n",
       "      <td>6854.0</td>\n",
       "      <td>40227.0</td>\n",
       "      <td>3101.0</td>\n",
       "      <td>97330.0</td>\n",
       "      <td>1996.0</td>\n",
       "      <td>127276.0</td>\n",
       "      <td>2017-09-19</td>\n",
       "      <td>0.001082</td>\n",
       "    </tr>\n",
       "    <tr>\n",
       "      <th>56075</th>\n",
       "      <td>2.0</td>\n",
       "      <td>3.0</td>\n",
       "      <td>1600.0</td>\n",
       "      <td>6037.0</td>\n",
       "      <td>6709.0</td>\n",
       "      <td>40227.0</td>\n",
       "      <td>3101.0</td>\n",
       "      <td>97330.0</td>\n",
       "      <td>1992.0</td>\n",
       "      <td>180715.0</td>\n",
       "      <td>2017-09-20</td>\n",
       "      <td>-0.002245</td>\n",
       "    </tr>\n",
       "    <tr>\n",
       "      <th>56076</th>\n",
       "      <td>3.0</td>\n",
       "      <td>4.0</td>\n",
       "      <td>1921.0</td>\n",
       "      <td>6037.0</td>\n",
       "      <td>6763.0</td>\n",
       "      <td>40227.0</td>\n",
       "      <td>3101.0</td>\n",
       "      <td>97330.0</td>\n",
       "      <td>1990.0</td>\n",
       "      <td>162019.0</td>\n",
       "      <td>2017-09-20</td>\n",
       "      <td>0.020615</td>\n",
       "    </tr>\n",
       "    <tr>\n",
       "      <th>56077</th>\n",
       "      <td>3.0</td>\n",
       "      <td>4.0</td>\n",
       "      <td>1780.0</td>\n",
       "      <td>6037.0</td>\n",
       "      <td>6822.0</td>\n",
       "      <td>40227.0</td>\n",
       "      <td>3101.0</td>\n",
       "      <td>97330.0</td>\n",
       "      <td>1989.0</td>\n",
       "      <td>125923.0</td>\n",
       "      <td>2017-09-21</td>\n",
       "      <td>0.013209</td>\n",
       "    </tr>\n",
       "    <tr>\n",
       "      <th>56078</th>\n",
       "      <td>2.0</td>\n",
       "      <td>3.0</td>\n",
       "      <td>1549.0</td>\n",
       "      <td>6037.0</td>\n",
       "      <td>6987.0</td>\n",
       "      <td>40227.0</td>\n",
       "      <td>3101.0</td>\n",
       "      <td>97330.0</td>\n",
       "      <td>1990.0</td>\n",
       "      <td>198988.0</td>\n",
       "      <td>2017-09-21</td>\n",
       "      <td>0.037129</td>\n",
       "    </tr>\n",
       "  </tbody>\n",
       "</table>\n",
       "<p>56079 rows × 12 columns</p>\n",
       "</div>"
      ],
      "text/plain": [
       "       bathroomcnt  bedroomcnt  calculatedfinishedsquarefeet    fips  \\\n",
       "0              0.0         0.0                           NaN  6037.0   \n",
       "1              0.0         0.0                           NaN  6037.0   \n",
       "2              0.0         0.0                           NaN  6037.0   \n",
       "3              0.0         0.0                           NaN  6037.0   \n",
       "4              2.0         4.0                        3633.0  6037.0   \n",
       "...            ...         ...                           ...     ...   \n",
       "56074          2.0         2.0                        1362.0  6037.0   \n",
       "56075          2.0         3.0                        1600.0  6037.0   \n",
       "56076          3.0         4.0                        1921.0  6037.0   \n",
       "56077          3.0         4.0                        1780.0  6037.0   \n",
       "56078          2.0         3.0                        1549.0  6037.0   \n",
       "\n",
       "       lotsizesquarefeet  regionidcity  regionidcounty  regionidzip  \\\n",
       "0                 4083.0       37688.0          3101.0      96337.0   \n",
       "1                11975.0       40227.0          3101.0      97329.0   \n",
       "2                 9403.0       40227.0          3101.0      97330.0   \n",
       "3                 3817.0       40227.0          3101.0      97330.0   \n",
       "4                 9826.0       40227.0          3101.0      97329.0   \n",
       "...                  ...           ...             ...          ...   \n",
       "56074             6854.0       40227.0          3101.0      97330.0   \n",
       "56075             6709.0       40227.0          3101.0      97330.0   \n",
       "56076             6763.0       40227.0          3101.0      97330.0   \n",
       "56077             6822.0       40227.0          3101.0      97330.0   \n",
       "56078             6987.0       40227.0          3101.0      97330.0   \n",
       "\n",
       "       yearbuilt  taxvaluedollarcnt transactiondate  logerror  \n",
       "0            NaN            27516.0      2017-01-01  0.055619  \n",
       "1            NaN               10.0      2017-01-02  0.008669  \n",
       "2            NaN               10.0      2017-01-02 -0.021896  \n",
       "3            NaN             2108.0      2017-01-02 -0.017167  \n",
       "4         2005.0           296425.0      2017-01-02  0.042463  \n",
       "...          ...                ...             ...       ...  \n",
       "56074     1996.0           127276.0      2017-09-19  0.001082  \n",
       "56075     1992.0           180715.0      2017-09-20 -0.002245  \n",
       "56076     1990.0           162019.0      2017-09-20  0.020615  \n",
       "56077     1989.0           125923.0      2017-09-21  0.013209  \n",
       "56078     1990.0           198988.0      2017-09-21  0.037129  \n",
       "\n",
       "[56079 rows x 12 columns]"
      ]
     },
     "execution_count": 817,
     "metadata": {},
     "output_type": "execute_result"
    }
   ],
   "source": [
    "df"
   ]
  },
  {
   "cell_type": "code",
   "execution_count": 818,
   "id": "d7ae594f",
   "metadata": {},
   "outputs": [
    {
     "name": "stdout",
     "output_type": "stream",
     "text": [
      "<class 'pandas.core.frame.DataFrame'>\n",
      "RangeIndex: 56079 entries, 0 to 56078\n",
      "Data columns (total 12 columns):\n",
      " #   Column                        Non-Null Count  Dtype  \n",
      "---  ------                        --------------  -----  \n",
      " 0   bathroomcnt                   56079 non-null  float64\n",
      " 1   bedroomcnt                    56079 non-null  float64\n",
      " 2   calculatedfinishedsquarefeet  55848 non-null  float64\n",
      " 3   fips                          56079 non-null  float64\n",
      " 4   lotsizesquarefeet             55729 non-null  float64\n",
      " 5   regionidcity                  55025 non-null  float64\n",
      " 6   regionidcounty                56079 non-null  float64\n",
      " 7   regionidzip                   55979 non-null  float64\n",
      " 8   yearbuilt                     55830 non-null  float64\n",
      " 9   taxvaluedollarcnt             56071 non-null  float64\n",
      " 10  transactiondate               56079 non-null  object \n",
      " 11  logerror                      56079 non-null  float64\n",
      "dtypes: float64(11), object(1)\n",
      "memory usage: 5.1+ MB\n"
     ]
    }
   ],
   "source": [
    "df.info()"
   ]
  },
  {
   "cell_type": "code",
   "execution_count": 819,
   "id": "d7ae104f",
   "metadata": {},
   "outputs": [],
   "source": [
    "df = df.dropna()"
   ]
  },
  {
   "cell_type": "code",
   "execution_count": 820,
   "id": "1a260cd9",
   "metadata": {},
   "outputs": [
    {
     "name": "stdout",
     "output_type": "stream",
     "text": [
      "<class 'pandas.core.frame.DataFrame'>\n",
      "Int64Index: 54553 entries, 4 to 56078\n",
      "Data columns (total 12 columns):\n",
      " #   Column                        Non-Null Count  Dtype  \n",
      "---  ------                        --------------  -----  \n",
      " 0   bathroomcnt                   54553 non-null  float64\n",
      " 1   bedroomcnt                    54553 non-null  float64\n",
      " 2   calculatedfinishedsquarefeet  54553 non-null  float64\n",
      " 3   fips                          54553 non-null  float64\n",
      " 4   lotsizesquarefeet             54553 non-null  float64\n",
      " 5   regionidcity                  54553 non-null  float64\n",
      " 6   regionidcounty                54553 non-null  float64\n",
      " 7   regionidzip                   54553 non-null  float64\n",
      " 8   yearbuilt                     54553 non-null  float64\n",
      " 9   taxvaluedollarcnt             54553 non-null  float64\n",
      " 10  transactiondate               54553 non-null  object \n",
      " 11  logerror                      54553 non-null  float64\n",
      "dtypes: float64(11), object(1)\n",
      "memory usage: 5.4+ MB\n"
     ]
    }
   ],
   "source": [
    "df.info()"
   ]
  },
  {
   "cell_type": "code",
   "execution_count": 821,
   "id": "d3407851",
   "metadata": {},
   "outputs": [
    {
     "data": {
      "text/html": [
       "<div>\n",
       "<style scoped>\n",
       "    .dataframe tbody tr th:only-of-type {\n",
       "        vertical-align: middle;\n",
       "    }\n",
       "\n",
       "    .dataframe tbody tr th {\n",
       "        vertical-align: top;\n",
       "    }\n",
       "\n",
       "    .dataframe thead th {\n",
       "        text-align: right;\n",
       "    }\n",
       "</style>\n",
       "<table border=\"1\" class=\"dataframe\">\n",
       "  <thead>\n",
       "    <tr style=\"text-align: right;\">\n",
       "      <th></th>\n",
       "      <th>bathroomcnt</th>\n",
       "      <th>bedroomcnt</th>\n",
       "      <th>calculatedfinishedsquarefeet</th>\n",
       "      <th>fips</th>\n",
       "      <th>lotsizesquarefeet</th>\n",
       "      <th>regionidcity</th>\n",
       "      <th>regionidcounty</th>\n",
       "      <th>regionidzip</th>\n",
       "      <th>yearbuilt</th>\n",
       "      <th>taxvaluedollarcnt</th>\n",
       "      <th>logerror</th>\n",
       "    </tr>\n",
       "  </thead>\n",
       "  <tbody>\n",
       "    <tr>\n",
       "      <th>count</th>\n",
       "      <td>54553.000000</td>\n",
       "      <td>54553.000000</td>\n",
       "      <td>54553.000000</td>\n",
       "      <td>54553.000000</td>\n",
       "      <td>5.455300e+04</td>\n",
       "      <td>54553.000000</td>\n",
       "      <td>54553.000000</td>\n",
       "      <td>54553.000000</td>\n",
       "      <td>54553.000000</td>\n",
       "      <td>5.455300e+04</td>\n",
       "      <td>54553.000000</td>\n",
       "    </tr>\n",
       "    <tr>\n",
       "      <th>mean</th>\n",
       "      <td>2.237686</td>\n",
       "      <td>3.298517</td>\n",
       "      <td>1857.693784</td>\n",
       "      <td>6048.856177</td>\n",
       "      <td>1.123118e+04</td>\n",
       "      <td>35502.566018</td>\n",
       "      <td>2560.631918</td>\n",
       "      <td>96594.523436</td>\n",
       "      <td>1960.796253</td>\n",
       "      <td>4.525896e+05</td>\n",
       "      <td>0.016783</td>\n",
       "    </tr>\n",
       "    <tr>\n",
       "      <th>std</th>\n",
       "      <td>0.989100</td>\n",
       "      <td>0.931808</td>\n",
       "      <td>955.170666</td>\n",
       "      <td>21.280432</td>\n",
       "      <td>9.141415e+04</td>\n",
       "      <td>54204.959656</td>\n",
       "      <td>786.841412</td>\n",
       "      <td>4323.250953</td>\n",
       "      <td>21.698743</td>\n",
       "      <td>5.892449e+05</td>\n",
       "      <td>0.172213</td>\n",
       "    </tr>\n",
       "    <tr>\n",
       "      <th>min</th>\n",
       "      <td>0.000000</td>\n",
       "      <td>0.000000</td>\n",
       "      <td>20.000000</td>\n",
       "      <td>6037.000000</td>\n",
       "      <td>1.690000e+02</td>\n",
       "      <td>3491.000000</td>\n",
       "      <td>1286.000000</td>\n",
       "      <td>95982.000000</td>\n",
       "      <td>1862.000000</td>\n",
       "      <td>9.000000e+00</td>\n",
       "      <td>-4.655420</td>\n",
       "    </tr>\n",
       "    <tr>\n",
       "      <th>25%</th>\n",
       "      <td>2.000000</td>\n",
       "      <td>3.000000</td>\n",
       "      <td>1260.000000</td>\n",
       "      <td>6037.000000</td>\n",
       "      <td>5.686000e+03</td>\n",
       "      <td>12447.000000</td>\n",
       "      <td>2061.000000</td>\n",
       "      <td>96193.000000</td>\n",
       "      <td>1949.000000</td>\n",
       "      <td>1.866290e+05</td>\n",
       "      <td>-0.024437</td>\n",
       "    </tr>\n",
       "    <tr>\n",
       "      <th>50%</th>\n",
       "      <td>2.000000</td>\n",
       "      <td>3.000000</td>\n",
       "      <td>1624.000000</td>\n",
       "      <td>6037.000000</td>\n",
       "      <td>6.790000e+03</td>\n",
       "      <td>24832.000000</td>\n",
       "      <td>3101.000000</td>\n",
       "      <td>96389.000000</td>\n",
       "      <td>1958.000000</td>\n",
       "      <td>3.271200e+05</td>\n",
       "      <td>0.006741</td>\n",
       "    </tr>\n",
       "    <tr>\n",
       "      <th>75%</th>\n",
       "      <td>3.000000</td>\n",
       "      <td>4.000000</td>\n",
       "      <td>2200.000000</td>\n",
       "      <td>6059.000000</td>\n",
       "      <td>8.600000e+03</td>\n",
       "      <td>44116.000000</td>\n",
       "      <td>3101.000000</td>\n",
       "      <td>96987.000000</td>\n",
       "      <td>1975.000000</td>\n",
       "      <td>5.288470e+05</td>\n",
       "      <td>0.039486</td>\n",
       "    </tr>\n",
       "    <tr>\n",
       "      <th>max</th>\n",
       "      <td>20.000000</td>\n",
       "      <td>25.000000</td>\n",
       "      <td>26345.000000</td>\n",
       "      <td>6111.000000</td>\n",
       "      <td>6.971010e+06</td>\n",
       "      <td>396556.000000</td>\n",
       "      <td>3101.000000</td>\n",
       "      <td>399675.000000</td>\n",
       "      <td>2016.000000</td>\n",
       "      <td>3.016684e+07</td>\n",
       "      <td>5.262999</td>\n",
       "    </tr>\n",
       "  </tbody>\n",
       "</table>\n",
       "</div>"
      ],
      "text/plain": [
       "        bathroomcnt    bedroomcnt  calculatedfinishedsquarefeet          fips  \\\n",
       "count  54553.000000  54553.000000                  54553.000000  54553.000000   \n",
       "mean       2.237686      3.298517                   1857.693784   6048.856177   \n",
       "std        0.989100      0.931808                    955.170666     21.280432   \n",
       "min        0.000000      0.000000                     20.000000   6037.000000   \n",
       "25%        2.000000      3.000000                   1260.000000   6037.000000   \n",
       "50%        2.000000      3.000000                   1624.000000   6037.000000   \n",
       "75%        3.000000      4.000000                   2200.000000   6059.000000   \n",
       "max       20.000000     25.000000                  26345.000000   6111.000000   \n",
       "\n",
       "       lotsizesquarefeet   regionidcity  regionidcounty    regionidzip  \\\n",
       "count       5.455300e+04   54553.000000    54553.000000   54553.000000   \n",
       "mean        1.123118e+04   35502.566018     2560.631918   96594.523436   \n",
       "std         9.141415e+04   54204.959656      786.841412    4323.250953   \n",
       "min         1.690000e+02    3491.000000     1286.000000   95982.000000   \n",
       "25%         5.686000e+03   12447.000000     2061.000000   96193.000000   \n",
       "50%         6.790000e+03   24832.000000     3101.000000   96389.000000   \n",
       "75%         8.600000e+03   44116.000000     3101.000000   96987.000000   \n",
       "max         6.971010e+06  396556.000000     3101.000000  399675.000000   \n",
       "\n",
       "          yearbuilt  taxvaluedollarcnt      logerror  \n",
       "count  54553.000000       5.455300e+04  54553.000000  \n",
       "mean    1960.796253       4.525896e+05      0.016783  \n",
       "std       21.698743       5.892449e+05      0.172213  \n",
       "min     1862.000000       9.000000e+00     -4.655420  \n",
       "25%     1949.000000       1.866290e+05     -0.024437  \n",
       "50%     1958.000000       3.271200e+05      0.006741  \n",
       "75%     1975.000000       5.288470e+05      0.039486  \n",
       "max     2016.000000       3.016684e+07      5.262999  "
      ]
     },
     "execution_count": 821,
     "metadata": {},
     "output_type": "execute_result"
    }
   ],
   "source": [
    "df.describe()"
   ]
  },
  {
   "cell_type": "code",
   "execution_count": 822,
   "id": "29d14313",
   "metadata": {},
   "outputs": [
    {
     "name": "stderr",
     "output_type": "stream",
     "text": [
      "/var/folders/5g/xrhpsnj56_v3scw9s4trbgxc0000gn/T/ipykernel_1750/26307220.py:1: SettingWithCopyWarning: \n",
      "A value is trying to be set on a copy of a slice from a DataFrame.\n",
      "Try using .loc[row_indexer,col_indexer] = value instead\n",
      "\n",
      "See the caveats in the documentation: https://pandas.pydata.org/pandas-docs/stable/user_guide/indexing.html#returning-a-view-versus-a-copy\n",
      "  df.bedroomcnt = df.bedroomcnt.astype(int)\n",
      "/var/folders/5g/xrhpsnj56_v3scw9s4trbgxc0000gn/T/ipykernel_1750/26307220.py:3: SettingWithCopyWarning: \n",
      "A value is trying to be set on a copy of a slice from a DataFrame.\n",
      "Try using .loc[row_indexer,col_indexer] = value instead\n",
      "\n",
      "See the caveats in the documentation: https://pandas.pydata.org/pandas-docs/stable/user_guide/indexing.html#returning-a-view-versus-a-copy\n",
      "  df.yearbuilt = df.yearbuilt.astype(int)\n",
      "/var/folders/5g/xrhpsnj56_v3scw9s4trbgxc0000gn/T/ipykernel_1750/26307220.py:5: SettingWithCopyWarning: \n",
      "A value is trying to be set on a copy of a slice from a DataFrame.\n",
      "Try using .loc[row_indexer,col_indexer] = value instead\n",
      "\n",
      "See the caveats in the documentation: https://pandas.pydata.org/pandas-docs/stable/user_guide/indexing.html#returning-a-view-versus-a-copy\n",
      "  df.fips = df.fips.astype(int)\n"
     ]
    }
   ],
   "source": [
    "df.bedroomcnt = df.bedroomcnt.astype(int)\n",
    "    # change year built to an integer\n",
    "df.yearbuilt = df.yearbuilt.astype(int)\n",
    "    # change fips to an integer\n",
    "df.fips = df.fips.astype(int)\n",
    "    # rename columns for readability\n",
    "df = df.rename(columns={'bedroomcnt': 'bedrooms', 'bathroomcnt': 'bathrooms', 'calculatedfinishedsquarefeet': 'sqft', \n",
    "                        'taxvaluedollarcnt': 'tax_value', 'yearbuilt': 'year'})"
   ]
  },
  {
   "cell_type": "code",
   "execution_count": 823,
   "id": "3c882b0b",
   "metadata": {},
   "outputs": [],
   "source": [
    "df = df.rename(columns={'lotsizesquarefeet':'lot_size', 'regionidzip':'zipcode','regionidcounty':'county',\n",
    "                        'regionidcity':'city'})"
   ]
  },
  {
   "cell_type": "code",
   "execution_count": 824,
   "id": "eec0d26a",
   "metadata": {},
   "outputs": [
    {
     "data": {
      "text/html": [
       "<div>\n",
       "<style scoped>\n",
       "    .dataframe tbody tr th:only-of-type {\n",
       "        vertical-align: middle;\n",
       "    }\n",
       "\n",
       "    .dataframe tbody tr th {\n",
       "        vertical-align: top;\n",
       "    }\n",
       "\n",
       "    .dataframe thead th {\n",
       "        text-align: right;\n",
       "    }\n",
       "</style>\n",
       "<table border=\"1\" class=\"dataframe\">\n",
       "  <thead>\n",
       "    <tr style=\"text-align: right;\">\n",
       "      <th></th>\n",
       "      <th>bathrooms</th>\n",
       "      <th>bedrooms</th>\n",
       "      <th>sqft</th>\n",
       "      <th>fips</th>\n",
       "      <th>lot_size</th>\n",
       "      <th>city</th>\n",
       "      <th>county</th>\n",
       "      <th>zipcode</th>\n",
       "      <th>year</th>\n",
       "      <th>tax_value</th>\n",
       "      <th>transactiondate</th>\n",
       "      <th>logerror</th>\n",
       "    </tr>\n",
       "  </thead>\n",
       "  <tbody>\n",
       "    <tr>\n",
       "      <th>4</th>\n",
       "      <td>2.0</td>\n",
       "      <td>4</td>\n",
       "      <td>3633.0</td>\n",
       "      <td>6037</td>\n",
       "      <td>9826.0</td>\n",
       "      <td>40227.0</td>\n",
       "      <td>3101.0</td>\n",
       "      <td>97329.0</td>\n",
       "      <td>2005</td>\n",
       "      <td>296425.0</td>\n",
       "      <td>2017-01-02</td>\n",
       "      <td>0.042463</td>\n",
       "    </tr>\n",
       "    <tr>\n",
       "      <th>7</th>\n",
       "      <td>2.0</td>\n",
       "      <td>3</td>\n",
       "      <td>2077.0</td>\n",
       "      <td>6037</td>\n",
       "      <td>6490.0</td>\n",
       "      <td>26964.0</td>\n",
       "      <td>3101.0</td>\n",
       "      <td>96152.0</td>\n",
       "      <td>1926</td>\n",
       "      <td>646760.0</td>\n",
       "      <td>2017-01-02</td>\n",
       "      <td>-0.040807</td>\n",
       "    </tr>\n",
       "    <tr>\n",
       "      <th>11</th>\n",
       "      <td>0.0</td>\n",
       "      <td>0</td>\n",
       "      <td>1200.0</td>\n",
       "      <td>6037</td>\n",
       "      <td>4054.0</td>\n",
       "      <td>12447.0</td>\n",
       "      <td>3101.0</td>\n",
       "      <td>96020.0</td>\n",
       "      <td>1972</td>\n",
       "      <td>5328.0</td>\n",
       "      <td>2017-01-02</td>\n",
       "      <td>0.069858</td>\n",
       "    </tr>\n",
       "    <tr>\n",
       "      <th>14</th>\n",
       "      <td>0.0</td>\n",
       "      <td>0</td>\n",
       "      <td>171.0</td>\n",
       "      <td>6037</td>\n",
       "      <td>13002.0</td>\n",
       "      <td>46298.0</td>\n",
       "      <td>3101.0</td>\n",
       "      <td>96246.0</td>\n",
       "      <td>1973</td>\n",
       "      <td>6920.0</td>\n",
       "      <td>2017-01-02</td>\n",
       "      <td>0.020950</td>\n",
       "    </tr>\n",
       "    <tr>\n",
       "      <th>15</th>\n",
       "      <td>0.0</td>\n",
       "      <td>0</td>\n",
       "      <td>203.0</td>\n",
       "      <td>6037</td>\n",
       "      <td>17359.0</td>\n",
       "      <td>46298.0</td>\n",
       "      <td>3101.0</td>\n",
       "      <td>96236.0</td>\n",
       "      <td>1960</td>\n",
       "      <td>14166.0</td>\n",
       "      <td>2017-01-02</td>\n",
       "      <td>0.033233</td>\n",
       "    </tr>\n",
       "    <tr>\n",
       "      <th>...</th>\n",
       "      <td>...</td>\n",
       "      <td>...</td>\n",
       "      <td>...</td>\n",
       "      <td>...</td>\n",
       "      <td>...</td>\n",
       "      <td>...</td>\n",
       "      <td>...</td>\n",
       "      <td>...</td>\n",
       "      <td>...</td>\n",
       "      <td>...</td>\n",
       "      <td>...</td>\n",
       "      <td>...</td>\n",
       "    </tr>\n",
       "    <tr>\n",
       "      <th>56074</th>\n",
       "      <td>2.0</td>\n",
       "      <td>2</td>\n",
       "      <td>1362.0</td>\n",
       "      <td>6037</td>\n",
       "      <td>6854.0</td>\n",
       "      <td>40227.0</td>\n",
       "      <td>3101.0</td>\n",
       "      <td>97330.0</td>\n",
       "      <td>1996</td>\n",
       "      <td>127276.0</td>\n",
       "      <td>2017-09-19</td>\n",
       "      <td>0.001082</td>\n",
       "    </tr>\n",
       "    <tr>\n",
       "      <th>56075</th>\n",
       "      <td>2.0</td>\n",
       "      <td>3</td>\n",
       "      <td>1600.0</td>\n",
       "      <td>6037</td>\n",
       "      <td>6709.0</td>\n",
       "      <td>40227.0</td>\n",
       "      <td>3101.0</td>\n",
       "      <td>97330.0</td>\n",
       "      <td>1992</td>\n",
       "      <td>180715.0</td>\n",
       "      <td>2017-09-20</td>\n",
       "      <td>-0.002245</td>\n",
       "    </tr>\n",
       "    <tr>\n",
       "      <th>56076</th>\n",
       "      <td>3.0</td>\n",
       "      <td>4</td>\n",
       "      <td>1921.0</td>\n",
       "      <td>6037</td>\n",
       "      <td>6763.0</td>\n",
       "      <td>40227.0</td>\n",
       "      <td>3101.0</td>\n",
       "      <td>97330.0</td>\n",
       "      <td>1990</td>\n",
       "      <td>162019.0</td>\n",
       "      <td>2017-09-20</td>\n",
       "      <td>0.020615</td>\n",
       "    </tr>\n",
       "    <tr>\n",
       "      <th>56077</th>\n",
       "      <td>3.0</td>\n",
       "      <td>4</td>\n",
       "      <td>1780.0</td>\n",
       "      <td>6037</td>\n",
       "      <td>6822.0</td>\n",
       "      <td>40227.0</td>\n",
       "      <td>3101.0</td>\n",
       "      <td>97330.0</td>\n",
       "      <td>1989</td>\n",
       "      <td>125923.0</td>\n",
       "      <td>2017-09-21</td>\n",
       "      <td>0.013209</td>\n",
       "    </tr>\n",
       "    <tr>\n",
       "      <th>56078</th>\n",
       "      <td>2.0</td>\n",
       "      <td>3</td>\n",
       "      <td>1549.0</td>\n",
       "      <td>6037</td>\n",
       "      <td>6987.0</td>\n",
       "      <td>40227.0</td>\n",
       "      <td>3101.0</td>\n",
       "      <td>97330.0</td>\n",
       "      <td>1990</td>\n",
       "      <td>198988.0</td>\n",
       "      <td>2017-09-21</td>\n",
       "      <td>0.037129</td>\n",
       "    </tr>\n",
       "  </tbody>\n",
       "</table>\n",
       "<p>54553 rows × 12 columns</p>\n",
       "</div>"
      ],
      "text/plain": [
       "       bathrooms  bedrooms    sqft  fips  lot_size     city  county  zipcode  \\\n",
       "4            2.0         4  3633.0  6037    9826.0  40227.0  3101.0  97329.0   \n",
       "7            2.0         3  2077.0  6037    6490.0  26964.0  3101.0  96152.0   \n",
       "11           0.0         0  1200.0  6037    4054.0  12447.0  3101.0  96020.0   \n",
       "14           0.0         0   171.0  6037   13002.0  46298.0  3101.0  96246.0   \n",
       "15           0.0         0   203.0  6037   17359.0  46298.0  3101.0  96236.0   \n",
       "...          ...       ...     ...   ...       ...      ...     ...      ...   \n",
       "56074        2.0         2  1362.0  6037    6854.0  40227.0  3101.0  97330.0   \n",
       "56075        2.0         3  1600.0  6037    6709.0  40227.0  3101.0  97330.0   \n",
       "56076        3.0         4  1921.0  6037    6763.0  40227.0  3101.0  97330.0   \n",
       "56077        3.0         4  1780.0  6037    6822.0  40227.0  3101.0  97330.0   \n",
       "56078        2.0         3  1549.0  6037    6987.0  40227.0  3101.0  97330.0   \n",
       "\n",
       "       year  tax_value transactiondate  logerror  \n",
       "4      2005   296425.0      2017-01-02  0.042463  \n",
       "7      1926   646760.0      2017-01-02 -0.040807  \n",
       "11     1972     5328.0      2017-01-02  0.069858  \n",
       "14     1973     6920.0      2017-01-02  0.020950  \n",
       "15     1960    14166.0      2017-01-02  0.033233  \n",
       "...     ...        ...             ...       ...  \n",
       "56074  1996   127276.0      2017-09-19  0.001082  \n",
       "56075  1992   180715.0      2017-09-20 -0.002245  \n",
       "56076  1990   162019.0      2017-09-20  0.020615  \n",
       "56077  1989   125923.0      2017-09-21  0.013209  \n",
       "56078  1990   198988.0      2017-09-21  0.037129  \n",
       "\n",
       "[54553 rows x 12 columns]"
      ]
     },
     "execution_count": 824,
     "metadata": {},
     "output_type": "execute_result"
    }
   ],
   "source": [
    "df"
   ]
  },
  {
   "cell_type": "code",
   "execution_count": 825,
   "id": "257780a5",
   "metadata": {},
   "outputs": [
    {
     "data": {
      "text/html": [
       "<div>\n",
       "<style scoped>\n",
       "    .dataframe tbody tr th:only-of-type {\n",
       "        vertical-align: middle;\n",
       "    }\n",
       "\n",
       "    .dataframe tbody tr th {\n",
       "        vertical-align: top;\n",
       "    }\n",
       "\n",
       "    .dataframe thead th {\n",
       "        text-align: right;\n",
       "    }\n",
       "</style>\n",
       "<table border=\"1\" class=\"dataframe\">\n",
       "  <thead>\n",
       "    <tr style=\"text-align: right;\">\n",
       "      <th></th>\n",
       "      <th>bathrooms</th>\n",
       "      <th>bedrooms</th>\n",
       "      <th>sqft</th>\n",
       "      <th>fips</th>\n",
       "      <th>lot_size</th>\n",
       "      <th>city</th>\n",
       "      <th>county</th>\n",
       "      <th>zipcode</th>\n",
       "      <th>year</th>\n",
       "      <th>tax_value</th>\n",
       "      <th>logerror</th>\n",
       "    </tr>\n",
       "  </thead>\n",
       "  <tbody>\n",
       "    <tr>\n",
       "      <th>count</th>\n",
       "      <td>54553.000000</td>\n",
       "      <td>54553.000000</td>\n",
       "      <td>54553.000000</td>\n",
       "      <td>54553.000000</td>\n",
       "      <td>5.455300e+04</td>\n",
       "      <td>54553.000000</td>\n",
       "      <td>54553.000000</td>\n",
       "      <td>54553.000000</td>\n",
       "      <td>54553.000000</td>\n",
       "      <td>5.455300e+04</td>\n",
       "      <td>54553.000000</td>\n",
       "    </tr>\n",
       "    <tr>\n",
       "      <th>mean</th>\n",
       "      <td>2.237686</td>\n",
       "      <td>3.298517</td>\n",
       "      <td>1857.693784</td>\n",
       "      <td>6048.856177</td>\n",
       "      <td>1.123118e+04</td>\n",
       "      <td>35502.566018</td>\n",
       "      <td>2560.631918</td>\n",
       "      <td>96594.523436</td>\n",
       "      <td>1960.796253</td>\n",
       "      <td>4.525896e+05</td>\n",
       "      <td>0.016783</td>\n",
       "    </tr>\n",
       "    <tr>\n",
       "      <th>std</th>\n",
       "      <td>0.989100</td>\n",
       "      <td>0.931808</td>\n",
       "      <td>955.170666</td>\n",
       "      <td>21.280432</td>\n",
       "      <td>9.141415e+04</td>\n",
       "      <td>54204.959656</td>\n",
       "      <td>786.841412</td>\n",
       "      <td>4323.250953</td>\n",
       "      <td>21.698743</td>\n",
       "      <td>5.892449e+05</td>\n",
       "      <td>0.172213</td>\n",
       "    </tr>\n",
       "    <tr>\n",
       "      <th>min</th>\n",
       "      <td>0.000000</td>\n",
       "      <td>0.000000</td>\n",
       "      <td>20.000000</td>\n",
       "      <td>6037.000000</td>\n",
       "      <td>1.690000e+02</td>\n",
       "      <td>3491.000000</td>\n",
       "      <td>1286.000000</td>\n",
       "      <td>95982.000000</td>\n",
       "      <td>1862.000000</td>\n",
       "      <td>9.000000e+00</td>\n",
       "      <td>-4.655420</td>\n",
       "    </tr>\n",
       "    <tr>\n",
       "      <th>25%</th>\n",
       "      <td>2.000000</td>\n",
       "      <td>3.000000</td>\n",
       "      <td>1260.000000</td>\n",
       "      <td>6037.000000</td>\n",
       "      <td>5.686000e+03</td>\n",
       "      <td>12447.000000</td>\n",
       "      <td>2061.000000</td>\n",
       "      <td>96193.000000</td>\n",
       "      <td>1949.000000</td>\n",
       "      <td>1.866290e+05</td>\n",
       "      <td>-0.024437</td>\n",
       "    </tr>\n",
       "    <tr>\n",
       "      <th>50%</th>\n",
       "      <td>2.000000</td>\n",
       "      <td>3.000000</td>\n",
       "      <td>1624.000000</td>\n",
       "      <td>6037.000000</td>\n",
       "      <td>6.790000e+03</td>\n",
       "      <td>24832.000000</td>\n",
       "      <td>3101.000000</td>\n",
       "      <td>96389.000000</td>\n",
       "      <td>1958.000000</td>\n",
       "      <td>3.271200e+05</td>\n",
       "      <td>0.006741</td>\n",
       "    </tr>\n",
       "    <tr>\n",
       "      <th>75%</th>\n",
       "      <td>3.000000</td>\n",
       "      <td>4.000000</td>\n",
       "      <td>2200.000000</td>\n",
       "      <td>6059.000000</td>\n",
       "      <td>8.600000e+03</td>\n",
       "      <td>44116.000000</td>\n",
       "      <td>3101.000000</td>\n",
       "      <td>96987.000000</td>\n",
       "      <td>1975.000000</td>\n",
       "      <td>5.288470e+05</td>\n",
       "      <td>0.039486</td>\n",
       "    </tr>\n",
       "    <tr>\n",
       "      <th>max</th>\n",
       "      <td>20.000000</td>\n",
       "      <td>25.000000</td>\n",
       "      <td>26345.000000</td>\n",
       "      <td>6111.000000</td>\n",
       "      <td>6.971010e+06</td>\n",
       "      <td>396556.000000</td>\n",
       "      <td>3101.000000</td>\n",
       "      <td>399675.000000</td>\n",
       "      <td>2016.000000</td>\n",
       "      <td>3.016684e+07</td>\n",
       "      <td>5.262999</td>\n",
       "    </tr>\n",
       "  </tbody>\n",
       "</table>\n",
       "</div>"
      ],
      "text/plain": [
       "          bathrooms      bedrooms          sqft          fips      lot_size  \\\n",
       "count  54553.000000  54553.000000  54553.000000  54553.000000  5.455300e+04   \n",
       "mean       2.237686      3.298517   1857.693784   6048.856177  1.123118e+04   \n",
       "std        0.989100      0.931808    955.170666     21.280432  9.141415e+04   \n",
       "min        0.000000      0.000000     20.000000   6037.000000  1.690000e+02   \n",
       "25%        2.000000      3.000000   1260.000000   6037.000000  5.686000e+03   \n",
       "50%        2.000000      3.000000   1624.000000   6037.000000  6.790000e+03   \n",
       "75%        3.000000      4.000000   2200.000000   6059.000000  8.600000e+03   \n",
       "max       20.000000     25.000000  26345.000000   6111.000000  6.971010e+06   \n",
       "\n",
       "                city        county        zipcode          year     tax_value  \\\n",
       "count   54553.000000  54553.000000   54553.000000  54553.000000  5.455300e+04   \n",
       "mean    35502.566018   2560.631918   96594.523436   1960.796253  4.525896e+05   \n",
       "std     54204.959656    786.841412    4323.250953     21.698743  5.892449e+05   \n",
       "min      3491.000000   1286.000000   95982.000000   1862.000000  9.000000e+00   \n",
       "25%     12447.000000   2061.000000   96193.000000   1949.000000  1.866290e+05   \n",
       "50%     24832.000000   3101.000000   96389.000000   1958.000000  3.271200e+05   \n",
       "75%     44116.000000   3101.000000   96987.000000   1975.000000  5.288470e+05   \n",
       "max    396556.000000   3101.000000  399675.000000   2016.000000  3.016684e+07   \n",
       "\n",
       "           logerror  \n",
       "count  54553.000000  \n",
       "mean       0.016783  \n",
       "std        0.172213  \n",
       "min       -4.655420  \n",
       "25%       -0.024437  \n",
       "50%        0.006741  \n",
       "75%        0.039486  \n",
       "max        5.262999  "
      ]
     },
     "execution_count": 825,
     "metadata": {},
     "output_type": "execute_result"
    }
   ],
   "source": [
    "df.describe()"
   ]
  },
  {
   "cell_type": "code",
   "execution_count": 826,
   "id": "568df6a5",
   "metadata": {},
   "outputs": [],
   "source": [
    "df = df[df['bedrooms'] < 5]\n",
    "#     # remove rows with 6 or more bathrooms\n",
    "df = df[df['bathrooms'] < 4]\n",
    "#     # remove rows with values less than or equal to 700 square feet\n",
    "df = df[df.sqft > 700]\n",
    "#     # remove rows with values greater than or equal to 10_000 square feet\n",
    "# df = df[df.sqft < 3000]\n",
    "# remove rows with tax values greater than or equal to 600000\n",
    "df = df[df.tax_value < 600000]\n",
    "# remove rows with tax values less than or equal to 1000\n",
    "df = df[df.tax_value > 100000]\n",
    "#     # remove rows with a year less than or equal to 1899\n",
    "# df = df[df.year > 1899]\n",
    "df = df[df.bathrooms > 0]\n",
    "df = df[df.bedrooms > 0]"
   ]
  },
  {
   "cell_type": "code",
   "execution_count": 827,
   "id": "5a8915cb",
   "metadata": {},
   "outputs": [],
   "source": [
    "df = df[df.lot_size < 10000]\n",
    "df = df[df.lot_size > 1000]"
   ]
  },
  {
   "cell_type": "code",
   "execution_count": 828,
   "id": "c28da1e0",
   "metadata": {},
   "outputs": [
    {
     "data": {
      "text/plain": [
       "(array([2973., 3685., 4415., 4038., 3457., 3113., 2723., 2231., 1647.,\n",
       "        1333.]),\n",
       " array([100002. , 149985.1, 199968.2, 249951.3, 299934.4, 349917.5,\n",
       "        399900.6, 449883.7, 499866.8, 549849.9, 599833. ]),\n",
       " <BarContainer object of 10 artists>)"
      ]
     },
     "execution_count": 828,
     "metadata": {},
     "output_type": "execute_result"
    },
    {
     "data": {
      "image/png": "[encoded data removed]",
      "text/plain": [
       "<Figure size 432x288 with 1 Axes>"
      ]
     },
     "metadata": {
      "needs_background": "light"
     },
     "output_type": "display_data"
    }
   ],
   "source": [
    "plt.hist(df.tax_value)"
   ]
  },
  {
   "cell_type": "code",
   "execution_count": 829,
   "id": "25454304",
   "metadata": {},
   "outputs": [
    {
     "data": {
      "text/plain": [
       "(array([ 427.,  580.,  942., 1257., 4817., 7341., 6425., 4561., 2043.,\n",
       "        1222.]),\n",
       " array([1010. , 1908.9, 2807.8, 3706.7, 4605.6, 5504.5, 6403.4, 7302.3,\n",
       "        8201.2, 9100.1, 9999. ]),\n",
       " <BarContainer object of 10 artists>)"
      ]
     },
     "execution_count": 829,
     "metadata": {},
     "output_type": "execute_result"
    },
    {
     "data": {
      "image/png": "[encoded data removed]",
      "text/plain": [
       "<Figure size 432x288 with 1 Axes>"
      ]
     },
     "metadata": {
      "needs_background": "light"
     },
     "output_type": "display_data"
    }
   ],
   "source": [
    "plt.hist(df.lot_size)"
   ]
  },
  {
   "cell_type": "code",
   "execution_count": 830,
   "id": "cbcd3240",
   "metadata": {},
   "outputs": [
    {
     "data": {
      "text/html": [
       "<div>\n",
       "<style scoped>\n",
       "    .dataframe tbody tr th:only-of-type {\n",
       "        vertical-align: middle;\n",
       "    }\n",
       "\n",
       "    .dataframe tbody tr th {\n",
       "        vertical-align: top;\n",
       "    }\n",
       "\n",
       "    .dataframe thead th {\n",
       "        text-align: right;\n",
       "    }\n",
       "</style>\n",
       "<table border=\"1\" class=\"dataframe\">\n",
       "  <thead>\n",
       "    <tr style=\"text-align: right;\">\n",
       "      <th></th>\n",
       "      <th>bathrooms</th>\n",
       "      <th>bedrooms</th>\n",
       "      <th>sqft</th>\n",
       "      <th>fips</th>\n",
       "      <th>lot_size</th>\n",
       "      <th>city</th>\n",
       "      <th>county</th>\n",
       "      <th>zipcode</th>\n",
       "      <th>year</th>\n",
       "      <th>tax_value</th>\n",
       "      <th>logerror</th>\n",
       "    </tr>\n",
       "  </thead>\n",
       "  <tbody>\n",
       "    <tr>\n",
       "      <th>count</th>\n",
       "      <td>29615.000000</td>\n",
       "      <td>29615.000000</td>\n",
       "      <td>29615.000000</td>\n",
       "      <td>29615.000000</td>\n",
       "      <td>29615.000000</td>\n",
       "      <td>29615.000000</td>\n",
       "      <td>29615.000000</td>\n",
       "      <td>29615.000000</td>\n",
       "      <td>29615.000000</td>\n",
       "      <td>29615.000000</td>\n",
       "      <td>29615.000000</td>\n",
       "    </tr>\n",
       "    <tr>\n",
       "      <th>mean</th>\n",
       "      <td>1.950498</td>\n",
       "      <td>3.089819</td>\n",
       "      <td>1536.212865</td>\n",
       "      <td>6048.404829</td>\n",
       "      <td>6334.737565</td>\n",
       "      <td>36145.993922</td>\n",
       "      <td>2578.436603</td>\n",
       "      <td>96530.208611</td>\n",
       "      <td>1958.520142</td>\n",
       "      <td>312246.796353</td>\n",
       "      <td>0.016336</td>\n",
       "    </tr>\n",
       "    <tr>\n",
       "      <th>std</th>\n",
       "      <td>0.637437</td>\n",
       "      <td>0.695310</td>\n",
       "      <td>476.923989</td>\n",
       "      <td>20.944447</td>\n",
       "      <td>1604.984969</td>\n",
       "      <td>55952.684548</td>\n",
       "      <td>780.275872</td>\n",
       "      <td>405.694422</td>\n",
       "      <td>20.158898</td>\n",
       "      <td>128165.296735</td>\n",
       "      <td>0.170316</td>\n",
       "    </tr>\n",
       "    <tr>\n",
       "      <th>min</th>\n",
       "      <td>1.000000</td>\n",
       "      <td>1.000000</td>\n",
       "      <td>702.000000</td>\n",
       "      <td>6037.000000</td>\n",
       "      <td>1010.000000</td>\n",
       "      <td>3491.000000</td>\n",
       "      <td>1286.000000</td>\n",
       "      <td>95982.000000</td>\n",
       "      <td>1880.000000</td>\n",
       "      <td>100002.000000</td>\n",
       "      <td>-4.655420</td>\n",
       "    </tr>\n",
       "    <tr>\n",
       "      <th>25%</th>\n",
       "      <td>2.000000</td>\n",
       "      <td>3.000000</td>\n",
       "      <td>1196.000000</td>\n",
       "      <td>6037.000000</td>\n",
       "      <td>5409.000000</td>\n",
       "      <td>12447.000000</td>\n",
       "      <td>2061.000000</td>\n",
       "      <td>96193.000000</td>\n",
       "      <td>1949.000000</td>\n",
       "      <td>208718.000000</td>\n",
       "      <td>-0.024645</td>\n",
       "    </tr>\n",
       "    <tr>\n",
       "      <th>50%</th>\n",
       "      <td>2.000000</td>\n",
       "      <td>3.000000</td>\n",
       "      <td>1457.000000</td>\n",
       "      <td>6037.000000</td>\n",
       "      <td>6325.000000</td>\n",
       "      <td>24812.000000</td>\n",
       "      <td>3101.000000</td>\n",
       "      <td>96389.000000</td>\n",
       "      <td>1956.000000</td>\n",
       "      <td>296302.000000</td>\n",
       "      <td>0.006654</td>\n",
       "    </tr>\n",
       "    <tr>\n",
       "      <th>75%</th>\n",
       "      <td>2.000000</td>\n",
       "      <td>4.000000</td>\n",
       "      <td>1799.000000</td>\n",
       "      <td>6059.000000</td>\n",
       "      <td>7382.500000</td>\n",
       "      <td>44833.000000</td>\n",
       "      <td>3101.000000</td>\n",
       "      <td>96990.000000</td>\n",
       "      <td>1971.000000</td>\n",
       "      <td>409000.000000</td>\n",
       "      <td>0.039265</td>\n",
       "    </tr>\n",
       "    <tr>\n",
       "      <th>max</th>\n",
       "      <td>3.500000</td>\n",
       "      <td>4.000000</td>\n",
       "      <td>4314.000000</td>\n",
       "      <td>6111.000000</td>\n",
       "      <td>9999.000000</td>\n",
       "      <td>396556.000000</td>\n",
       "      <td>3101.000000</td>\n",
       "      <td>97330.000000</td>\n",
       "      <td>2015.000000</td>\n",
       "      <td>599833.000000</td>\n",
       "      <td>3.394544</td>\n",
       "    </tr>\n",
       "  </tbody>\n",
       "</table>\n",
       "</div>"
      ],
      "text/plain": [
       "          bathrooms      bedrooms          sqft          fips      lot_size  \\\n",
       "count  29615.000000  29615.000000  29615.000000  29615.000000  29615.000000   \n",
       "mean       1.950498      3.089819   1536.212865   6048.404829   6334.737565   \n",
       "std        0.637437      0.695310    476.923989     20.944447   1604.984969   \n",
       "min        1.000000      1.000000    702.000000   6037.000000   1010.000000   \n",
       "25%        2.000000      3.000000   1196.000000   6037.000000   5409.000000   \n",
       "50%        2.000000      3.000000   1457.000000   6037.000000   6325.000000   \n",
       "75%        2.000000      4.000000   1799.000000   6059.000000   7382.500000   \n",
       "max        3.500000      4.000000   4314.000000   6111.000000   9999.000000   \n",
       "\n",
       "                city        county       zipcode          year      tax_value  \\\n",
       "count   29615.000000  29615.000000  29615.000000  29615.000000   29615.000000   \n",
       "mean    36145.993922   2578.436603  96530.208611   1958.520142  312246.796353   \n",
       "std     55952.684548    780.275872    405.694422     20.158898  128165.296735   \n",
       "min      3491.000000   1286.000000  95982.000000   1880.000000  100002.000000   \n",
       "25%     12447.000000   2061.000000  96193.000000   1949.000000  208718.000000   \n",
       "50%     24812.000000   3101.000000  96389.000000   1956.000000  296302.000000   \n",
       "75%     44833.000000   3101.000000  96990.000000   1971.000000  409000.000000   \n",
       "max    396556.000000   3101.000000  97330.000000   2015.000000  599833.000000   \n",
       "\n",
       "           logerror  \n",
       "count  29615.000000  \n",
       "mean       0.016336  \n",
       "std        0.170316  \n",
       "min       -4.655420  \n",
       "25%       -0.024645  \n",
       "50%        0.006654  \n",
       "75%        0.039265  \n",
       "max        3.394544  "
      ]
     },
     "execution_count": 830,
     "metadata": {},
     "output_type": "execute_result"
    }
   ],
   "source": [
    "df.describe()"
   ]
  },
  {
   "cell_type": "code",
   "execution_count": 831,
   "id": "920ea598",
   "metadata": {},
   "outputs": [],
   "source": [
    "df = df.drop(columns=['zipcode','city','transactiondate','logerror'])"
   ]
  },
  {
   "cell_type": "code",
   "execution_count": null,
   "id": "aaae5152",
   "metadata": {},
   "outputs": [],
   "source": []
  },
  {
   "cell_type": "code",
   "execution_count": 832,
   "id": "7641f660",
   "metadata": {},
   "outputs": [],
   "source": [
    "train, validate, test = wrangle.split_data(df)"
   ]
  },
  {
   "cell_type": "code",
   "execution_count": 833,
   "id": "c454f0ac",
   "metadata": {},
   "outputs": [
    {
     "name": "stderr",
     "output_type": "stream",
     "text": [
      "/opt/homebrew/anaconda3/lib/python3.9/site-packages/seaborn/_decorators.py:36: FutureWarning: Pass the following variable as a keyword arg: x. From version 0.12, the only valid positional argument will be `data`, and passing other arguments without an explicit keyword will result in an error or misinterpretation.\n",
      "  warnings.warn(\n"
     ]
    },
    {
     "data": {
      "text/plain": [
       "<AxesSubplot:xlabel='bedrooms', ylabel='count'>"
      ]
     },
     "execution_count": 833,
     "metadata": {},
     "output_type": "execute_result"
    },
    {
     "data": {
      "image/png": "[encoded data removed]",
      "text/plain": [
       "<Figure size 432x288 with 1 Axes>"
      ]
     },
     "metadata": {
      "needs_background": "light"
     },
     "output_type": "display_data"
    }
   ],
   "source": [
    "sns.countplot(train.bedrooms, hue=train.bathrooms)"
   ]
  },
  {
   "cell_type": "code",
   "execution_count": 834,
   "id": "db2ee582",
   "metadata": {},
   "outputs": [
    {
     "name": "stderr",
     "output_type": "stream",
     "text": [
      "/opt/homebrew/anaconda3/lib/python3.9/site-packages/seaborn/_decorators.py:36: FutureWarning: Pass the following variable as a keyword arg: x. From version 0.12, the only valid positional argument will be `data`, and passing other arguments without an explicit keyword will result in an error or misinterpretation.\n",
      "  warnings.warn(\n"
     ]
    },
    {
     "data": {
      "text/plain": [
       "<AxesSubplot:xlabel='fips', ylabel='count'>"
      ]
     },
     "execution_count": 834,
     "metadata": {},
     "output_type": "execute_result"
    },
    {
     "data": {
      "image/png": "[encoded data removed]",
      "text/plain": [
       "<Figure size 432x288 with 1 Axes>"
      ]
     },
     "metadata": {
      "needs_background": "light"
     },
     "output_type": "display_data"
    }
   ],
   "source": [
    "sns.countplot(train.fips, hue=train.bedrooms)"
   ]
  },
  {
   "cell_type": "code",
   "execution_count": 835,
   "id": "166a5c95",
   "metadata": {},
   "outputs": [
    {
     "name": "stderr",
     "output_type": "stream",
     "text": [
      "/opt/homebrew/anaconda3/lib/python3.9/site-packages/seaborn/_decorators.py:36: FutureWarning: Pass the following variables as keyword args: x, y. From version 0.12, the only valid positional argument will be `data`, and passing other arguments without an explicit keyword will result in an error or misinterpretation.\n",
      "  warnings.warn(\n"
     ]
    },
    {
     "data": {
      "text/plain": [
       "<AxesSubplot:xlabel='sqft', ylabel='lot_size'>"
      ]
     },
     "execution_count": 835,
     "metadata": {},
     "output_type": "execute_result"
    },
    {
     "data": {
      "image/png": "[encoded data removed]",
      "text/plain": [
       "<Figure size 360x360 with 1 Axes>"
      ]
     },
     "metadata": {
      "needs_background": "light"
     },
     "output_type": "display_data"
    }
   ],
   "source": [
    "sns.relplot(train.sqft, train.lot_size)\n",
    "sns.regplot(x='sqft', y='lot_size', data=train, truncate=False, scatter=False, color='red')"
   ]
  },
  {
   "cell_type": "code",
   "execution_count": 836,
   "id": "cceed11e",
   "metadata": {},
   "outputs": [
    {
     "name": "stderr",
     "output_type": "stream",
     "text": [
      "/opt/homebrew/anaconda3/lib/python3.9/site-packages/seaborn/_decorators.py:36: FutureWarning: Pass the following variables as keyword args: x, y. From version 0.12, the only valid positional argument will be `data`, and passing other arguments without an explicit keyword will result in an error or misinterpretation.\n",
      "  warnings.warn(\n"
     ]
    },
    {
     "data": {
      "text/plain": [
       "<AxesSubplot:xlabel='sqft', ylabel='tax_value'>"
      ]
     },
     "execution_count": 836,
     "metadata": {},
     "output_type": "execute_result"
    },
    {
     "data": {
      "image/png": "[encoded data removed]",
      "text/plain": [
       "<Figure size 360x360 with 1 Axes>"
      ]
     },
     "metadata": {
      "needs_background": "light"
     },
     "output_type": "display_data"
    }
   ],
   "source": [
    "sns.relplot(train.sqft, train.tax_value)\n",
    "sns.regplot(x='sqft', y='tax_value', data=train, truncate=False, scatter=False, color='red')"
   ]
  },
  {
   "cell_type": "code",
   "execution_count": 837,
   "id": "eab0c6d0",
   "metadata": {},
   "outputs": [
    {
     "name": "stderr",
     "output_type": "stream",
     "text": [
      "/opt/homebrew/anaconda3/lib/python3.9/site-packages/seaborn/_decorators.py:36: FutureWarning: Pass the following variables as keyword args: x, y. From version 0.12, the only valid positional argument will be `data`, and passing other arguments without an explicit keyword will result in an error or misinterpretation.\n",
      "  warnings.warn(\n"
     ]
    },
    {
     "data": {
      "text/plain": [
       "<AxesSubplot:xlabel='lot_size', ylabel='tax_value'>"
      ]
     },
     "execution_count": 837,
     "metadata": {},
     "output_type": "execute_result"
    },
    {
     "data": {
      "image/png": "[encoded data removed]",
      "text/plain": [
       "<Figure size 360x360 with 1 Axes>"
      ]
     },
     "metadata": {
      "needs_background": "light"
     },
     "output_type": "display_data"
    }
   ],
   "source": [
    "sns.relplot(train.lot_size, train.tax_value)\n",
    "sns.regplot(x='lot_size', y='tax_value', data=train, truncate=False, scatter=False, color='red')"
   ]
  },
  {
   "cell_type": "code",
   "execution_count": null,
   "id": "3c5575ca",
   "metadata": {},
   "outputs": [],
   "source": []
  },
  {
   "cell_type": "code",
   "execution_count": null,
   "id": "908db243",
   "metadata": {},
   "outputs": [],
   "source": []
  },
  {
   "cell_type": "code",
   "execution_count": 838,
   "id": "ec9669f6",
   "metadata": {},
   "outputs": [],
   "source": [
    "cols = ['bathrooms','bedrooms','sqft']\n",
    "X_train, y_train = train[cols], train.tax_value\n",
    "X_validate, y_validate = validate[cols], validate.tax_value\n",
    "X_test, y_test = test[cols], test.tax_value"
   ]
  },
  {
   "cell_type": "code",
   "execution_count": 839,
   "id": "459a1a60",
   "metadata": {},
   "outputs": [],
   "source": [
    "baseline = train.tax_value.mean()"
   ]
  },
  {
   "cell_type": "code",
   "execution_count": 840,
   "id": "c9a916ee",
   "metadata": {},
   "outputs": [],
   "source": [
    "train['baseline'] = baseline"
   ]
  },
  {
   "cell_type": "code",
   "execution_count": 841,
   "id": "717b8ca5",
   "metadata": {},
   "outputs": [
    {
     "data": {
      "text/html": [
       "<div>\n",
       "<style scoped>\n",
       "    .dataframe tbody tr th:only-of-type {\n",
       "        vertical-align: middle;\n",
       "    }\n",
       "\n",
       "    .dataframe tbody tr th {\n",
       "        vertical-align: top;\n",
       "    }\n",
       "\n",
       "    .dataframe thead th {\n",
       "        text-align: right;\n",
       "    }\n",
       "</style>\n",
       "<table border=\"1\" class=\"dataframe\">\n",
       "  <thead>\n",
       "    <tr style=\"text-align: right;\">\n",
       "      <th></th>\n",
       "      <th>bathrooms</th>\n",
       "      <th>bedrooms</th>\n",
       "      <th>sqft</th>\n",
       "      <th>fips</th>\n",
       "      <th>lot_size</th>\n",
       "      <th>county</th>\n",
       "      <th>year</th>\n",
       "      <th>tax_value</th>\n",
       "      <th>baseline</th>\n",
       "    </tr>\n",
       "  </thead>\n",
       "  <tbody>\n",
       "    <tr>\n",
       "      <th>44874</th>\n",
       "      <td>2.0</td>\n",
       "      <td>3</td>\n",
       "      <td>1160.0</td>\n",
       "      <td>6037</td>\n",
       "      <td>7496.0</td>\n",
       "      <td>3101.0</td>\n",
       "      <td>1969</td>\n",
       "      <td>379703.0</td>\n",
       "      <td>312117.110755</td>\n",
       "    </tr>\n",
       "    <tr>\n",
       "      <th>41628</th>\n",
       "      <td>1.0</td>\n",
       "      <td>3</td>\n",
       "      <td>933.0</td>\n",
       "      <td>6059</td>\n",
       "      <td>7389.0</td>\n",
       "      <td>1286.0</td>\n",
       "      <td>1945</td>\n",
       "      <td>191541.0</td>\n",
       "      <td>312117.110755</td>\n",
       "    </tr>\n",
       "    <tr>\n",
       "      <th>10598</th>\n",
       "      <td>3.0</td>\n",
       "      <td>4</td>\n",
       "      <td>2112.0</td>\n",
       "      <td>6037</td>\n",
       "      <td>8530.0</td>\n",
       "      <td>3101.0</td>\n",
       "      <td>2006</td>\n",
       "      <td>185680.0</td>\n",
       "      <td>312117.110755</td>\n",
       "    </tr>\n",
       "    <tr>\n",
       "      <th>22856</th>\n",
       "      <td>2.0</td>\n",
       "      <td>3</td>\n",
       "      <td>1701.0</td>\n",
       "      <td>6037</td>\n",
       "      <td>6431.0</td>\n",
       "      <td>3101.0</td>\n",
       "      <td>1955</td>\n",
       "      <td>115932.0</td>\n",
       "      <td>312117.110755</td>\n",
       "    </tr>\n",
       "    <tr>\n",
       "      <th>22666</th>\n",
       "      <td>2.0</td>\n",
       "      <td>3</td>\n",
       "      <td>1266.0</td>\n",
       "      <td>6037</td>\n",
       "      <td>6890.0</td>\n",
       "      <td>3101.0</td>\n",
       "      <td>1950</td>\n",
       "      <td>334587.0</td>\n",
       "      <td>312117.110755</td>\n",
       "    </tr>\n",
       "    <tr>\n",
       "      <th>...</th>\n",
       "      <td>...</td>\n",
       "      <td>...</td>\n",
       "      <td>...</td>\n",
       "      <td>...</td>\n",
       "      <td>...</td>\n",
       "      <td>...</td>\n",
       "      <td>...</td>\n",
       "      <td>...</td>\n",
       "      <td>...</td>\n",
       "    </tr>\n",
       "    <tr>\n",
       "      <th>1073</th>\n",
       "      <td>2.0</td>\n",
       "      <td>2</td>\n",
       "      <td>1363.0</td>\n",
       "      <td>6037</td>\n",
       "      <td>5274.0</td>\n",
       "      <td>3101.0</td>\n",
       "      <td>1956</td>\n",
       "      <td>204720.0</td>\n",
       "      <td>312117.110755</td>\n",
       "    </tr>\n",
       "    <tr>\n",
       "      <th>3291</th>\n",
       "      <td>1.0</td>\n",
       "      <td>1</td>\n",
       "      <td>714.0</td>\n",
       "      <td>6037</td>\n",
       "      <td>4157.0</td>\n",
       "      <td>3101.0</td>\n",
       "      <td>1936</td>\n",
       "      <td>467351.0</td>\n",
       "      <td>312117.110755</td>\n",
       "    </tr>\n",
       "    <tr>\n",
       "      <th>40567</th>\n",
       "      <td>2.0</td>\n",
       "      <td>3</td>\n",
       "      <td>1323.0</td>\n",
       "      <td>6059</td>\n",
       "      <td>8125.0</td>\n",
       "      <td>1286.0</td>\n",
       "      <td>1963</td>\n",
       "      <td>489553.0</td>\n",
       "      <td>312117.110755</td>\n",
       "    </tr>\n",
       "    <tr>\n",
       "      <th>44556</th>\n",
       "      <td>1.0</td>\n",
       "      <td>3</td>\n",
       "      <td>1548.0</td>\n",
       "      <td>6037</td>\n",
       "      <td>5520.0</td>\n",
       "      <td>3101.0</td>\n",
       "      <td>1928</td>\n",
       "      <td>200990.0</td>\n",
       "      <td>312117.110755</td>\n",
       "    </tr>\n",
       "    <tr>\n",
       "      <th>33389</th>\n",
       "      <td>3.0</td>\n",
       "      <td>4</td>\n",
       "      <td>2214.0</td>\n",
       "      <td>6037</td>\n",
       "      <td>8100.0</td>\n",
       "      <td>3101.0</td>\n",
       "      <td>1947</td>\n",
       "      <td>109100.0</td>\n",
       "      <td>312117.110755</td>\n",
       "    </tr>\n",
       "  </tbody>\n",
       "</table>\n",
       "<p>17769 rows × 9 columns</p>\n",
       "</div>"
      ],
      "text/plain": [
       "       bathrooms  bedrooms    sqft  fips  lot_size  county  year  tax_value  \\\n",
       "44874        2.0         3  1160.0  6037    7496.0  3101.0  1969   379703.0   \n",
       "41628        1.0         3   933.0  6059    7389.0  1286.0  1945   191541.0   \n",
       "10598        3.0         4  2112.0  6037    8530.0  3101.0  2006   185680.0   \n",
       "22856        2.0         3  1701.0  6037    6431.0  3101.0  1955   115932.0   \n",
       "22666        2.0         3  1266.0  6037    6890.0  3101.0  1950   334587.0   \n",
       "...          ...       ...     ...   ...       ...     ...   ...        ...   \n",
       "1073         2.0         2  1363.0  6037    5274.0  3101.0  1956   204720.0   \n",
       "3291         1.0         1   714.0  6037    4157.0  3101.0  1936   467351.0   \n",
       "40567        2.0         3  1323.0  6059    8125.0  1286.0  1963   489553.0   \n",
       "44556        1.0         3  1548.0  6037    5520.0  3101.0  1928   200990.0   \n",
       "33389        3.0         4  2214.0  6037    8100.0  3101.0  1947   109100.0   \n",
       "\n",
       "            baseline  \n",
       "44874  312117.110755  \n",
       "41628  312117.110755  \n",
       "10598  312117.110755  \n",
       "22856  312117.110755  \n",
       "22666  312117.110755  \n",
       "...              ...  \n",
       "1073   312117.110755  \n",
       "3291   312117.110755  \n",
       "40567  312117.110755  \n",
       "44556  312117.110755  \n",
       "33389  312117.110755  \n",
       "\n",
       "[17769 rows x 9 columns]"
      ]
     },
     "execution_count": 841,
     "metadata": {},
     "output_type": "execute_result"
    }
   ],
   "source": [
    "train"
   ]
  },
  {
   "cell_type": "code",
   "execution_count": 842,
   "id": "8e6ca51e",
   "metadata": {},
   "outputs": [],
   "source": [
    "X_train_scaled, X_validate_scaled, X_test_scaled = wrangle.minmax_scaler(X_train, X_validate, X_test)"
   ]
  },
  {
   "cell_type": "code",
   "execution_count": 843,
   "id": "97532999",
   "metadata": {},
   "outputs": [],
   "source": [
    "ols_model = LinearRegression().fit(X_train_scaled, train.tax_value)"
   ]
  },
  {
   "cell_type": "code",
   "execution_count": 844,
   "id": "0b9fd7fa",
   "metadata": {},
   "outputs": [],
   "source": [
    "train['yhat'] = ols_model.predict(X_train_scaled)"
   ]
  },
  {
   "cell_type": "code",
   "execution_count": 845,
   "id": "862c54b6",
   "metadata": {},
   "outputs": [],
   "source": [
    "y = train.tax_value\n",
    "yhat = train.yhat"
   ]
  },
  {
   "cell_type": "code",
   "execution_count": 846,
   "id": "174ad669",
   "metadata": {},
   "outputs": [],
   "source": [
    "# create column for model residual error\n",
    "train['residual'] = train.yhat - train.tax_value\n",
    "# create column for baseline residual error\n",
    "train['residual_baseline'] = train.baseline - train.tax_value"
   ]
  },
  {
   "cell_type": "code",
   "execution_count": 847,
   "id": "f3866367",
   "metadata": {},
   "outputs": [],
   "source": [
    "# calculate the model's sum of squares error for the selected variables against the target variable\n",
    "SSE = mean_squared_error(train.tax_value, train.yhat)*len(train)\n",
    "# calculate the baseline's sum of squares error for the selected variables against the target variable\n",
    "SSE_baseline = mean_squared_error(train.tax_value, train.baseline)*len(train)\n",
    "# calculate the model mean squared error for the selected variables against the target variable\n",
    "MSE = mean_squared_error(train.tax_value, train.yhat)\n",
    "# calculate the baseline mean squared error for the selected variables against the target variable\n",
    "MSE_baseline = mean_squared_error(train.tax_value, train.baseline)\n",
    "# calculate the model root mean squared error for the selected variables against the target variable\n",
    "RMSE = sqrt(mean_squared_error(train.tax_value, train.yhat))\n",
    "# calculate the baseline root mean squared error for the selected variables against the target variable\n",
    "RMSE_baseline = sqrt(mean_squared_error(train.tax_value, train.baseline))"
   ]
  },
  {
   "cell_type": "code",
   "execution_count": 848,
   "id": "d4d1d1da",
   "metadata": {},
   "outputs": [
    {
     "name": "stdout",
     "output_type": "stream",
     "text": [
      "  metric   model_error\n",
      "0    SSE  2.718157e+14\n",
      "1    MSE  1.529719e+10\n",
      "2   RMSE  1.236818e+05\n",
      "          metric   model_error\n",
      "0   SSE_baseline  2.910802e+14\n",
      "1   MSE_baseline  1.638135e+10\n",
      "2  RMSE_baseline  1.279896e+05\n"
     ]
    }
   ],
   "source": [
    "# create a dataframe for the model SSE, MSE, RMSE\n",
    "train_eval = pd.DataFrame(np.array(['SSE','MSE','RMSE']), columns=['metric'])\n",
    "# create a dataframe to show the baseline SSE, MSE, RMSE\n",
    "train_baseline_eval = pd.DataFrame(np.array(['SSE_baseline','MSE_baseline','RMSE_baseline']), columns=['metric'])\n",
    "# add a column to the train_eval dataframe for the values associated with each model metric\n",
    "train_eval['model_error'] = np.array([SSE, MSE, RMSE])\n",
    "# add a column to the train_baseline_eval for the values associated with each baseline metric\n",
    "train_baseline_eval['model_error'] = np.array([SSE_baseline, MSE_baseline, RMSE_baseline])\n",
    "# print the dataframes\n",
    "print(train_eval)\n",
    "print(train_baseline_eval)"
   ]
  },
  {
   "cell_type": "code",
   "execution_count": 849,
   "id": "6b404b50",
   "metadata": {},
   "outputs": [
    {
     "data": {
      "text/html": [
       "<div>\n",
       "<style scoped>\n",
       "    .dataframe tbody tr th:only-of-type {\n",
       "        vertical-align: middle;\n",
       "    }\n",
       "\n",
       "    .dataframe tbody tr th {\n",
       "        vertical-align: top;\n",
       "    }\n",
       "\n",
       "    .dataframe thead th {\n",
       "        text-align: right;\n",
       "    }\n",
       "</style>\n",
       "<table border=\"1\" class=\"dataframe\">\n",
       "  <thead>\n",
       "    <tr style=\"text-align: right;\">\n",
       "      <th></th>\n",
       "      <th>metric</th>\n",
       "      <th>model_error</th>\n",
       "      <th>error_delta</th>\n",
       "    </tr>\n",
       "  </thead>\n",
       "  <tbody>\n",
       "    <tr>\n",
       "      <th>0</th>\n",
       "      <td>SSE</td>\n",
       "      <td>2.718157e+14</td>\n",
       "      <td>-1.926449e+13</td>\n",
       "    </tr>\n",
       "    <tr>\n",
       "      <th>1</th>\n",
       "      <td>MSE</td>\n",
       "      <td>1.529719e+10</td>\n",
       "      <td>-1.084163e+09</td>\n",
       "    </tr>\n",
       "    <tr>\n",
       "      <th>2</th>\n",
       "      <td>RMSE</td>\n",
       "      <td>1.236818e+05</td>\n",
       "      <td>-4.307851e+03</td>\n",
       "    </tr>\n",
       "  </tbody>\n",
       "</table>\n",
       "</div>"
      ],
      "text/plain": [
       "  metric   model_error   error_delta\n",
       "0    SSE  2.718157e+14 -1.926449e+13\n",
       "1    MSE  1.529719e+10 -1.084163e+09\n",
       "2   RMSE  1.236818e+05 -4.307851e+03"
      ]
     },
     "execution_count": 849,
     "metadata": {},
     "output_type": "execute_result"
    }
   ],
   "source": [
    "# add a column to train_eval for the error delta for each metric\n",
    "train_eval['error_delta'] = train_eval.model_error - train_baseline_eval.model_error\n",
    "train_eval"
   ]
  },
  {
   "cell_type": "code",
   "execution_count": 850,
   "id": "ea14a4e2",
   "metadata": {},
   "outputs": [
    {
     "data": {
      "text/plain": [
       "0.0661827757346789"
      ]
     },
     "execution_count": 850,
     "metadata": {},
     "output_type": "execute_result"
    }
   ],
   "source": [
    "r2_score(train.tax_value, train.yhat)"
   ]
  },
  {
   "cell_type": "code",
   "execution_count": 851,
   "id": "a767d7db",
   "metadata": {},
   "outputs": [],
   "source": [
    "cols = ['bathrooms','sqft','year','fips']\n",
    "X_train, y_train = train[cols], train.tax_value\n",
    "X_validate, y_validate = validate[cols], validate.tax_value\n",
    "X_test, y_test = test[cols], test.tax_value"
   ]
  },
  {
   "cell_type": "code",
   "execution_count": 852,
   "id": "5f1f6701",
   "metadata": {},
   "outputs": [],
   "source": [
    "baseline = train.tax_value.mean()"
   ]
  },
  {
   "cell_type": "code",
   "execution_count": 853,
   "id": "6a0ac404",
   "metadata": {},
   "outputs": [],
   "source": [
    "train['baseline'] = baseline\n",
    "validate['baseline'] = validate.tax_value.mean()"
   ]
  },
  {
   "cell_type": "code",
   "execution_count": 854,
   "id": "8049ebf2",
   "metadata": {},
   "outputs": [],
   "source": [
    "X_train_scaled, X_validate_scaled, X_test_scaled = wrangle.minmax_scaler(X_train, X_validate, X_test)"
   ]
  },
  {
   "cell_type": "code",
   "execution_count": 855,
   "id": "2805d7cd",
   "metadata": {},
   "outputs": [],
   "source": [
    "ols_model = LinearRegression().fit(X_train_scaled, train.tax_value)"
   ]
  },
  {
   "cell_type": "code",
   "execution_count": 856,
   "id": "c7abff47",
   "metadata": {},
   "outputs": [],
   "source": [
    "train['yhat'] = ols_model.predict(X_train_scaled)"
   ]
  },
  {
   "cell_type": "code",
   "execution_count": 857,
   "id": "cf69c110",
   "metadata": {},
   "outputs": [],
   "source": [
    "y = train.tax_value\n",
    "yhat = train.yhat"
   ]
  },
  {
   "cell_type": "code",
   "execution_count": 858,
   "id": "c6183b2f",
   "metadata": {},
   "outputs": [],
   "source": [
    "# create column for model residual error\n",
    "train['residual'] = train.yhat - train.tax_value\n",
    "# create column for baseline residual error\n",
    "train['residual_baseline'] = train.baseline - train.tax_value"
   ]
  },
  {
   "cell_type": "code",
   "execution_count": 859,
   "id": "4da695cb",
   "metadata": {},
   "outputs": [],
   "source": [
    "# calculate the model's sum of squares error for the selected variables against the target variable\n",
    "SSE = mean_squared_error(train.tax_value, train.yhat)*len(train)\n",
    "# calculate the baseline's sum of squares error for the selected variables against the target variable\n",
    "SSE_baseline = mean_squared_error(train.tax_value, train.baseline)*len(train)\n",
    "# calculate the model mean squared error for the selected variables against the target variable\n",
    "MSE = mean_squared_error(train.tax_value, train.yhat)\n",
    "# calculate the baseline mean squared error for the selected variables against the target variable\n",
    "MSE_baseline = mean_squared_error(train.tax_value, train.baseline)\n",
    "# calculate the model root mean squared error for the selected variables against the target variable\n",
    "RMSE = sqrt(mean_squared_error(train.tax_value, train.yhat))\n",
    "# calculate the baseline root mean squared error for the selected variables against the target variable\n",
    "RMSE_baseline = sqrt(mean_squared_error(train.tax_value, train.baseline))"
   ]
  },
  {
   "cell_type": "code",
   "execution_count": 860,
   "id": "07470e4b",
   "metadata": {},
   "outputs": [
    {
     "name": "stdout",
     "output_type": "stream",
     "text": [
      "  metric   model_error\n",
      "0    SSE  2.697174e+14\n",
      "1    MSE  1.517910e+10\n",
      "2   RMSE  1.232035e+05\n",
      "          metric   model_error\n",
      "0   SSE_baseline  2.910802e+14\n",
      "1   MSE_baseline  1.638135e+10\n",
      "2  RMSE_baseline  1.279896e+05\n"
     ]
    }
   ],
   "source": [
    "# create a dataframe for the model SSE, MSE, RMSE\n",
    "train_eval = pd.DataFrame(np.array(['SSE','MSE','RMSE']), columns=['metric'])\n",
    "# create a dataframe to show the baseline SSE, MSE, RMSE\n",
    "train_baseline_eval = pd.DataFrame(np.array(['SSE_baseline','MSE_baseline','RMSE_baseline']), columns=['metric'])\n",
    "# add a column to the train_eval dataframe for the values associated with each model metric\n",
    "train_eval['model_error'] = np.array([SSE, MSE, RMSE])\n",
    "# add a column to the train_baseline_eval for the values associated with each baseline metric\n",
    "train_baseline_eval['model_error'] = np.array([SSE_baseline, MSE_baseline, RMSE_baseline])\n",
    "# print the dataframes\n",
    "print(train_eval)\n",
    "print(train_baseline_eval)"
   ]
  },
  {
   "cell_type": "code",
   "execution_count": 861,
   "id": "d13c4d7c",
   "metadata": {},
   "outputs": [
    {
     "data": {
      "text/html": [
       "<div>\n",
       "<style scoped>\n",
       "    .dataframe tbody tr th:only-of-type {\n",
       "        vertical-align: middle;\n",
       "    }\n",
       "\n",
       "    .dataframe tbody tr th {\n",
       "        vertical-align: top;\n",
       "    }\n",
       "\n",
       "    .dataframe thead th {\n",
       "        text-align: right;\n",
       "    }\n",
       "</style>\n",
       "<table border=\"1\" class=\"dataframe\">\n",
       "  <thead>\n",
       "    <tr style=\"text-align: right;\">\n",
       "      <th></th>\n",
       "      <th>metric</th>\n",
       "      <th>model_error</th>\n",
       "      <th>error_delta</th>\n",
       "    </tr>\n",
       "  </thead>\n",
       "  <tbody>\n",
       "    <tr>\n",
       "      <th>0</th>\n",
       "      <td>SSE</td>\n",
       "      <td>2.697174e+14</td>\n",
       "      <td>-2.136281e+13</td>\n",
       "    </tr>\n",
       "    <tr>\n",
       "      <th>1</th>\n",
       "      <td>MSE</td>\n",
       "      <td>1.517910e+10</td>\n",
       "      <td>-1.202252e+09</td>\n",
       "    </tr>\n",
       "    <tr>\n",
       "      <th>2</th>\n",
       "      <td>RMSE</td>\n",
       "      <td>1.232035e+05</td>\n",
       "      <td>-4.786165e+03</td>\n",
       "    </tr>\n",
       "  </tbody>\n",
       "</table>\n",
       "</div>"
      ],
      "text/plain": [
       "  metric   model_error   error_delta\n",
       "0    SSE  2.697174e+14 -2.136281e+13\n",
       "1    MSE  1.517910e+10 -1.202252e+09\n",
       "2   RMSE  1.232035e+05 -4.786165e+03"
      ]
     },
     "execution_count": 861,
     "metadata": {},
     "output_type": "execute_result"
    }
   ],
   "source": [
    "# add a column to train_eval for the error delta for each metric\n",
    "train_eval['error_delta'] = train_eval.model_error - train_baseline_eval.model_error\n",
    "train_eval"
   ]
  },
  {
   "cell_type": "code",
   "execution_count": 862,
   "id": "eedc0010",
   "metadata": {},
   "outputs": [
    {
     "data": {
      "text/plain": [
       "0.07339150332853817"
      ]
     },
     "execution_count": 862,
     "metadata": {},
     "output_type": "execute_result"
    }
   ],
   "source": [
    "r2_score(train.tax_value, train.yhat)"
   ]
  },
  {
   "cell_type": "code",
   "execution_count": 863,
   "id": "c1da5496",
   "metadata": {},
   "outputs": [],
   "source": [
    "df.fips = df.fips.astype(str)"
   ]
  },
  {
   "cell_type": "code",
   "execution_count": 864,
   "id": "85d93709",
   "metadata": {},
   "outputs": [],
   "source": [
    "df.county = df.county.astype(str)"
   ]
  },
  {
   "cell_type": "code",
   "execution_count": 865,
   "id": "79164c9b",
   "metadata": {},
   "outputs": [],
   "source": [
    "# create dummies for the 'day' and 'time' columns\n",
    "dummy_df = pd.get_dummies(df[['fips', 'county']], dummy_na=False)\n",
    "# concatenate the dummy columns and the original dataframe\n",
    "df = pd.concat([df, dummy_df], axis=1)"
   ]
  },
  {
   "cell_type": "code",
   "execution_count": 62,
   "id": "f4d6c3c7",
   "metadata": {},
   "outputs": [
    {
     "data": {
      "text/html": [
       "<div>\n",
       "<style scoped>\n",
       "    .dataframe tbody tr th:only-of-type {\n",
       "        vertical-align: middle;\n",
       "    }\n",
       "\n",
       "    .dataframe tbody tr th {\n",
       "        vertical-align: top;\n",
       "    }\n",
       "\n",
       "    .dataframe thead th {\n",
       "        text-align: right;\n",
       "    }\n",
       "</style>\n",
       "<table border=\"1\" class=\"dataframe\">\n",
       "  <thead>\n",
       "    <tr style=\"text-align: right;\">\n",
       "      <th></th>\n",
       "      <th>bathrooms</th>\n",
       "      <th>bedrooms</th>\n",
       "      <th>sqft</th>\n",
       "      <th>fips</th>\n",
       "      <th>lot_size</th>\n",
       "      <th>county</th>\n",
       "      <th>year</th>\n",
       "      <th>tax_value</th>\n",
       "      <th>fips_6037</th>\n",
       "      <th>fips_6059</th>\n",
       "      <th>fips_6111</th>\n",
       "      <th>county_1286.0</th>\n",
       "      <th>county_2061.0</th>\n",
       "      <th>county_3101.0</th>\n",
       "    </tr>\n",
       "  </thead>\n",
       "  <tbody>\n",
       "    <tr>\n",
       "      <th>4</th>\n",
       "      <td>2.0</td>\n",
       "      <td>4</td>\n",
       "      <td>3633.0</td>\n",
       "      <td>6037</td>\n",
       "      <td>9826.0</td>\n",
       "      <td>3101.0</td>\n",
       "      <td>2005</td>\n",
       "      <td>296425.0</td>\n",
       "      <td>1</td>\n",
       "      <td>0</td>\n",
       "      <td>0</td>\n",
       "      <td>0</td>\n",
       "      <td>0</td>\n",
       "      <td>1</td>\n",
       "    </tr>\n",
       "    <tr>\n",
       "      <th>18</th>\n",
       "      <td>1.0</td>\n",
       "      <td>3</td>\n",
       "      <td>1244.0</td>\n",
       "      <td>6037</td>\n",
       "      <td>6021.0</td>\n",
       "      <td>3101.0</td>\n",
       "      <td>1950</td>\n",
       "      <td>169471.0</td>\n",
       "      <td>1</td>\n",
       "      <td>0</td>\n",
       "      <td>0</td>\n",
       "      <td>0</td>\n",
       "      <td>0</td>\n",
       "      <td>1</td>\n",
       "    </tr>\n",
       "    <tr>\n",
       "      <th>19</th>\n",
       "      <td>2.0</td>\n",
       "      <td>3</td>\n",
       "      <td>1300.0</td>\n",
       "      <td>6037</td>\n",
       "      <td>4917.0</td>\n",
       "      <td>3101.0</td>\n",
       "      <td>1950</td>\n",
       "      <td>233266.0</td>\n",
       "      <td>1</td>\n",
       "      <td>0</td>\n",
       "      <td>0</td>\n",
       "      <td>0</td>\n",
       "      <td>0</td>\n",
       "      <td>1</td>\n",
       "    </tr>\n",
       "    <tr>\n",
       "      <th>20</th>\n",
       "      <td>2.0</td>\n",
       "      <td>3</td>\n",
       "      <td>1222.0</td>\n",
       "      <td>6037</td>\n",
       "      <td>5500.0</td>\n",
       "      <td>3101.0</td>\n",
       "      <td>1951</td>\n",
       "      <td>290492.0</td>\n",
       "      <td>1</td>\n",
       "      <td>0</td>\n",
       "      <td>0</td>\n",
       "      <td>0</td>\n",
       "      <td>0</td>\n",
       "      <td>1</td>\n",
       "    </tr>\n",
       "    <tr>\n",
       "      <th>23</th>\n",
       "      <td>2.5</td>\n",
       "      <td>3</td>\n",
       "      <td>1821.0</td>\n",
       "      <td>6059</td>\n",
       "      <td>2442.0</td>\n",
       "      <td>1286.0</td>\n",
       "      <td>2013</td>\n",
       "      <td>537949.0</td>\n",
       "      <td>0</td>\n",
       "      <td>1</td>\n",
       "      <td>0</td>\n",
       "      <td>1</td>\n",
       "      <td>0</td>\n",
       "      <td>0</td>\n",
       "    </tr>\n",
       "    <tr>\n",
       "      <th>...</th>\n",
       "      <td>...</td>\n",
       "      <td>...</td>\n",
       "      <td>...</td>\n",
       "      <td>...</td>\n",
       "      <td>...</td>\n",
       "      <td>...</td>\n",
       "      <td>...</td>\n",
       "      <td>...</td>\n",
       "      <td>...</td>\n",
       "      <td>...</td>\n",
       "      <td>...</td>\n",
       "      <td>...</td>\n",
       "      <td>...</td>\n",
       "      <td>...</td>\n",
       "    </tr>\n",
       "    <tr>\n",
       "      <th>56074</th>\n",
       "      <td>2.0</td>\n",
       "      <td>2</td>\n",
       "      <td>1362.0</td>\n",
       "      <td>6037</td>\n",
       "      <td>6854.0</td>\n",
       "      <td>3101.0</td>\n",
       "      <td>1996</td>\n",
       "      <td>127276.0</td>\n",
       "      <td>1</td>\n",
       "      <td>0</td>\n",
       "      <td>0</td>\n",
       "      <td>0</td>\n",
       "      <td>0</td>\n",
       "      <td>1</td>\n",
       "    </tr>\n",
       "    <tr>\n",
       "      <th>56075</th>\n",
       "      <td>2.0</td>\n",
       "      <td>3</td>\n",
       "      <td>1600.0</td>\n",
       "      <td>6037</td>\n",
       "      <td>6709.0</td>\n",
       "      <td>3101.0</td>\n",
       "      <td>1992</td>\n",
       "      <td>180715.0</td>\n",
       "      <td>1</td>\n",
       "      <td>0</td>\n",
       "      <td>0</td>\n",
       "      <td>0</td>\n",
       "      <td>0</td>\n",
       "      <td>1</td>\n",
       "    </tr>\n",
       "    <tr>\n",
       "      <th>56076</th>\n",
       "      <td>3.0</td>\n",
       "      <td>4</td>\n",
       "      <td>1921.0</td>\n",
       "      <td>6037</td>\n",
       "      <td>6763.0</td>\n",
       "      <td>3101.0</td>\n",
       "      <td>1990</td>\n",
       "      <td>162019.0</td>\n",
       "      <td>1</td>\n",
       "      <td>0</td>\n",
       "      <td>0</td>\n",
       "      <td>0</td>\n",
       "      <td>0</td>\n",
       "      <td>1</td>\n",
       "    </tr>\n",
       "    <tr>\n",
       "      <th>56077</th>\n",
       "      <td>3.0</td>\n",
       "      <td>4</td>\n",
       "      <td>1780.0</td>\n",
       "      <td>6037</td>\n",
       "      <td>6822.0</td>\n",
       "      <td>3101.0</td>\n",
       "      <td>1989</td>\n",
       "      <td>125923.0</td>\n",
       "      <td>1</td>\n",
       "      <td>0</td>\n",
       "      <td>0</td>\n",
       "      <td>0</td>\n",
       "      <td>0</td>\n",
       "      <td>1</td>\n",
       "    </tr>\n",
       "    <tr>\n",
       "      <th>56078</th>\n",
       "      <td>2.0</td>\n",
       "      <td>3</td>\n",
       "      <td>1549.0</td>\n",
       "      <td>6037</td>\n",
       "      <td>6987.0</td>\n",
       "      <td>3101.0</td>\n",
       "      <td>1990</td>\n",
       "      <td>198988.0</td>\n",
       "      <td>1</td>\n",
       "      <td>0</td>\n",
       "      <td>0</td>\n",
       "      <td>0</td>\n",
       "      <td>0</td>\n",
       "      <td>1</td>\n",
       "    </tr>\n",
       "  </tbody>\n",
       "</table>\n",
       "<p>29615 rows × 14 columns</p>\n",
       "</div>"
      ],
      "text/plain": [
       "       bathrooms  bedrooms    sqft  fips  lot_size  county  year  tax_value  \\\n",
       "4            2.0         4  3633.0  6037    9826.0  3101.0  2005   296425.0   \n",
       "18           1.0         3  1244.0  6037    6021.0  3101.0  1950   169471.0   \n",
       "19           2.0         3  1300.0  6037    4917.0  3101.0  1950   233266.0   \n",
       "20           2.0         3  1222.0  6037    5500.0  3101.0  1951   290492.0   \n",
       "23           2.5         3  1821.0  6059    2442.0  1286.0  2013   537949.0   \n",
       "...          ...       ...     ...   ...       ...     ...   ...        ...   \n",
       "56074        2.0         2  1362.0  6037    6854.0  3101.0  1996   127276.0   \n",
       "56075        2.0         3  1600.0  6037    6709.0  3101.0  1992   180715.0   \n",
       "56076        3.0         4  1921.0  6037    6763.0  3101.0  1990   162019.0   \n",
       "56077        3.0         4  1780.0  6037    6822.0  3101.0  1989   125923.0   \n",
       "56078        2.0         3  1549.0  6037    6987.0  3101.0  1990   198988.0   \n",
       "\n",
       "       fips_6037  fips_6059  fips_6111  county_1286.0  county_2061.0  \\\n",
       "4              1          0          0              0              0   \n",
       "18             1          0          0              0              0   \n",
       "19             1          0          0              0              0   \n",
       "20             1          0          0              0              0   \n",
       "23             0          1          0              1              0   \n",
       "...          ...        ...        ...            ...            ...   \n",
       "56074          1          0          0              0              0   \n",
       "56075          1          0          0              0              0   \n",
       "56076          1          0          0              0              0   \n",
       "56077          1          0          0              0              0   \n",
       "56078          1          0          0              0              0   \n",
       "\n",
       "       county_3101.0  \n",
       "4                  1  \n",
       "18                 1  \n",
       "19                 1  \n",
       "20                 1  \n",
       "23                 0  \n",
       "...              ...  \n",
       "56074              1  \n",
       "56075              1  \n",
       "56076              1  \n",
       "56077              1  \n",
       "56078              1  \n",
       "\n",
       "[29615 rows x 14 columns]"
      ]
     },
     "execution_count": 62,
     "metadata": {},
     "output_type": "execute_result"
    }
   ],
   "source": [
    "df"
   ]
  },
  {
   "cell_type": "code",
   "execution_count": 63,
   "id": "6116f7f3",
   "metadata": {},
   "outputs": [],
   "source": [
    "df['bed_bath'] = df.bathrooms + df.bedrooms"
   ]
  },
  {
   "cell_type": "code",
   "execution_count": 64,
   "id": "0c0f7164",
   "metadata": {},
   "outputs": [],
   "source": [
    "df.fips = df.fips.astype(int)"
   ]
  },
  {
   "cell_type": "code",
   "execution_count": 66,
   "id": "c83affd7",
   "metadata": {},
   "outputs": [],
   "source": [
    "df.county = df.county.astype(float)"
   ]
  },
  {
   "cell_type": "code",
   "execution_count": 67,
   "id": "82706ce2",
   "metadata": {},
   "outputs": [],
   "source": [
    "train, validate, test = wrangle.split_data(df)"
   ]
  },
  {
   "cell_type": "code",
   "execution_count": 68,
   "id": "9c40a403",
   "metadata": {},
   "outputs": [
    {
     "data": {
      "text/html": [
       "<div>\n",
       "<style scoped>\n",
       "    .dataframe tbody tr th:only-of-type {\n",
       "        vertical-align: middle;\n",
       "    }\n",
       "\n",
       "    .dataframe tbody tr th {\n",
       "        vertical-align: top;\n",
       "    }\n",
       "\n",
       "    .dataframe thead th {\n",
       "        text-align: right;\n",
       "    }\n",
       "</style>\n",
       "<table border=\"1\" class=\"dataframe\">\n",
       "  <thead>\n",
       "    <tr style=\"text-align: right;\">\n",
       "      <th></th>\n",
       "      <th>bathrooms</th>\n",
       "      <th>bedrooms</th>\n",
       "      <th>sqft</th>\n",
       "      <th>fips</th>\n",
       "      <th>lot_size</th>\n",
       "      <th>county</th>\n",
       "      <th>year</th>\n",
       "      <th>tax_value</th>\n",
       "      <th>fips_6037</th>\n",
       "      <th>fips_6059</th>\n",
       "      <th>fips_6111</th>\n",
       "      <th>county_1286.0</th>\n",
       "      <th>county_2061.0</th>\n",
       "      <th>county_3101.0</th>\n",
       "      <th>bed_bath</th>\n",
       "    </tr>\n",
       "  </thead>\n",
       "  <tbody>\n",
       "    <tr>\n",
       "      <th>count</th>\n",
       "      <td>17769.000000</td>\n",
       "      <td>17769.000000</td>\n",
       "      <td>17769.000000</td>\n",
       "      <td>17769.000000</td>\n",
       "      <td>17769.000000</td>\n",
       "      <td>17769.000000</td>\n",
       "      <td>17769.000000</td>\n",
       "      <td>17769.000000</td>\n",
       "      <td>17769.000000</td>\n",
       "      <td>17769.000000</td>\n",
       "      <td>17769.000000</td>\n",
       "      <td>17769.000000</td>\n",
       "      <td>17769.000000</td>\n",
       "      <td>17769.000000</td>\n",
       "      <td>17769.000000</td>\n",
       "    </tr>\n",
       "    <tr>\n",
       "      <th>mean</th>\n",
       "      <td>1.945354</td>\n",
       "      <td>3.087737</td>\n",
       "      <td>1536.558557</td>\n",
       "      <td>6048.476391</td>\n",
       "      <td>6341.957904</td>\n",
       "      <td>2583.193427</td>\n",
       "      <td>1958.425685</td>\n",
       "      <td>312117.110755</td>\n",
       "      <td>0.678541</td>\n",
       "      <td>0.236761</td>\n",
       "      <td>0.084698</td>\n",
       "      <td>0.236761</td>\n",
       "      <td>0.084698</td>\n",
       "      <td>0.678541</td>\n",
       "      <td>5.033091</td>\n",
       "    </tr>\n",
       "    <tr>\n",
       "      <th>std</th>\n",
       "      <td>0.634975</td>\n",
       "      <td>0.693372</td>\n",
       "      <td>477.561281</td>\n",
       "      <td>21.135666</td>\n",
       "      <td>1597.650056</td>\n",
       "      <td>776.828553</td>\n",
       "      <td>19.976436</td>\n",
       "      <td>127993.244482</td>\n",
       "      <td>0.467050</td>\n",
       "      <td>0.425106</td>\n",
       "      <td>0.278440</td>\n",
       "      <td>0.425106</td>\n",
       "      <td>0.278440</td>\n",
       "      <td>0.467050</td>\n",
       "      <td>1.168313</td>\n",
       "    </tr>\n",
       "    <tr>\n",
       "      <th>min</th>\n",
       "      <td>1.000000</td>\n",
       "      <td>1.000000</td>\n",
       "      <td>702.000000</td>\n",
       "      <td>6037.000000</td>\n",
       "      <td>1010.000000</td>\n",
       "      <td>1286.000000</td>\n",
       "      <td>1880.000000</td>\n",
       "      <td>100002.000000</td>\n",
       "      <td>0.000000</td>\n",
       "      <td>0.000000</td>\n",
       "      <td>0.000000</td>\n",
       "      <td>0.000000</td>\n",
       "      <td>0.000000</td>\n",
       "      <td>0.000000</td>\n",
       "      <td>2.000000</td>\n",
       "    </tr>\n",
       "    <tr>\n",
       "      <th>25%</th>\n",
       "      <td>2.000000</td>\n",
       "      <td>3.000000</td>\n",
       "      <td>1196.000000</td>\n",
       "      <td>6037.000000</td>\n",
       "      <td>5421.000000</td>\n",
       "      <td>2061.000000</td>\n",
       "      <td>1949.000000</td>\n",
       "      <td>208332.000000</td>\n",
       "      <td>0.000000</td>\n",
       "      <td>0.000000</td>\n",
       "      <td>0.000000</td>\n",
       "      <td>0.000000</td>\n",
       "      <td>0.000000</td>\n",
       "      <td>0.000000</td>\n",
       "      <td>4.000000</td>\n",
       "    </tr>\n",
       "    <tr>\n",
       "      <th>50%</th>\n",
       "      <td>2.000000</td>\n",
       "      <td>3.000000</td>\n",
       "      <td>1458.000000</td>\n",
       "      <td>6037.000000</td>\n",
       "      <td>6327.000000</td>\n",
       "      <td>3101.000000</td>\n",
       "      <td>1956.000000</td>\n",
       "      <td>296585.000000</td>\n",
       "      <td>1.000000</td>\n",
       "      <td>0.000000</td>\n",
       "      <td>0.000000</td>\n",
       "      <td>0.000000</td>\n",
       "      <td>0.000000</td>\n",
       "      <td>1.000000</td>\n",
       "      <td>5.000000</td>\n",
       "    </tr>\n",
       "    <tr>\n",
       "      <th>75%</th>\n",
       "      <td>2.000000</td>\n",
       "      <td>4.000000</td>\n",
       "      <td>1800.000000</td>\n",
       "      <td>6059.000000</td>\n",
       "      <td>7389.000000</td>\n",
       "      <td>3101.000000</td>\n",
       "      <td>1971.000000</td>\n",
       "      <td>408353.000000</td>\n",
       "      <td>1.000000</td>\n",
       "      <td>0.000000</td>\n",
       "      <td>0.000000</td>\n",
       "      <td>0.000000</td>\n",
       "      <td>0.000000</td>\n",
       "      <td>1.000000</td>\n",
       "      <td>6.000000</td>\n",
       "    </tr>\n",
       "    <tr>\n",
       "      <th>max</th>\n",
       "      <td>3.500000</td>\n",
       "      <td>4.000000</td>\n",
       "      <td>4314.000000</td>\n",
       "      <td>6111.000000</td>\n",
       "      <td>9999.000000</td>\n",
       "      <td>3101.000000</td>\n",
       "      <td>2015.000000</td>\n",
       "      <td>599833.000000</td>\n",
       "      <td>1.000000</td>\n",
       "      <td>1.000000</td>\n",
       "      <td>1.000000</td>\n",
       "      <td>1.000000</td>\n",
       "      <td>1.000000</td>\n",
       "      <td>1.000000</td>\n",
       "      <td>7.500000</td>\n",
       "    </tr>\n",
       "  </tbody>\n",
       "</table>\n",
       "</div>"
      ],
      "text/plain": [
       "          bathrooms      bedrooms          sqft          fips      lot_size  \\\n",
       "count  17769.000000  17769.000000  17769.000000  17769.000000  17769.000000   \n",
       "mean       1.945354      3.087737   1536.558557   6048.476391   6341.957904   \n",
       "std        0.634975      0.693372    477.561281     21.135666   1597.650056   \n",
       "min        1.000000      1.000000    702.000000   6037.000000   1010.000000   \n",
       "25%        2.000000      3.000000   1196.000000   6037.000000   5421.000000   \n",
       "50%        2.000000      3.000000   1458.000000   6037.000000   6327.000000   \n",
       "75%        2.000000      4.000000   1800.000000   6059.000000   7389.000000   \n",
       "max        3.500000      4.000000   4314.000000   6111.000000   9999.000000   \n",
       "\n",
       "             county          year      tax_value     fips_6037     fips_6059  \\\n",
       "count  17769.000000  17769.000000   17769.000000  17769.000000  17769.000000   \n",
       "mean    2583.193427   1958.425685  312117.110755      0.678541      0.236761   \n",
       "std      776.828553     19.976436  127993.244482      0.467050      0.425106   \n",
       "min     1286.000000   1880.000000  100002.000000      0.000000      0.000000   \n",
       "25%     2061.000000   1949.000000  208332.000000      0.000000      0.000000   \n",
       "50%     3101.000000   1956.000000  296585.000000      1.000000      0.000000   \n",
       "75%     3101.000000   1971.000000  408353.000000      1.000000      0.000000   \n",
       "max     3101.000000   2015.000000  599833.000000      1.000000      1.000000   \n",
       "\n",
       "          fips_6111  county_1286.0  county_2061.0  county_3101.0      bed_bath  \n",
       "count  17769.000000   17769.000000   17769.000000   17769.000000  17769.000000  \n",
       "mean       0.084698       0.236761       0.084698       0.678541      5.033091  \n",
       "std        0.278440       0.425106       0.278440       0.467050      1.168313  \n",
       "min        0.000000       0.000000       0.000000       0.000000      2.000000  \n",
       "25%        0.000000       0.000000       0.000000       0.000000      4.000000  \n",
       "50%        0.000000       0.000000       0.000000       1.000000      5.000000  \n",
       "75%        0.000000       0.000000       0.000000       1.000000      6.000000  \n",
       "max        1.000000       1.000000       1.000000       1.000000      7.500000  "
      ]
     },
     "execution_count": 68,
     "metadata": {},
     "output_type": "execute_result"
    }
   ],
   "source": [
    "train.describe()"
   ]
  },
  {
   "cell_type": "code",
   "execution_count": 69,
   "id": "38718262",
   "metadata": {},
   "outputs": [
    {
     "name": "stdout",
     "output_type": "stream",
     "text": [
      "<class 'pandas.core.frame.DataFrame'>\n",
      "Int64Index: 17769 entries, 44874 to 33389\n",
      "Data columns (total 15 columns):\n",
      " #   Column         Non-Null Count  Dtype  \n",
      "---  ------         --------------  -----  \n",
      " 0   bathrooms      17769 non-null  float64\n",
      " 1   bedrooms       17769 non-null  int64  \n",
      " 2   sqft           17769 non-null  float64\n",
      " 3   fips           17769 non-null  int64  \n",
      " 4   lot_size       17769 non-null  float64\n",
      " 5   county         17769 non-null  float64\n",
      " 6   year           17769 non-null  int64  \n",
      " 7   tax_value      17769 non-null  float64\n",
      " 8   fips_6037      17769 non-null  uint8  \n",
      " 9   fips_6059      17769 non-null  uint8  \n",
      " 10  fips_6111      17769 non-null  uint8  \n",
      " 11  county_1286.0  17769 non-null  uint8  \n",
      " 12  county_2061.0  17769 non-null  uint8  \n",
      " 13  county_3101.0  17769 non-null  uint8  \n",
      " 14  bed_bath       17769 non-null  float64\n",
      "dtypes: float64(6), int64(3), uint8(6)\n",
      "memory usage: 1.5 MB\n"
     ]
    }
   ],
   "source": [
    "train.info()"
   ]
  },
  {
   "cell_type": "code",
   "execution_count": null,
   "id": "f164e76f",
   "metadata": {},
   "outputs": [],
   "source": []
  },
  {
   "cell_type": "code",
   "execution_count": 737,
   "id": "5f0b71b1",
   "metadata": {},
   "outputs": [],
   "source": [
    "cols = ['bathrooms','sqft','fips_6037','bed_bath','bedrooms','lot_size','year']\n",
    "X_train, y_train = train[cols], train[['tax_value']]\n",
    "X_validate, y_validate = validate[cols], validate[['tax_value']]\n",
    "X_test, y_test = test[cols], test[['tax_value']]"
   ]
  },
  {
   "cell_type": "code",
   "execution_count": 738,
   "id": "3772157a",
   "metadata": {},
   "outputs": [],
   "source": [
    "X_train_scaled, X_validate_scaled, X_test_scaled = wrangle.quantile_scaler(X_train, X_validate, X_test)"
   ]
  },
  {
   "cell_type": "code",
   "execution_count": 739,
   "id": "d87294fd",
   "metadata": {},
   "outputs": [],
   "source": [
    "baseline = train.tax_value.mean()"
   ]
  },
  {
   "cell_type": "code",
   "execution_count": 740,
   "id": "a878c4d6",
   "metadata": {},
   "outputs": [],
   "source": [
    "train['baseline'] = baseline"
   ]
  },
  {
   "cell_type": "code",
   "execution_count": 741,
   "id": "f61f9086",
   "metadata": {},
   "outputs": [],
   "source": [
    "validate['baseline'] = validate.tax_value.mean()"
   ]
  },
  {
   "cell_type": "code",
   "execution_count": 742,
   "id": "d3999040",
   "metadata": {},
   "outputs": [],
   "source": [
    "ols_model = LinearRegression().fit(X_train_scaled, train.tax_value)"
   ]
  },
  {
   "cell_type": "code",
   "execution_count": 743,
   "id": "ec759428",
   "metadata": {},
   "outputs": [],
   "source": [
    "train['yhat'] = ols_model.predict(X_train_scaled)"
   ]
  },
  {
   "cell_type": "code",
   "execution_count": 744,
   "id": "7cb9daec",
   "metadata": {},
   "outputs": [],
   "source": [
    "y = train.tax_value\n",
    "yhat = train.yhat"
   ]
  },
  {
   "cell_type": "code",
   "execution_count": 745,
   "id": "8fc740d5",
   "metadata": {},
   "outputs": [],
   "source": [
    "# create column for model residual error\n",
    "train['residual'] = train.yhat - train.tax_value\n",
    "# create column for baseline residual error\n",
    "train['residual_baseline'] = train.baseline - train.tax_value"
   ]
  },
  {
   "cell_type": "code",
   "execution_count": 746,
   "id": "e59cd54c",
   "metadata": {},
   "outputs": [],
   "source": [
    "# calculate the model's sum of squares error for the selected variables against the target variable\n",
    "SSE = mean_squared_error(train.tax_value, train.yhat)*len(train)\n",
    "# calculate the baseline's sum of squares error for the selected variables against the target variable\n",
    "SSE_baseline = mean_squared_error(train.tax_value, train.baseline)*len(train)\n",
    "# calculate the model mean squared error for the selected variables against the target variable\n",
    "MSE = mean_squared_error(train.tax_value, train.yhat)\n",
    "# calculate the baseline mean squared error for the selected variables against the target variable\n",
    "MSE_baseline = mean_squared_error(train.tax_value, train.baseline)\n",
    "# calculate the model root mean squared error for the selected variables against the target variable\n",
    "RMSE = sqrt(mean_squared_error(train.tax_value, train.yhat))\n",
    "# calculate the baseline root mean squared error for the selected variables against the target variable\n",
    "RMSE_baseline = sqrt(mean_squared_error(train.tax_value, train.baseline))"
   ]
  },
  {
   "cell_type": "code",
   "execution_count": 747,
   "id": "83085f9d",
   "metadata": {},
   "outputs": [
    {
     "name": "stdout",
     "output_type": "stream",
     "text": [
      "  metric   model_error\n",
      "0    SSE  2.674299e+14\n",
      "1    MSE  1.505036e+10\n",
      "2   RMSE  1.226799e+05\n",
      "          metric   model_error\n",
      "0   SSE_baseline  2.910802e+14\n",
      "1   MSE_baseline  1.638135e+10\n",
      "2  RMSE_baseline  1.279896e+05\n"
     ]
    }
   ],
   "source": [
    "# create a dataframe for the model SSE, MSE, RMSE\n",
    "train_eval = pd.DataFrame(np.array(['SSE','MSE','RMSE']), columns=['metric'])\n",
    "# create a dataframe to show the baseline SSE, MSE, RMSE\n",
    "train_baseline_eval = pd.DataFrame(np.array(['SSE_baseline','MSE_baseline','RMSE_baseline']), columns=['metric'])\n",
    "# add a column to the train_eval dataframe for the values associated with each model metric\n",
    "train_eval['model_error'] = np.array([SSE, MSE, RMSE])\n",
    "# add a column to the train_baseline_eval for the values associated with each baseline metric\n",
    "train_baseline_eval['model_error'] = np.array([SSE_baseline, MSE_baseline, RMSE_baseline])\n",
    "# print the dataframes\n",
    "print(train_eval)\n",
    "print(train_baseline_eval)"
   ]
  },
  {
   "cell_type": "code",
   "execution_count": 748,
   "id": "925bbb87",
   "metadata": {},
   "outputs": [
    {
     "data": {
      "text/html": [
       "<div>\n",
       "<style scoped>\n",
       "    .dataframe tbody tr th:only-of-type {\n",
       "        vertical-align: middle;\n",
       "    }\n",
       "\n",
       "    .dataframe tbody tr th {\n",
       "        vertical-align: top;\n",
       "    }\n",
       "\n",
       "    .dataframe thead th {\n",
       "        text-align: right;\n",
       "    }\n",
       "</style>\n",
       "<table border=\"1\" class=\"dataframe\">\n",
       "  <thead>\n",
       "    <tr style=\"text-align: right;\">\n",
       "      <th></th>\n",
       "      <th>metric</th>\n",
       "      <th>model_error</th>\n",
       "      <th>error_delta</th>\n",
       "    </tr>\n",
       "  </thead>\n",
       "  <tbody>\n",
       "    <tr>\n",
       "      <th>0</th>\n",
       "      <td>SSE</td>\n",
       "      <td>2.674299e+14</td>\n",
       "      <td>-2.365031e+13</td>\n",
       "    </tr>\n",
       "    <tr>\n",
       "      <th>1</th>\n",
       "      <td>MSE</td>\n",
       "      <td>1.505036e+10</td>\n",
       "      <td>-1.330987e+09</td>\n",
       "    </tr>\n",
       "    <tr>\n",
       "      <th>2</th>\n",
       "      <td>RMSE</td>\n",
       "      <td>1.226799e+05</td>\n",
       "      <td>-5.309728e+03</td>\n",
       "    </tr>\n",
       "  </tbody>\n",
       "</table>\n",
       "</div>"
      ],
      "text/plain": [
       "  metric   model_error   error_delta\n",
       "0    SSE  2.674299e+14 -2.365031e+13\n",
       "1    MSE  1.505036e+10 -1.330987e+09\n",
       "2   RMSE  1.226799e+05 -5.309728e+03"
      ]
     },
     "execution_count": 748,
     "metadata": {},
     "output_type": "execute_result"
    }
   ],
   "source": [
    "# add a column to train_eval for the error delta for each metric\n",
    "train_eval['error_delta'] = train_eval.model_error - train_baseline_eval.model_error\n",
    "train_eval"
   ]
  },
  {
   "cell_type": "code",
   "execution_count": 749,
   "id": "71a59917",
   "metadata": {},
   "outputs": [
    {
     "data": {
      "text/plain": [
       "0.08125016405790919"
      ]
     },
     "execution_count": 749,
     "metadata": {},
     "output_type": "execute_result"
    }
   ],
   "source": [
    "r2_score(train.tax_value, train.yhat)"
   ]
  },
  {
   "cell_type": "code",
   "execution_count": 750,
   "id": "c30fc6f3",
   "metadata": {},
   "outputs": [],
   "source": [
    "X = X_train\n",
    "y = y_train"
   ]
  },
  {
   "cell_type": "code",
   "execution_count": 751,
   "id": "d548bea8",
   "metadata": {},
   "outputs": [],
   "source": [
    "def select_kbest(X, y, k=2):\n",
    "    '''\n",
    "    will take in two pandas objects:\n",
    "    X: a dataframe representing numerical independent features\n",
    "    y: a pandas Series representing a target variable\n",
    "    k: a keyword argument defaulted to 2 for the number of ideal features we elect to select\n",
    "    \n",
    "    return: a list of the selected features from the SelectKBest process\n",
    "    '''\n",
    "    kbest = SelectKBest(f_regression, k=k)\n",
    "    kbest.fit(X, y)\n",
    "    mask = kbest.get_support()\n",
    "    return X.columns[mask]"
   ]
  },
  {
   "cell_type": "code",
   "execution_count": 752,
   "id": "a1a8cf66",
   "metadata": {
    "scrolled": true
   },
   "outputs": [
    {
     "name": "stderr",
     "output_type": "stream",
     "text": [
      "/opt/homebrew/anaconda3/lib/python3.9/site-packages/sklearn/utils/validation.py:993: DataConversionWarning: A column-vector y was passed when a 1d array was expected. Please change the shape of y to (n_samples, ), for example using ravel().\n",
      "  y = column_or_1d(y, warn=True)\n"
     ]
    },
    {
     "data": {
      "text/plain": [
       "Index(['bathrooms', 'sqft', 'fips_6037', 'bed_bath', 'year'], dtype='object')"
      ]
     },
     "execution_count": 752,
     "metadata": {},
     "output_type": "execute_result"
    }
   ],
   "source": [
    "select_kbest(X, y, k=5)"
   ]
  },
  {
   "cell_type": "code",
   "execution_count": 753,
   "id": "638e0317",
   "metadata": {},
   "outputs": [
    {
     "name": "stdout",
     "output_type": "stream",
     "text": [
      "RMSE for Lasso + Lars\n",
      "Training/In-Sample:  122686.20898600366 \n",
      "Validation/Out-of-Sample:  124204.50592545512\n"
     ]
    },
    {
     "name": "stderr",
     "output_type": "stream",
     "text": [
      "/opt/homebrew/anaconda3/lib/python3.9/site-packages/sklearn/linear_model/_base.py:133: FutureWarning: The default of 'normalize' will be set to False in version 1.2 and deprecated in version 1.4.\n",
      "If you wish to scale the data, use Pipeline with a StandardScaler in a preprocessing stage. To reproduce the previous behavior:\n",
      "\n",
      "from sklearn.pipeline import make_pipeline\n",
      "\n",
      "model = make_pipeline(StandardScaler(with_mean=False), LassoLars())\n",
      "\n",
      "If you wish to pass a sample_weight parameter, you need to pass it as a fit parameter to each step of the pipeline as follows:\n",
      "\n",
      "kwargs = {s[0] + '__sample_weight': sample_weight for s in model.steps}\n",
      "model.fit(X, y, **kwargs)\n",
      "\n",
      "Set parameter alpha to: original_alpha * np.sqrt(n_samples). \n",
      "  warnings.warn(\n",
      "/var/folders/5g/xrhpsnj56_v3scw9s4trbgxc0000gn/T/ipykernel_1750/1373569168.py:9: SettingWithCopyWarning: \n",
      "A value is trying to be set on a copy of a slice from a DataFrame.\n",
      "Try using .loc[row_indexer,col_indexer] = value instead\n",
      "\n",
      "See the caveats in the documentation: https://pandas.pydata.org/pandas-docs/stable/user_guide/indexing.html#returning-a-view-versus-a-copy\n",
      "  y_train['tax_pred_lars'] = lars.predict(X_train_scaled)\n",
      "/var/folders/5g/xrhpsnj56_v3scw9s4trbgxc0000gn/T/ipykernel_1750/1373569168.py:15: SettingWithCopyWarning: \n",
      "A value is trying to be set on a copy of a slice from a DataFrame.\n",
      "Try using .loc[row_indexer,col_indexer] = value instead\n",
      "\n",
      "See the caveats in the documentation: https://pandas.pydata.org/pandas-docs/stable/user_guide/indexing.html#returning-a-view-versus-a-copy\n",
      "  y_validate['tax_pred_lars'] = lars.predict(X_validate_scaled)\n"
     ]
    }
   ],
   "source": [
    "# create the model object\n",
    "lars = LassoLars(alpha=1.0)\n",
    "\n",
    "# fit the model to our training data. We must specify the column in y_train, \n",
    "# since we have converted it to a dataframe from a series! \n",
    "lars.fit(X_train_scaled, y_train.tax_value)\n",
    "\n",
    "# predict train\n",
    "y_train['tax_pred_lars'] = lars.predict(X_train_scaled)\n",
    "\n",
    "# evaluate: rmse\n",
    "rmse_train = mean_squared_error(y_train.tax_value, y_train.tax_pred_lars)**(1/2)\n",
    "\n",
    "# predict validate\n",
    "y_validate['tax_pred_lars'] = lars.predict(X_validate_scaled)\n",
    "\n",
    "# evaluate: rmse\n",
    "rmse_validate = mean_squared_error(y_validate.tax_value, y_validate.tax_pred_lars)**(1/2)\n",
    "\n",
    "print(\"RMSE for Lasso + Lars\\nTraining/In-Sample: \", rmse_train, \n",
    "      \"\\nValidation/Out-of-Sample: \", rmse_validate)"
   ]
  },
  {
   "cell_type": "code",
   "execution_count": 754,
   "id": "a4aeae93",
   "metadata": {},
   "outputs": [],
   "source": [
    "train['yhat'] = lars.predict(X_train_scaled)"
   ]
  },
  {
   "cell_type": "code",
   "execution_count": 755,
   "id": "10cec308",
   "metadata": {},
   "outputs": [],
   "source": [
    "y = train.tax_value\n",
    "yhat = train.yhat"
   ]
  },
  {
   "cell_type": "code",
   "execution_count": 756,
   "id": "6e6d4749",
   "metadata": {},
   "outputs": [],
   "source": [
    "# create column for model residual error\n",
    "train['residual'] = train.yhat - train.tax_value\n",
    "# create column for baseline residual error\n",
    "train['residual_baseline'] = train.baseline - train.tax_value"
   ]
  },
  {
   "cell_type": "code",
   "execution_count": 757,
   "id": "96b7673e",
   "metadata": {},
   "outputs": [],
   "source": [
    "# calculate the model's sum of squares error for the selected variables against the target variable\n",
    "SSE = mean_squared_error(train.tax_value, train.yhat)*len(train)\n",
    "# calculate the baseline's sum of squares error for the selected variables against the target variable\n",
    "SSE_baseline = mean_squared_error(train.tax_value, train.baseline)*len(train)\n",
    "# calculate the model mean squared error for the selected variables against the target variable\n",
    "MSE = mean_squared_error(train.tax_value, train.yhat)\n",
    "# calculate the baseline mean squared error for the selected variables against the target variable\n",
    "MSE_baseline = mean_squared_error(train.tax_value, train.baseline)\n",
    "# calculate the model root mean squared error for the selected variables against the target variable\n",
    "RMSE = sqrt(mean_squared_error(train.tax_value, train.yhat))\n",
    "# calculate the baseline root mean squared error for the selected variables against the target variable\n",
    "RMSE_baseline = sqrt(mean_squared_error(train.tax_value, train.baseline))"
   ]
  },
  {
   "cell_type": "code",
   "execution_count": 758,
   "id": "f22c502b",
   "metadata": {},
   "outputs": [
    {
     "name": "stdout",
     "output_type": "stream",
     "text": [
      "  metric   model_error\n",
      "0    SSE  2.674573e+14\n",
      "1    MSE  1.505191e+10\n",
      "2   RMSE  1.226862e+05\n",
      "          metric   model_error\n",
      "0   SSE_baseline  2.910802e+14\n",
      "1   MSE_baseline  1.638135e+10\n",
      "2  RMSE_baseline  1.279896e+05\n"
     ]
    }
   ],
   "source": [
    "# create a dataframe for the model SSE, MSE, RMSE\n",
    "train_eval = pd.DataFrame(np.array(['SSE','MSE','RMSE']), columns=['metric'])\n",
    "# create a dataframe to show the baseline SSE, MSE, RMSE\n",
    "train_baseline_eval = pd.DataFrame(np.array(['SSE_baseline','MSE_baseline','RMSE_baseline']), columns=['metric'])\n",
    "# add a column to the train_eval dataframe for the values associated with each model metric\n",
    "train_eval['model_error'] = np.array([SSE, MSE, RMSE])\n",
    "# add a column to the train_baseline_eval for the values associated with each baseline metric\n",
    "train_baseline_eval['model_error'] = np.array([SSE_baseline, MSE_baseline, RMSE_baseline])\n",
    "# print the dataframes\n",
    "print(train_eval)\n",
    "print(train_baseline_eval)"
   ]
  },
  {
   "cell_type": "code",
   "execution_count": 759,
   "id": "ba196e23",
   "metadata": {},
   "outputs": [
    {
     "data": {
      "text/html": [
       "<div>\n",
       "<style scoped>\n",
       "    .dataframe tbody tr th:only-of-type {\n",
       "        vertical-align: middle;\n",
       "    }\n",
       "\n",
       "    .dataframe tbody tr th {\n",
       "        vertical-align: top;\n",
       "    }\n",
       "\n",
       "    .dataframe thead th {\n",
       "        text-align: right;\n",
       "    }\n",
       "</style>\n",
       "<table border=\"1\" class=\"dataframe\">\n",
       "  <thead>\n",
       "    <tr style=\"text-align: right;\">\n",
       "      <th></th>\n",
       "      <th>metric</th>\n",
       "      <th>model_error</th>\n",
       "      <th>error_delta</th>\n",
       "    </tr>\n",
       "  </thead>\n",
       "  <tbody>\n",
       "    <tr>\n",
       "      <th>0</th>\n",
       "      <td>SSE</td>\n",
       "      <td>2.674573e+14</td>\n",
       "      <td>-2.362287e+13</td>\n",
       "    </tr>\n",
       "    <tr>\n",
       "      <th>1</th>\n",
       "      <td>MSE</td>\n",
       "      <td>1.505191e+10</td>\n",
       "      <td>-1.329443e+09</td>\n",
       "    </tr>\n",
       "    <tr>\n",
       "      <th>2</th>\n",
       "      <td>RMSE</td>\n",
       "      <td>1.226862e+05</td>\n",
       "      <td>-5.303434e+03</td>\n",
       "    </tr>\n",
       "  </tbody>\n",
       "</table>\n",
       "</div>"
      ],
      "text/plain": [
       "  metric   model_error   error_delta\n",
       "0    SSE  2.674573e+14 -2.362287e+13\n",
       "1    MSE  1.505191e+10 -1.329443e+09\n",
       "2   RMSE  1.226862e+05 -5.303434e+03"
      ]
     },
     "execution_count": 759,
     "metadata": {},
     "output_type": "execute_result"
    }
   ],
   "source": [
    "# add a column to train_eval for the error delta for each metric\n",
    "train_eval['error_delta'] = train_eval.model_error - train_baseline_eval.model_error\n",
    "train_eval"
   ]
  },
  {
   "cell_type": "code",
   "execution_count": 760,
   "id": "2ab40e80",
   "metadata": {},
   "outputs": [
    {
     "data": {
      "text/plain": [
       "0.08115588197376433"
      ]
     },
     "execution_count": 760,
     "metadata": {},
     "output_type": "execute_result"
    }
   ],
   "source": [
    "r2_score(train.tax_value, train.yhat)"
   ]
  },
  {
   "cell_type": "code",
   "execution_count": 761,
   "id": "d5c15c29",
   "metadata": {},
   "outputs": [],
   "source": [
    "# make the polynomial features to get a new set of features\n",
    "pf = PolynomialFeatures(degree=3)\n",
    "\n",
    "# fit and transform X_train_scaled\n",
    "X_train_degree2 = pf.fit_transform(X_train_scaled)\n",
    "\n",
    "# transform X_validate_scaled & X_test_scaled\n",
    "X_validate_degree2 = pf.transform(X_validate_scaled)\n",
    "X_test_degree2 = pf.transform(X_test_scaled)"
   ]
  },
  {
   "cell_type": "code",
   "execution_count": 762,
   "id": "3243733e",
   "metadata": {},
   "outputs": [
    {
     "name": "stdout",
     "output_type": "stream",
     "text": [
      "RMSE for Polynomial Model, degrees=3\n",
      "Training/In-Sample:  119968.49900693612 \n",
      "Validation/Out-of-Sample:  121664.07661132184\n"
     ]
    },
    {
     "name": "stderr",
     "output_type": "stream",
     "text": [
      "/var/folders/5g/xrhpsnj56_v3scw9s4trbgxc0000gn/T/ipykernel_1750/945662987.py:9: SettingWithCopyWarning: \n",
      "A value is trying to be set on a copy of a slice from a DataFrame.\n",
      "Try using .loc[row_indexer,col_indexer] = value instead\n",
      "\n",
      "See the caveats in the documentation: https://pandas.pydata.org/pandas-docs/stable/user_guide/indexing.html#returning-a-view-versus-a-copy\n",
      "  y_train['value_pred_lm2'] = lm2.predict(X_train_degree2)\n",
      "/var/folders/5g/xrhpsnj56_v3scw9s4trbgxc0000gn/T/ipykernel_1750/945662987.py:15: SettingWithCopyWarning: \n",
      "A value is trying to be set on a copy of a slice from a DataFrame.\n",
      "Try using .loc[row_indexer,col_indexer] = value instead\n",
      "\n",
      "See the caveats in the documentation: https://pandas.pydata.org/pandas-docs/stable/user_guide/indexing.html#returning-a-view-versus-a-copy\n",
      "  y_validate['value_pred_lm2'] = lm2.predict(X_validate_degree2)\n"
     ]
    }
   ],
   "source": [
    "# create the model object\n",
    "lm2 = LinearRegression()\n",
    "\n",
    "# fit the model to our training data. We must specify the column in y_train, \n",
    "# since we have converted it to a dataframe from a series! \n",
    "lm2.fit(X_train_degree2, y_train.tax_value)\n",
    "\n",
    "# predict train\n",
    "y_train['value_pred_lm2'] = lm2.predict(X_train_degree2)\n",
    "\n",
    "# evaluate: rmse\n",
    "rmse_train = mean_squared_error(y_train.tax_value, y_train.value_pred_lm2)**(1/2)\n",
    "\n",
    "# predict validate\n",
    "y_validate['value_pred_lm2'] = lm2.predict(X_validate_degree2)\n",
    "\n",
    "# evaluate: rmse\n",
    "rmse_validate = mean_squared_error(y_validate.tax_value, y_validate.value_pred_lm2)**(1/2)\n",
    "\n",
    "print(\"RMSE for Polynomial Model, degrees=3\\nTraining/In-Sample: \", rmse_train, \n",
    "      \"\\nValidation/Out-of-Sample: \", rmse_validate)"
   ]
  },
  {
   "cell_type": "code",
   "execution_count": 763,
   "id": "5d7faefb",
   "metadata": {},
   "outputs": [],
   "source": [
    "train['yhat'] = lm2.predict(X_train_degree2)"
   ]
  },
  {
   "cell_type": "code",
   "execution_count": 764,
   "id": "bb612824",
   "metadata": {},
   "outputs": [],
   "source": [
    "y = train.tax_value\n",
    "yhat = train.yhat"
   ]
  },
  {
   "cell_type": "code",
   "execution_count": 765,
   "id": "fb611605",
   "metadata": {},
   "outputs": [],
   "source": [
    "# calculate the model's sum of squares error for the selected variables against the target variable\n",
    "SSE = mean_squared_error(train.tax_value, train.yhat)*len(train)\n",
    "# calculate the baseline's sum of squares error for the selected variables against the target variable\n",
    "SSE_baseline = mean_squared_error(train.tax_value, train.baseline)*len(train)\n",
    "# calculate the model mean squared error for the selected variables against the target variable\n",
    "MSE = mean_squared_error(train.tax_value, train.yhat)\n",
    "# calculate the baseline mean squared error for the selected variables against the target variable\n",
    "MSE_baseline = mean_squared_error(train.tax_value, train.baseline)\n",
    "# calculate the model root mean squared error for the selected variables against the target variable\n",
    "RMSE = sqrt(mean_squared_error(train.tax_value, train.yhat))\n",
    "# calculate the baseline root mean squared error for the selected variables against the target variable\n",
    "RMSE_baseline = sqrt(mean_squared_error(train.tax_value, train.baseline))"
   ]
  },
  {
   "cell_type": "code",
   "execution_count": 766,
   "id": "77c6f849",
   "metadata": {},
   "outputs": [
    {
     "name": "stdout",
     "output_type": "stream",
     "text": [
      "  metric   model_error\n",
      "0    SSE  2.557393e+14\n",
      "1    MSE  1.439244e+10\n",
      "2   RMSE  1.199685e+05\n",
      "          metric   model_error\n",
      "0   SSE_baseline  2.910802e+14\n",
      "1   MSE_baseline  1.638135e+10\n",
      "2  RMSE_baseline  1.279896e+05\n"
     ]
    }
   ],
   "source": [
    "# create a dataframe for the model SSE, MSE, RMSE\n",
    "train_eval = pd.DataFrame(np.array(['SSE','MSE','RMSE']), columns=['metric'])\n",
    "# create a dataframe to show the baseline SSE, MSE, RMSE\n",
    "train_baseline_eval = pd.DataFrame(np.array(['SSE_baseline','MSE_baseline','RMSE_baseline']), columns=['metric'])\n",
    "# add a column to the train_eval dataframe for the values associated with each model metric\n",
    "train_eval['model_error'] = np.array([SSE, MSE, RMSE])\n",
    "# add a column to the train_baseline_eval for the values associated with each baseline metric\n",
    "train_baseline_eval['model_error'] = np.array([SSE_baseline, MSE_baseline, RMSE_baseline])\n",
    "# print the dataframes\n",
    "print(train_eval)\n",
    "print(train_baseline_eval)"
   ]
  },
  {
   "cell_type": "code",
   "execution_count": 767,
   "id": "108dc3bd",
   "metadata": {},
   "outputs": [
    {
     "data": {
      "text/html": [
       "<div>\n",
       "<style scoped>\n",
       "    .dataframe tbody tr th:only-of-type {\n",
       "        vertical-align: middle;\n",
       "    }\n",
       "\n",
       "    .dataframe tbody tr th {\n",
       "        vertical-align: top;\n",
       "    }\n",
       "\n",
       "    .dataframe thead th {\n",
       "        text-align: right;\n",
       "    }\n",
       "</style>\n",
       "<table border=\"1\" class=\"dataframe\">\n",
       "  <thead>\n",
       "    <tr style=\"text-align: right;\">\n",
       "      <th></th>\n",
       "      <th>metric</th>\n",
       "      <th>model_error</th>\n",
       "      <th>error_delta</th>\n",
       "    </tr>\n",
       "  </thead>\n",
       "  <tbody>\n",
       "    <tr>\n",
       "      <th>0</th>\n",
       "      <td>SSE</td>\n",
       "      <td>2.557393e+14</td>\n",
       "      <td>-3.534090e+13</td>\n",
       "    </tr>\n",
       "    <tr>\n",
       "      <th>1</th>\n",
       "      <td>MSE</td>\n",
       "      <td>1.439244e+10</td>\n",
       "      <td>-1.988908e+09</td>\n",
       "    </tr>\n",
       "    <tr>\n",
       "      <th>2</th>\n",
       "      <td>RMSE</td>\n",
       "      <td>1.199685e+05</td>\n",
       "      <td>-8.021144e+03</td>\n",
       "    </tr>\n",
       "  </tbody>\n",
       "</table>\n",
       "</div>"
      ],
      "text/plain": [
       "  metric   model_error   error_delta\n",
       "0    SSE  2.557393e+14 -3.534090e+13\n",
       "1    MSE  1.439244e+10 -1.988908e+09\n",
       "2   RMSE  1.199685e+05 -8.021144e+03"
      ]
     },
     "execution_count": 767,
     "metadata": {},
     "output_type": "execute_result"
    }
   ],
   "source": [
    "# add a column to train_eval for the error delta for each metric\n",
    "train_eval['error_delta'] = train_eval.model_error - train_baseline_eval.model_error\n",
    "train_eval"
   ]
  },
  {
   "cell_type": "code",
   "execution_count": 768,
   "id": "8943c6b4",
   "metadata": {},
   "outputs": [
    {
     "data": {
      "text/plain": [
       "0.12141295326037349"
      ]
     },
     "execution_count": 768,
     "metadata": {},
     "output_type": "execute_result"
    }
   ],
   "source": [
    "r2_score(train.tax_value, train.yhat)"
   ]
  },
  {
   "cell_type": "code",
   "execution_count": null,
   "id": "7d0eab32",
   "metadata": {},
   "outputs": [],
   "source": []
  },
  {
   "cell_type": "code",
   "execution_count": 687,
   "id": "4590b468",
   "metadata": {},
   "outputs": [
    {
     "name": "stdout",
     "output_type": "stream",
     "text": [
      "RMSE for GLM using Tweedie, power=2 & alpha=0\n",
      "Training/In-Sample:  122656.24466940804 \n",
      "Validation/Out-of-Sample:  124241.50593323311\n"
     ]
    },
    {
     "name": "stderr",
     "output_type": "stream",
     "text": [
      "/var/folders/5g/xrhpsnj56_v3scw9s4trbgxc0000gn/T/ipykernel_1750/2010277656.py:9: SettingWithCopyWarning: \n",
      "A value is trying to be set on a copy of a slice from a DataFrame.\n",
      "Try using .loc[row_indexer,col_indexer] = value instead\n",
      "\n",
      "See the caveats in the documentation: https://pandas.pydata.org/pandas-docs/stable/user_guide/indexing.html#returning-a-view-versus-a-copy\n",
      "  y_train['value_pred_glm'] = glm.predict(X_train_scaled)\n",
      "/var/folders/5g/xrhpsnj56_v3scw9s4trbgxc0000gn/T/ipykernel_1750/2010277656.py:15: SettingWithCopyWarning: \n",
      "A value is trying to be set on a copy of a slice from a DataFrame.\n",
      "Try using .loc[row_indexer,col_indexer] = value instead\n",
      "\n",
      "See the caveats in the documentation: https://pandas.pydata.org/pandas-docs/stable/user_guide/indexing.html#returning-a-view-versus-a-copy\n",
      "  y_validate['value_pred_glm'] = glm.predict(X_validate_scaled)\n"
     ]
    }
   ],
   "source": [
    "# create the model object\n",
    "glm = TweedieRegressor(power=2, alpha=0)\n",
    "\n",
    "# fit the model to our training data. We must specify the column in y_train, \n",
    "# since we have converted it to a dataframe from a series! \n",
    "glm.fit(X_train_scaled, y_train.tax_value)\n",
    "\n",
    "# predict train\n",
    "y_train['value_pred_glm'] = glm.predict(X_train_scaled)\n",
    "\n",
    "# evaluate: rmse\n",
    "rmse_train = mean_squared_error(y_train.tax_value, y_train.value_pred_glm)**(1/2)\n",
    "\n",
    "# predict validate\n",
    "y_validate['value_pred_glm'] = glm.predict(X_validate_scaled)\n",
    "\n",
    "# evaluate: rmse\n",
    "rmse_validate = mean_squared_error(y_validate.tax_value, y_validate.value_pred_glm)**(1/2)\n",
    "\n",
    "print(\"RMSE for GLM using Tweedie, power=2 & alpha=0\\nTraining/In-Sample: \", rmse_train, \n",
    "      \"\\nValidation/Out-of-Sample: \", rmse_validate)"
   ]
  },
  {
   "cell_type": "code",
   "execution_count": 688,
   "id": "d6708be9",
   "metadata": {},
   "outputs": [],
   "source": [
    "train['yhat'] = glm.predict(X_train_scaled)"
   ]
  },
  {
   "cell_type": "code",
   "execution_count": 689,
   "id": "9ba3d780",
   "metadata": {},
   "outputs": [],
   "source": [
    "y = train.tax_value\n",
    "yhat = train.yhat"
   ]
  },
  {
   "cell_type": "code",
   "execution_count": 690,
   "id": "164e3d80",
   "metadata": {},
   "outputs": [],
   "source": [
    "# calculate the model's sum of squares error for the selected variables against the target variable\n",
    "SSE = mean_squared_error(train.tax_value, train.yhat)*len(train)\n",
    "# calculate the baseline's sum of squares error for the selected variables against the target variable\n",
    "SSE_baseline = mean_squared_error(train.tax_value, train.baseline)*len(train)\n",
    "# calculate the model mean squared error for the selected variables against the target variable\n",
    "MSE = mean_squared_error(train.tax_value, train.yhat)\n",
    "# calculate the baseline mean squared error for the selected variables against the target variable\n",
    "MSE_baseline = mean_squared_error(train.tax_value, train.baseline)\n",
    "# calculate the model root mean squared error for the selected variables against the target variable\n",
    "RMSE = sqrt(mean_squared_error(train.tax_value, train.yhat))\n",
    "# calculate the baseline root mean squared error for the selected variables against the target variable\n",
    "RMSE_baseline = sqrt(mean_squared_error(train.tax_value, train.baseline))"
   ]
  },
  {
   "cell_type": "code",
   "execution_count": 691,
   "id": "306818d2",
   "metadata": {},
   "outputs": [
    {
     "name": "stdout",
     "output_type": "stream",
     "text": [
      "  metric   model_error\n",
      "0    SSE  2.673267e+14\n",
      "1    MSE  1.504455e+10\n",
      "2   RMSE  1.226562e+05\n",
      "          metric   model_error\n",
      "0   SSE_baseline  2.910802e+14\n",
      "1   MSE_baseline  1.638135e+10\n",
      "2  RMSE_baseline  1.279896e+05\n"
     ]
    }
   ],
   "source": [
    "# create a dataframe for the model SSE, MSE, RMSE\n",
    "train_eval = pd.DataFrame(np.array(['SSE','MSE','RMSE']), columns=['metric'])\n",
    "# create a dataframe to show the baseline SSE, MSE, RMSE\n",
    "train_baseline_eval = pd.DataFrame(np.array(['SSE_baseline','MSE_baseline','RMSE_baseline']), columns=['metric'])\n",
    "# add a column to the train_eval dataframe for the values associated with each model metric\n",
    "train_eval['model_error'] = np.array([SSE, MSE, RMSE])\n",
    "# add a column to the train_baseline_eval for the values associated with each baseline metric\n",
    "train_baseline_eval['model_error'] = np.array([SSE_baseline, MSE_baseline, RMSE_baseline])\n",
    "# print the dataframes\n",
    "print(train_eval)\n",
    "print(train_baseline_eval)"
   ]
  },
  {
   "cell_type": "code",
   "execution_count": 692,
   "id": "c69942b9",
   "metadata": {},
   "outputs": [
    {
     "data": {
      "text/html": [
       "<div>\n",
       "<style scoped>\n",
       "    .dataframe tbody tr th:only-of-type {\n",
       "        vertical-align: middle;\n",
       "    }\n",
       "\n",
       "    .dataframe tbody tr th {\n",
       "        vertical-align: top;\n",
       "    }\n",
       "\n",
       "    .dataframe thead th {\n",
       "        text-align: right;\n",
       "    }\n",
       "</style>\n",
       "<table border=\"1\" class=\"dataframe\">\n",
       "  <thead>\n",
       "    <tr style=\"text-align: right;\">\n",
       "      <th></th>\n",
       "      <th>metric</th>\n",
       "      <th>model_error</th>\n",
       "      <th>error_delta</th>\n",
       "    </tr>\n",
       "  </thead>\n",
       "  <tbody>\n",
       "    <tr>\n",
       "      <th>0</th>\n",
       "      <td>SSE</td>\n",
       "      <td>2.673267e+14</td>\n",
       "      <td>-2.375350e+13</td>\n",
       "    </tr>\n",
       "    <tr>\n",
       "      <th>1</th>\n",
       "      <td>MSE</td>\n",
       "      <td>1.504455e+10</td>\n",
       "      <td>-1.336794e+09</td>\n",
       "    </tr>\n",
       "    <tr>\n",
       "      <th>2</th>\n",
       "      <td>RMSE</td>\n",
       "      <td>1.226562e+05</td>\n",
       "      <td>-5.333398e+03</td>\n",
       "    </tr>\n",
       "  </tbody>\n",
       "</table>\n",
       "</div>"
      ],
      "text/plain": [
       "  metric   model_error   error_delta\n",
       "0    SSE  2.673267e+14 -2.375350e+13\n",
       "1    MSE  1.504455e+10 -1.336794e+09\n",
       "2   RMSE  1.226562e+05 -5.333398e+03"
      ]
     },
     "execution_count": 692,
     "metadata": {},
     "output_type": "execute_result"
    }
   ],
   "source": [
    "# add a column to train_eval for the error delta for each metric\n",
    "train_eval['error_delta'] = train_eval.model_error - train_baseline_eval.model_error\n",
    "train_eval"
   ]
  },
  {
   "cell_type": "code",
   "execution_count": 693,
   "id": "13103d80",
   "metadata": {},
   "outputs": [
    {
     "data": {
      "text/plain": [
       "0.081604655704275"
      ]
     },
     "execution_count": 693,
     "metadata": {},
     "output_type": "execute_result"
    }
   ],
   "source": [
    "r2_score(train.tax_value, train.yhat)"
   ]
  },
  {
   "cell_type": "code",
   "execution_count": 694,
   "id": "94fb76cb",
   "metadata": {},
   "outputs": [],
   "source": [
    "# create column for model residual error\n",
    "train['residual'] = train.yhat - train.tax_value\n",
    "# create column for baseline residual error\n",
    "train['residual_baseline'] = train.baseline - train.tax_value"
   ]
  },
  {
   "cell_type": "code",
   "execution_count": null,
   "id": "9ae13680",
   "metadata": {},
   "outputs": [],
   "source": []
  },
  {
   "cell_type": "code",
   "execution_count": 695,
   "id": "1f5b7d6d",
   "metadata": {},
   "outputs": [],
   "source": [
    "ols_model = LinearRegression().fit(X_validate_scaled, validate.tax_value)"
   ]
  },
  {
   "cell_type": "code",
   "execution_count": 696,
   "id": "eff20bf7",
   "metadata": {},
   "outputs": [],
   "source": [
    "validate['yhat'] = ols_model.predict(X_validate_scaled)"
   ]
  },
  {
   "cell_type": "code",
   "execution_count": 697,
   "id": "f6839486",
   "metadata": {},
   "outputs": [],
   "source": [
    "y = validate.tax_value\n",
    "yhat = validate.yhat"
   ]
  },
  {
   "cell_type": "code",
   "execution_count": 698,
   "id": "df4cff1f",
   "metadata": {},
   "outputs": [],
   "source": [
    "# create column for model residual error\n",
    "validate['residual'] = validate.yhat - validate.tax_value\n",
    "# create column for baseline residual error\n",
    "validate['residual_baseline'] = validate.baseline - validate.tax_value"
   ]
  },
  {
   "cell_type": "code",
   "execution_count": 699,
   "id": "482f00ff",
   "metadata": {},
   "outputs": [],
   "source": [
    "# calculate the model's sum of squares error for the selected variables against the target variable\n",
    "SSE = mean_squared_error(validate.tax_value, validate.yhat)*len(validate)\n",
    "# calculate the baseline's sum of squares error for the selected variables against the target variable\n",
    "SSE_baseline = mean_squared_error(validate.tax_value, validate.baseline)*len(validate)\n",
    "# calculate the model mean squared error for the selected variables against the target variable\n",
    "MSE = mean_squared_error(validate.tax_value, validate.yhat)\n",
    "# calculate the baseline mean squared error for the selected variables against the target variable\n",
    "MSE_baseline = mean_squared_error(validate.tax_value, validate.baseline)\n",
    "# calculate the model root mean squared error for the selected variables against the target variable\n",
    "RMSE = sqrt(mean_squared_error(validate.tax_value, validate.yhat))\n",
    "# calculate the baseline root mean squared error for the selected variables against the target variable\n",
    "RMSE_baseline = sqrt(mean_squared_error(validate.tax_value, validate.baseline))"
   ]
  },
  {
   "cell_type": "code",
   "execution_count": 700,
   "id": "96385d8b",
   "metadata": {},
   "outputs": [
    {
     "name": "stdout",
     "output_type": "stream",
     "text": [
      "  metric   model_error\n",
      "0    SSE  9.127138e+13\n",
      "1    MSE  1.540965e+10\n",
      "2   RMSE  1.241356e+05\n",
      "          metric   model_error\n",
      "0   SSE_baseline  9.889407e+13\n",
      "1   MSE_baseline  1.669662e+10\n",
      "2  RMSE_baseline  1.292154e+05\n"
     ]
    }
   ],
   "source": [
    "# create a dataframe for the model SSE, MSE, RMSE\n",
    "e_eval = pd.DataFrame(np.array(['SSE','MSE','RMSE']), columns=['metric'])\n",
    "# create a dataframe to show the baseline SSE, MSE, RMSE\n",
    "baseline_eval = pd.DataFrame(np.array(['SSE_baseline','MSE_baseline','RMSE_baseline']), columns=['metric'])\n",
    "# add a column to the train_eval dataframe for the values associated with each model metric\n",
    "e_eval['model_error'] = np.array([SSE, MSE, RMSE])\n",
    "# add a column to the train_baseline_eval for the values associated with each baseline metric\n",
    "baseline_eval['model_error'] = np.array([SSE_baseline, MSE_baseline, RMSE_baseline])\n",
    "# print the dataframes\n",
    "print(e_eval)\n",
    "print(baseline_eval)"
   ]
  },
  {
   "cell_type": "code",
   "execution_count": 701,
   "id": "46bc289b",
   "metadata": {},
   "outputs": [
    {
     "data": {
      "text/html": [
       "<div>\n",
       "<style scoped>\n",
       "    .dataframe tbody tr th:only-of-type {\n",
       "        vertical-align: middle;\n",
       "    }\n",
       "\n",
       "    .dataframe tbody tr th {\n",
       "        vertical-align: top;\n",
       "    }\n",
       "\n",
       "    .dataframe thead th {\n",
       "        text-align: right;\n",
       "    }\n",
       "</style>\n",
       "<table border=\"1\" class=\"dataframe\">\n",
       "  <thead>\n",
       "    <tr style=\"text-align: right;\">\n",
       "      <th></th>\n",
       "      <th>metric</th>\n",
       "      <th>model_error</th>\n",
       "      <th>error_delta</th>\n",
       "    </tr>\n",
       "  </thead>\n",
       "  <tbody>\n",
       "    <tr>\n",
       "      <th>0</th>\n",
       "      <td>SSE</td>\n",
       "      <td>9.127138e+13</td>\n",
       "      <td>-7.622693e+12</td>\n",
       "    </tr>\n",
       "    <tr>\n",
       "      <th>1</th>\n",
       "      <td>MSE</td>\n",
       "      <td>1.540965e+10</td>\n",
       "      <td>-1.286965e+09</td>\n",
       "    </tr>\n",
       "    <tr>\n",
       "      <th>2</th>\n",
       "      <td>RMSE</td>\n",
       "      <td>1.241356e+05</td>\n",
       "      <td>-5.079770e+03</td>\n",
       "    </tr>\n",
       "  </tbody>\n",
       "</table>\n",
       "</div>"
      ],
      "text/plain": [
       "  metric   model_error   error_delta\n",
       "0    SSE  9.127138e+13 -7.622693e+12\n",
       "1    MSE  1.540965e+10 -1.286965e+09\n",
       "2   RMSE  1.241356e+05 -5.079770e+03"
      ]
     },
     "execution_count": 701,
     "metadata": {},
     "output_type": "execute_result"
    }
   ],
   "source": [
    "# add a column to train_eval for the error delta for each metric\n",
    "e_eval['error_delta'] = e_eval.model_error - baseline_eval.model_error\n",
    "e_eval"
   ]
  },
  {
   "cell_type": "code",
   "execution_count": 702,
   "id": "26baf7f5",
   "metadata": {},
   "outputs": [
    {
     "data": {
      "text/plain": [
       "0.07707937290192712"
      ]
     },
     "execution_count": 702,
     "metadata": {},
     "output_type": "execute_result"
    }
   ],
   "source": [
    "r2_score(validate.tax_value, validate.yhat)"
   ]
  },
  {
   "cell_type": "code",
   "execution_count": 703,
   "id": "423e4069",
   "metadata": {},
   "outputs": [
    {
     "name": "stdout",
     "output_type": "stream",
     "text": [
      "RMSE for Lasso + Lars\n",
      "Training/In-Sample:  122686.20898600366 \n",
      "Validation/Out-of-Sample:  124204.50592545512\n"
     ]
    },
    {
     "name": "stderr",
     "output_type": "stream",
     "text": [
      "/opt/homebrew/anaconda3/lib/python3.9/site-packages/sklearn/linear_model/_base.py:133: FutureWarning: The default of 'normalize' will be set to False in version 1.2 and deprecated in version 1.4.\n",
      "If you wish to scale the data, use Pipeline with a StandardScaler in a preprocessing stage. To reproduce the previous behavior:\n",
      "\n",
      "from sklearn.pipeline import make_pipeline\n",
      "\n",
      "model = make_pipeline(StandardScaler(with_mean=False), LassoLars())\n",
      "\n",
      "If you wish to pass a sample_weight parameter, you need to pass it as a fit parameter to each step of the pipeline as follows:\n",
      "\n",
      "kwargs = {s[0] + '__sample_weight': sample_weight for s in model.steps}\n",
      "model.fit(X, y, **kwargs)\n",
      "\n",
      "Set parameter alpha to: original_alpha * np.sqrt(n_samples). \n",
      "  warnings.warn(\n",
      "/var/folders/5g/xrhpsnj56_v3scw9s4trbgxc0000gn/T/ipykernel_1750/1373569168.py:9: SettingWithCopyWarning: \n",
      "A value is trying to be set on a copy of a slice from a DataFrame.\n",
      "Try using .loc[row_indexer,col_indexer] = value instead\n",
      "\n",
      "See the caveats in the documentation: https://pandas.pydata.org/pandas-docs/stable/user_guide/indexing.html#returning-a-view-versus-a-copy\n",
      "  y_train['tax_pred_lars'] = lars.predict(X_train_scaled)\n",
      "/var/folders/5g/xrhpsnj56_v3scw9s4trbgxc0000gn/T/ipykernel_1750/1373569168.py:15: SettingWithCopyWarning: \n",
      "A value is trying to be set on a copy of a slice from a DataFrame.\n",
      "Try using .loc[row_indexer,col_indexer] = value instead\n",
      "\n",
      "See the caveats in the documentation: https://pandas.pydata.org/pandas-docs/stable/user_guide/indexing.html#returning-a-view-versus-a-copy\n",
      "  y_validate['tax_pred_lars'] = lars.predict(X_validate_scaled)\n"
     ]
    }
   ],
   "source": [
    "# create the model object\n",
    "lars = LassoLars(alpha=1.0)\n",
    "\n",
    "# fit the model to our training data. We must specify the column in y_train, \n",
    "# since we have converted it to a dataframe from a series! \n",
    "lars.fit(X_train_scaled, y_train.tax_value)\n",
    "\n",
    "# predict train\n",
    "y_train['tax_pred_lars'] = lars.predict(X_train_scaled)\n",
    "\n",
    "# evaluate: rmse\n",
    "rmse_train = mean_squared_error(y_train.tax_value, y_train.tax_pred_lars)**(1/2)\n",
    "\n",
    "# predict validate\n",
    "y_validate['tax_pred_lars'] = lars.predict(X_validate_scaled)\n",
    "\n",
    "# evaluate: rmse\n",
    "rmse_validate = mean_squared_error(y_validate.tax_value, y_validate.tax_pred_lars)**(1/2)\n",
    "\n",
    "print(\"RMSE for Lasso + Lars\\nTraining/In-Sample: \", rmse_train, \n",
    "      \"\\nValidation/Out-of-Sample: \", rmse_validate)"
   ]
  },
  {
   "cell_type": "code",
   "execution_count": 704,
   "id": "ade1083f",
   "metadata": {},
   "outputs": [],
   "source": [
    "train['yhat'] = lars.predict(X_train_scaled)"
   ]
  },
  {
   "cell_type": "code",
   "execution_count": 705,
   "id": "4688376b",
   "metadata": {},
   "outputs": [],
   "source": [
    "y = train.tax_value\n",
    "yhat = train.yhat"
   ]
  },
  {
   "cell_type": "code",
   "execution_count": 706,
   "id": "a78a8a77",
   "metadata": {},
   "outputs": [],
   "source": [
    "# create column for model residual error\n",
    "train['residual'] = train.yhat - train.tax_value\n",
    "# create column for baseline residual error\n",
    "train['residual_baseline'] = train.baseline - train.tax_value"
   ]
  },
  {
   "cell_type": "code",
   "execution_count": 707,
   "id": "2408222f",
   "metadata": {},
   "outputs": [],
   "source": [
    "# calculate the model's sum of squares error for the selected variables against the target variable\n",
    "SSE = mean_squared_error(train.tax_value, train.yhat)*len(train)\n",
    "# calculate the baseline's sum of squares error for the selected variables against the target variable\n",
    "SSE_baseline = mean_squared_error(train.tax_value, train.baseline)*len(train)\n",
    "# calculate the model mean squared error for the selected variables against the target variable\n",
    "MSE = mean_squared_error(train.tax_value, train.yhat)\n",
    "# calculate the baseline mean squared error for the selected variables against the target variable\n",
    "MSE_baseline = mean_squared_error(train.tax_value, train.baseline)\n",
    "# calculate the model root mean squared error for the selected variables against the target variable\n",
    "RMSE = sqrt(mean_squared_error(train.tax_value, train.yhat))\n",
    "# calculate the baseline root mean squared error for the selected variables against the target variable\n",
    "RMSE_baseline = sqrt(mean_squared_error(train.tax_value, train.baseline))"
   ]
  },
  {
   "cell_type": "code",
   "execution_count": 708,
   "id": "a943ebb6",
   "metadata": {},
   "outputs": [
    {
     "name": "stdout",
     "output_type": "stream",
     "text": [
      "  metric   model_error\n",
      "0    SSE  2.674573e+14\n",
      "1    MSE  1.505191e+10\n",
      "2   RMSE  1.226862e+05\n",
      "          metric   model_error\n",
      "0   SSE_baseline  2.910802e+14\n",
      "1   MSE_baseline  1.638135e+10\n",
      "2  RMSE_baseline  1.279896e+05\n"
     ]
    }
   ],
   "source": [
    "# create a dataframe for the model SSE, MSE, RMSE\n",
    "train_eval = pd.DataFrame(np.array(['SSE','MSE','RMSE']), columns=['metric'])\n",
    "# create a dataframe to show the baseline SSE, MSE, RMSE\n",
    "train_baseline_eval = pd.DataFrame(np.array(['SSE_baseline','MSE_baseline','RMSE_baseline']), columns=['metric'])\n",
    "# add a column to the train_eval dataframe for the values associated with each model metric\n",
    "train_eval['model_error'] = np.array([SSE, MSE, RMSE])\n",
    "# add a column to the train_baseline_eval for the values associated with each baseline metric\n",
    "train_baseline_eval['model_error'] = np.array([SSE_baseline, MSE_baseline, RMSE_baseline])\n",
    "# print the dataframes\n",
    "print(train_eval)\n",
    "print(train_baseline_eval)"
   ]
  },
  {
   "cell_type": "code",
   "execution_count": 709,
   "id": "1a9ab3c6",
   "metadata": {},
   "outputs": [
    {
     "data": {
      "text/html": [
       "<div>\n",
       "<style scoped>\n",
       "    .dataframe tbody tr th:only-of-type {\n",
       "        vertical-align: middle;\n",
       "    }\n",
       "\n",
       "    .dataframe tbody tr th {\n",
       "        vertical-align: top;\n",
       "    }\n",
       "\n",
       "    .dataframe thead th {\n",
       "        text-align: right;\n",
       "    }\n",
       "</style>\n",
       "<table border=\"1\" class=\"dataframe\">\n",
       "  <thead>\n",
       "    <tr style=\"text-align: right;\">\n",
       "      <th></th>\n",
       "      <th>metric</th>\n",
       "      <th>model_error</th>\n",
       "      <th>error_delta</th>\n",
       "    </tr>\n",
       "  </thead>\n",
       "  <tbody>\n",
       "    <tr>\n",
       "      <th>0</th>\n",
       "      <td>SSE</td>\n",
       "      <td>2.674573e+14</td>\n",
       "      <td>-2.362287e+13</td>\n",
       "    </tr>\n",
       "    <tr>\n",
       "      <th>1</th>\n",
       "      <td>MSE</td>\n",
       "      <td>1.505191e+10</td>\n",
       "      <td>-1.329443e+09</td>\n",
       "    </tr>\n",
       "    <tr>\n",
       "      <th>2</th>\n",
       "      <td>RMSE</td>\n",
       "      <td>1.226862e+05</td>\n",
       "      <td>-5.303434e+03</td>\n",
       "    </tr>\n",
       "  </tbody>\n",
       "</table>\n",
       "</div>"
      ],
      "text/plain": [
       "  metric   model_error   error_delta\n",
       "0    SSE  2.674573e+14 -2.362287e+13\n",
       "1    MSE  1.505191e+10 -1.329443e+09\n",
       "2   RMSE  1.226862e+05 -5.303434e+03"
      ]
     },
     "execution_count": 709,
     "metadata": {},
     "output_type": "execute_result"
    }
   ],
   "source": [
    "# add a column to train_eval for the error delta for each metric\n",
    "train_eval['error_delta'] = train_eval.model_error - train_baseline_eval.model_error\n",
    "train_eval"
   ]
  },
  {
   "cell_type": "code",
   "execution_count": 710,
   "id": "8142d0ec",
   "metadata": {},
   "outputs": [
    {
     "data": {
      "text/plain": [
       "0.08115588197376433"
      ]
     },
     "execution_count": 710,
     "metadata": {},
     "output_type": "execute_result"
    }
   ],
   "source": [
    "r2_score(train.tax_value, train.yhat)"
   ]
  },
  {
   "cell_type": "code",
   "execution_count": null,
   "id": "da0248b6",
   "metadata": {},
   "outputs": [],
   "source": []
  },
  {
   "cell_type": "code",
   "execution_count": null,
   "id": "aaa9163a",
   "metadata": {},
   "outputs": [],
   "source": []
  }
 ],
 "metadata": {
  "kernelspec": {
   "display_name": "Python 3 (ipykernel)",
   "language": "python",
   "name": "python3"
  },
  "language_info": {
   "codemirror_mode": {
    "name": "ipython",
    "version": 3
   },
   "file_extension": ".py",
   "mimetype": "text/x-python",
   "name": "python",
   "nbconvert_exporter": "python",
   "pygments_lexer": "ipython3",
   "version": "3.9.12"
  }
 },
 "nbformat": 4,
 "nbformat_minor": 5
}
