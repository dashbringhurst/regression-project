{
 "cells": [
  {
   "cell_type": "code",
   "execution_count": 1,
   "id": "115a8e47",
   "metadata": {},
   "outputs": [],
   "source": [
    "import pandas as pd\n",
    "import numpy as np\n",
    "import os\n",
    "import wrangle\n",
    "import explore\n",
    "import model\n",
    "import matplotlib.pyplot as plt\n",
    "import seaborn as sns\n",
    "from scipy import stats\n",
    "from math import sqrt\n",
    "from sklearn.preprocessing import MinMaxScaler, StandardScaler, PolynomialFeatures\n",
    "from sklearn.linear_model import LinearRegression, LassoLars, TweedieRegressor\n",
    "from sklearn.feature_selection import SelectKBest, f_regression \n",
    "from sklearn.metrics import mean_squared_error, r2_score, explained_variance_score\n",
    "from sklearn.pipeline import make_pipeline"
   ]
  },
  {
   "cell_type": "code",
   "execution_count": 2,
   "id": "11b9aaec",
   "metadata": {},
   "outputs": [],
   "source": [
    "def new_zillow_db():\n",
    "    '''The function uses the get_connection function to connect to a database and retrieve the zillow dataset'''\n",
    "    \n",
    "    zillow = pd.read_sql('''SELECT p.bathroomcnt, p.bedroomcnt, p.calculatedfinishedsquarefeet,\n",
    "    p.fips, p.lotsizesquarefeet, p.regionidcity, p.regionidcounty, p.regionidzip, p.yearbuilt, \n",
    "    p.taxvaluedollarcnt, pd.transactiondate, pd.logerror\n",
    "    FROM properties_2017 as p\n",
    "\n",
    "    JOIN predictions_2017 as pd\n",
    "    on p.id = pd.id\n",
    "    LEFT JOIN propertylandusetype USING(propertylandusetypeid)\n",
    "\n",
    "    WHERE propertylandusedesc IN (\"Single Family Residential\",                       \n",
    "                              \"Inferred Single Family Residential\")\n",
    "    AND pd.transactiondate BETWEEN \"2017-01-01\" AND \"2017-12-31\"\n",
    "    ;''', wrangle.get_connection('zillow'))\n",
    "    return zillow\n"
   ]
  },
  {
   "cell_type": "code",
   "execution_count": 3,
   "id": "39e7a537",
   "metadata": {},
   "outputs": [],
   "source": [
    "df = new_zillow_db()"
   ]
  },
  {
   "cell_type": "code",
   "execution_count": 4,
   "id": "34fada32",
   "metadata": {},
   "outputs": [
    {
     "data": {
      "text/html": [
       "<div>\n",
       "<style scoped>\n",
       "    .dataframe tbody tr th:only-of-type {\n",
       "        vertical-align: middle;\n",
       "    }\n",
       "\n",
       "    .dataframe tbody tr th {\n",
       "        vertical-align: top;\n",
       "    }\n",
       "\n",
       "    .dataframe thead th {\n",
       "        text-align: right;\n",
       "    }\n",
       "</style>\n",
       "<table border=\"1\" class=\"dataframe\">\n",
       "  <thead>\n",
       "    <tr style=\"text-align: right;\">\n",
       "      <th></th>\n",
       "      <th>bathroomcnt</th>\n",
       "      <th>bedroomcnt</th>\n",
       "      <th>calculatedfinishedsquarefeet</th>\n",
       "      <th>fips</th>\n",
       "      <th>lotsizesquarefeet</th>\n",
       "      <th>regionidcity</th>\n",
       "      <th>regionidcounty</th>\n",
       "      <th>regionidzip</th>\n",
       "      <th>yearbuilt</th>\n",
       "      <th>taxvaluedollarcnt</th>\n",
       "      <th>transactiondate</th>\n",
       "      <th>logerror</th>\n",
       "    </tr>\n",
       "  </thead>\n",
       "  <tbody>\n",
       "    <tr>\n",
       "      <th>0</th>\n",
       "      <td>0.0</td>\n",
       "      <td>0.0</td>\n",
       "      <td>NaN</td>\n",
       "      <td>6037.0</td>\n",
       "      <td>4083.0</td>\n",
       "      <td>37688.0</td>\n",
       "      <td>3101.0</td>\n",
       "      <td>96337.0</td>\n",
       "      <td>NaN</td>\n",
       "      <td>27516.0</td>\n",
       "      <td>2017-01-01</td>\n",
       "      <td>0.055619</td>\n",
       "    </tr>\n",
       "    <tr>\n",
       "      <th>1</th>\n",
       "      <td>0.0</td>\n",
       "      <td>0.0</td>\n",
       "      <td>NaN</td>\n",
       "      <td>6037.0</td>\n",
       "      <td>11975.0</td>\n",
       "      <td>40227.0</td>\n",
       "      <td>3101.0</td>\n",
       "      <td>97329.0</td>\n",
       "      <td>NaN</td>\n",
       "      <td>10.0</td>\n",
       "      <td>2017-01-02</td>\n",
       "      <td>0.008669</td>\n",
       "    </tr>\n",
       "    <tr>\n",
       "      <th>2</th>\n",
       "      <td>0.0</td>\n",
       "      <td>0.0</td>\n",
       "      <td>NaN</td>\n",
       "      <td>6037.0</td>\n",
       "      <td>9403.0</td>\n",
       "      <td>40227.0</td>\n",
       "      <td>3101.0</td>\n",
       "      <td>97330.0</td>\n",
       "      <td>NaN</td>\n",
       "      <td>10.0</td>\n",
       "      <td>2017-01-02</td>\n",
       "      <td>-0.021896</td>\n",
       "    </tr>\n",
       "    <tr>\n",
       "      <th>3</th>\n",
       "      <td>0.0</td>\n",
       "      <td>0.0</td>\n",
       "      <td>NaN</td>\n",
       "      <td>6037.0</td>\n",
       "      <td>3817.0</td>\n",
       "      <td>40227.0</td>\n",
       "      <td>3101.0</td>\n",
       "      <td>97330.0</td>\n",
       "      <td>NaN</td>\n",
       "      <td>2108.0</td>\n",
       "      <td>2017-01-02</td>\n",
       "      <td>-0.017167</td>\n",
       "    </tr>\n",
       "    <tr>\n",
       "      <th>4</th>\n",
       "      <td>2.0</td>\n",
       "      <td>4.0</td>\n",
       "      <td>3633.0</td>\n",
       "      <td>6037.0</td>\n",
       "      <td>9826.0</td>\n",
       "      <td>40227.0</td>\n",
       "      <td>3101.0</td>\n",
       "      <td>97329.0</td>\n",
       "      <td>2005.0</td>\n",
       "      <td>296425.0</td>\n",
       "      <td>2017-01-02</td>\n",
       "      <td>0.042463</td>\n",
       "    </tr>\n",
       "    <tr>\n",
       "      <th>...</th>\n",
       "      <td>...</td>\n",
       "      <td>...</td>\n",
       "      <td>...</td>\n",
       "      <td>...</td>\n",
       "      <td>...</td>\n",
       "      <td>...</td>\n",
       "      <td>...</td>\n",
       "      <td>...</td>\n",
       "      <td>...</td>\n",
       "      <td>...</td>\n",
       "      <td>...</td>\n",
       "      <td>...</td>\n",
       "    </tr>\n",
       "    <tr>\n",
       "      <th>56074</th>\n",
       "      <td>2.0</td>\n",
       "      <td>2.0</td>\n",
       "      <td>1362.0</td>\n",
       "      <td>6037.0</td>\n",
       "      <td>6854.0</td>\n",
       "      <td>40227.0</td>\n",
       "      <td>3101.0</td>\n",
       "      <td>97330.0</td>\n",
       "      <td>1996.0</td>\n",
       "      <td>127276.0</td>\n",
       "      <td>2017-09-19</td>\n",
       "      <td>0.001082</td>\n",
       "    </tr>\n",
       "    <tr>\n",
       "      <th>56075</th>\n",
       "      <td>2.0</td>\n",
       "      <td>3.0</td>\n",
       "      <td>1600.0</td>\n",
       "      <td>6037.0</td>\n",
       "      <td>6709.0</td>\n",
       "      <td>40227.0</td>\n",
       "      <td>3101.0</td>\n",
       "      <td>97330.0</td>\n",
       "      <td>1992.0</td>\n",
       "      <td>180715.0</td>\n",
       "      <td>2017-09-20</td>\n",
       "      <td>-0.002245</td>\n",
       "    </tr>\n",
       "    <tr>\n",
       "      <th>56076</th>\n",
       "      <td>3.0</td>\n",
       "      <td>4.0</td>\n",
       "      <td>1921.0</td>\n",
       "      <td>6037.0</td>\n",
       "      <td>6763.0</td>\n",
       "      <td>40227.0</td>\n",
       "      <td>3101.0</td>\n",
       "      <td>97330.0</td>\n",
       "      <td>1990.0</td>\n",
       "      <td>162019.0</td>\n",
       "      <td>2017-09-20</td>\n",
       "      <td>0.020615</td>\n",
       "    </tr>\n",
       "    <tr>\n",
       "      <th>56077</th>\n",
       "      <td>3.0</td>\n",
       "      <td>4.0</td>\n",
       "      <td>1780.0</td>\n",
       "      <td>6037.0</td>\n",
       "      <td>6822.0</td>\n",
       "      <td>40227.0</td>\n",
       "      <td>3101.0</td>\n",
       "      <td>97330.0</td>\n",
       "      <td>1989.0</td>\n",
       "      <td>125923.0</td>\n",
       "      <td>2017-09-21</td>\n",
       "      <td>0.013209</td>\n",
       "    </tr>\n",
       "    <tr>\n",
       "      <th>56078</th>\n",
       "      <td>2.0</td>\n",
       "      <td>3.0</td>\n",
       "      <td>1549.0</td>\n",
       "      <td>6037.0</td>\n",
       "      <td>6987.0</td>\n",
       "      <td>40227.0</td>\n",
       "      <td>3101.0</td>\n",
       "      <td>97330.0</td>\n",
       "      <td>1990.0</td>\n",
       "      <td>198988.0</td>\n",
       "      <td>2017-09-21</td>\n",
       "      <td>0.037129</td>\n",
       "    </tr>\n",
       "  </tbody>\n",
       "</table>\n",
       "<p>56079 rows × 12 columns</p>\n",
       "</div>"
      ],
      "text/plain": [
       "       bathroomcnt  bedroomcnt  calculatedfinishedsquarefeet    fips  \\\n",
       "0              0.0         0.0                           NaN  6037.0   \n",
       "1              0.0         0.0                           NaN  6037.0   \n",
       "2              0.0         0.0                           NaN  6037.0   \n",
       "3              0.0         0.0                           NaN  6037.0   \n",
       "4              2.0         4.0                        3633.0  6037.0   \n",
       "...            ...         ...                           ...     ...   \n",
       "56074          2.0         2.0                        1362.0  6037.0   \n",
       "56075          2.0         3.0                        1600.0  6037.0   \n",
       "56076          3.0         4.0                        1921.0  6037.0   \n",
       "56077          3.0         4.0                        1780.0  6037.0   \n",
       "56078          2.0         3.0                        1549.0  6037.0   \n",
       "\n",
       "       lotsizesquarefeet  regionidcity  regionidcounty  regionidzip  \\\n",
       "0                 4083.0       37688.0          3101.0      96337.0   \n",
       "1                11975.0       40227.0          3101.0      97329.0   \n",
       "2                 9403.0       40227.0          3101.0      97330.0   \n",
       "3                 3817.0       40227.0          3101.0      97330.0   \n",
       "4                 9826.0       40227.0          3101.0      97329.0   \n",
       "...                  ...           ...             ...          ...   \n",
       "56074             6854.0       40227.0          3101.0      97330.0   \n",
       "56075             6709.0       40227.0          3101.0      97330.0   \n",
       "56076             6763.0       40227.0          3101.0      97330.0   \n",
       "56077             6822.0       40227.0          3101.0      97330.0   \n",
       "56078             6987.0       40227.0          3101.0      97330.0   \n",
       "\n",
       "       yearbuilt  taxvaluedollarcnt transactiondate  logerror  \n",
       "0            NaN            27516.0      2017-01-01  0.055619  \n",
       "1            NaN               10.0      2017-01-02  0.008669  \n",
       "2            NaN               10.0      2017-01-02 -0.021896  \n",
       "3            NaN             2108.0      2017-01-02 -0.017167  \n",
       "4         2005.0           296425.0      2017-01-02  0.042463  \n",
       "...          ...                ...             ...       ...  \n",
       "56074     1996.0           127276.0      2017-09-19  0.001082  \n",
       "56075     1992.0           180715.0      2017-09-20 -0.002245  \n",
       "56076     1990.0           162019.0      2017-09-20  0.020615  \n",
       "56077     1989.0           125923.0      2017-09-21  0.013209  \n",
       "56078     1990.0           198988.0      2017-09-21  0.037129  \n",
       "\n",
       "[56079 rows x 12 columns]"
      ]
     },
     "execution_count": 4,
     "metadata": {},
     "output_type": "execute_result"
    }
   ],
   "source": [
    "df"
   ]
  },
  {
   "cell_type": "code",
   "execution_count": 5,
   "id": "d7ae594f",
   "metadata": {},
   "outputs": [
    {
     "name": "stdout",
     "output_type": "stream",
     "text": [
      "<class 'pandas.core.frame.DataFrame'>\n",
      "RangeIndex: 56079 entries, 0 to 56078\n",
      "Data columns (total 12 columns):\n",
      " #   Column                        Non-Null Count  Dtype  \n",
      "---  ------                        --------------  -----  \n",
      " 0   bathroomcnt                   56079 non-null  float64\n",
      " 1   bedroomcnt                    56079 non-null  float64\n",
      " 2   calculatedfinishedsquarefeet  55848 non-null  float64\n",
      " 3   fips                          56079 non-null  float64\n",
      " 4   lotsizesquarefeet             55729 non-null  float64\n",
      " 5   regionidcity                  55025 non-null  float64\n",
      " 6   regionidcounty                56079 non-null  float64\n",
      " 7   regionidzip                   55979 non-null  float64\n",
      " 8   yearbuilt                     55830 non-null  float64\n",
      " 9   taxvaluedollarcnt             56071 non-null  float64\n",
      " 10  transactiondate               56079 non-null  object \n",
      " 11  logerror                      56079 non-null  float64\n",
      "dtypes: float64(11), object(1)\n",
      "memory usage: 5.1+ MB\n"
     ]
    }
   ],
   "source": [
    "df.info()"
   ]
  },
  {
   "cell_type": "code",
   "execution_count": 6,
   "id": "d7ae104f",
   "metadata": {},
   "outputs": [],
   "source": [
    "df = df.dropna()"
   ]
  },
  {
   "cell_type": "code",
   "execution_count": 7,
   "id": "1a260cd9",
   "metadata": {},
   "outputs": [
    {
     "name": "stdout",
     "output_type": "stream",
     "text": [
      "<class 'pandas.core.frame.DataFrame'>\n",
      "Int64Index: 54553 entries, 4 to 56078\n",
      "Data columns (total 12 columns):\n",
      " #   Column                        Non-Null Count  Dtype  \n",
      "---  ------                        --------------  -----  \n",
      " 0   bathroomcnt                   54553 non-null  float64\n",
      " 1   bedroomcnt                    54553 non-null  float64\n",
      " 2   calculatedfinishedsquarefeet  54553 non-null  float64\n",
      " 3   fips                          54553 non-null  float64\n",
      " 4   lotsizesquarefeet             54553 non-null  float64\n",
      " 5   regionidcity                  54553 non-null  float64\n",
      " 6   regionidcounty                54553 non-null  float64\n",
      " 7   regionidzip                   54553 non-null  float64\n",
      " 8   yearbuilt                     54553 non-null  float64\n",
      " 9   taxvaluedollarcnt             54553 non-null  float64\n",
      " 10  transactiondate               54553 non-null  object \n",
      " 11  logerror                      54553 non-null  float64\n",
      "dtypes: float64(11), object(1)\n",
      "memory usage: 5.4+ MB\n"
     ]
    }
   ],
   "source": [
    "df.info()"
   ]
  },
  {
   "cell_type": "code",
   "execution_count": 8,
   "id": "d3407851",
   "metadata": {},
   "outputs": [
    {
     "data": {
      "text/html": [
       "<div>\n",
       "<style scoped>\n",
       "    .dataframe tbody tr th:only-of-type {\n",
       "        vertical-align: middle;\n",
       "    }\n",
       "\n",
       "    .dataframe tbody tr th {\n",
       "        vertical-align: top;\n",
       "    }\n",
       "\n",
       "    .dataframe thead th {\n",
       "        text-align: right;\n",
       "    }\n",
       "</style>\n",
       "<table border=\"1\" class=\"dataframe\">\n",
       "  <thead>\n",
       "    <tr style=\"text-align: right;\">\n",
       "      <th></th>\n",
       "      <th>bathroomcnt</th>\n",
       "      <th>bedroomcnt</th>\n",
       "      <th>calculatedfinishedsquarefeet</th>\n",
       "      <th>fips</th>\n",
       "      <th>lotsizesquarefeet</th>\n",
       "      <th>regionidcity</th>\n",
       "      <th>regionidcounty</th>\n",
       "      <th>regionidzip</th>\n",
       "      <th>yearbuilt</th>\n",
       "      <th>taxvaluedollarcnt</th>\n",
       "      <th>logerror</th>\n",
       "    </tr>\n",
       "  </thead>\n",
       "  <tbody>\n",
       "    <tr>\n",
       "      <th>count</th>\n",
       "      <td>54553.000000</td>\n",
       "      <td>54553.000000</td>\n",
       "      <td>54553.000000</td>\n",
       "      <td>54553.000000</td>\n",
       "      <td>5.455300e+04</td>\n",
       "      <td>54553.000000</td>\n",
       "      <td>54553.000000</td>\n",
       "      <td>54553.000000</td>\n",
       "      <td>54553.000000</td>\n",
       "      <td>5.455300e+04</td>\n",
       "      <td>54553.000000</td>\n",
       "    </tr>\n",
       "    <tr>\n",
       "      <th>mean</th>\n",
       "      <td>2.237686</td>\n",
       "      <td>3.298517</td>\n",
       "      <td>1857.693784</td>\n",
       "      <td>6048.856177</td>\n",
       "      <td>1.123118e+04</td>\n",
       "      <td>35502.566018</td>\n",
       "      <td>2560.631918</td>\n",
       "      <td>96594.523436</td>\n",
       "      <td>1960.796253</td>\n",
       "      <td>4.525896e+05</td>\n",
       "      <td>0.016783</td>\n",
       "    </tr>\n",
       "    <tr>\n",
       "      <th>std</th>\n",
       "      <td>0.989100</td>\n",
       "      <td>0.931808</td>\n",
       "      <td>955.170666</td>\n",
       "      <td>21.280432</td>\n",
       "      <td>9.141415e+04</td>\n",
       "      <td>54204.959656</td>\n",
       "      <td>786.841412</td>\n",
       "      <td>4323.250953</td>\n",
       "      <td>21.698743</td>\n",
       "      <td>5.892449e+05</td>\n",
       "      <td>0.172213</td>\n",
       "    </tr>\n",
       "    <tr>\n",
       "      <th>min</th>\n",
       "      <td>0.000000</td>\n",
       "      <td>0.000000</td>\n",
       "      <td>20.000000</td>\n",
       "      <td>6037.000000</td>\n",
       "      <td>1.690000e+02</td>\n",
       "      <td>3491.000000</td>\n",
       "      <td>1286.000000</td>\n",
       "      <td>95982.000000</td>\n",
       "      <td>1862.000000</td>\n",
       "      <td>9.000000e+00</td>\n",
       "      <td>-4.655420</td>\n",
       "    </tr>\n",
       "    <tr>\n",
       "      <th>25%</th>\n",
       "      <td>2.000000</td>\n",
       "      <td>3.000000</td>\n",
       "      <td>1260.000000</td>\n",
       "      <td>6037.000000</td>\n",
       "      <td>5.686000e+03</td>\n",
       "      <td>12447.000000</td>\n",
       "      <td>2061.000000</td>\n",
       "      <td>96193.000000</td>\n",
       "      <td>1949.000000</td>\n",
       "      <td>1.866290e+05</td>\n",
       "      <td>-0.024437</td>\n",
       "    </tr>\n",
       "    <tr>\n",
       "      <th>50%</th>\n",
       "      <td>2.000000</td>\n",
       "      <td>3.000000</td>\n",
       "      <td>1624.000000</td>\n",
       "      <td>6037.000000</td>\n",
       "      <td>6.790000e+03</td>\n",
       "      <td>24832.000000</td>\n",
       "      <td>3101.000000</td>\n",
       "      <td>96389.000000</td>\n",
       "      <td>1958.000000</td>\n",
       "      <td>3.271200e+05</td>\n",
       "      <td>0.006741</td>\n",
       "    </tr>\n",
       "    <tr>\n",
       "      <th>75%</th>\n",
       "      <td>3.000000</td>\n",
       "      <td>4.000000</td>\n",
       "      <td>2200.000000</td>\n",
       "      <td>6059.000000</td>\n",
       "      <td>8.600000e+03</td>\n",
       "      <td>44116.000000</td>\n",
       "      <td>3101.000000</td>\n",
       "      <td>96987.000000</td>\n",
       "      <td>1975.000000</td>\n",
       "      <td>5.288470e+05</td>\n",
       "      <td>0.039486</td>\n",
       "    </tr>\n",
       "    <tr>\n",
       "      <th>max</th>\n",
       "      <td>20.000000</td>\n",
       "      <td>25.000000</td>\n",
       "      <td>26345.000000</td>\n",
       "      <td>6111.000000</td>\n",
       "      <td>6.971010e+06</td>\n",
       "      <td>396556.000000</td>\n",
       "      <td>3101.000000</td>\n",
       "      <td>399675.000000</td>\n",
       "      <td>2016.000000</td>\n",
       "      <td>3.016684e+07</td>\n",
       "      <td>5.262999</td>\n",
       "    </tr>\n",
       "  </tbody>\n",
       "</table>\n",
       "</div>"
      ],
      "text/plain": [
       "        bathroomcnt    bedroomcnt  calculatedfinishedsquarefeet          fips  \\\n",
       "count  54553.000000  54553.000000                  54553.000000  54553.000000   \n",
       "mean       2.237686      3.298517                   1857.693784   6048.856177   \n",
       "std        0.989100      0.931808                    955.170666     21.280432   \n",
       "min        0.000000      0.000000                     20.000000   6037.000000   \n",
       "25%        2.000000      3.000000                   1260.000000   6037.000000   \n",
       "50%        2.000000      3.000000                   1624.000000   6037.000000   \n",
       "75%        3.000000      4.000000                   2200.000000   6059.000000   \n",
       "max       20.000000     25.000000                  26345.000000   6111.000000   \n",
       "\n",
       "       lotsizesquarefeet   regionidcity  regionidcounty    regionidzip  \\\n",
       "count       5.455300e+04   54553.000000    54553.000000   54553.000000   \n",
       "mean        1.123118e+04   35502.566018     2560.631918   96594.523436   \n",
       "std         9.141415e+04   54204.959656      786.841412    4323.250953   \n",
       "min         1.690000e+02    3491.000000     1286.000000   95982.000000   \n",
       "25%         5.686000e+03   12447.000000     2061.000000   96193.000000   \n",
       "50%         6.790000e+03   24832.000000     3101.000000   96389.000000   \n",
       "75%         8.600000e+03   44116.000000     3101.000000   96987.000000   \n",
       "max         6.971010e+06  396556.000000     3101.000000  399675.000000   \n",
       "\n",
       "          yearbuilt  taxvaluedollarcnt      logerror  \n",
       "count  54553.000000       5.455300e+04  54553.000000  \n",
       "mean    1960.796253       4.525896e+05      0.016783  \n",
       "std       21.698743       5.892449e+05      0.172213  \n",
       "min     1862.000000       9.000000e+00     -4.655420  \n",
       "25%     1949.000000       1.866290e+05     -0.024437  \n",
       "50%     1958.000000       3.271200e+05      0.006741  \n",
       "75%     1975.000000       5.288470e+05      0.039486  \n",
       "max     2016.000000       3.016684e+07      5.262999  "
      ]
     },
     "execution_count": 8,
     "metadata": {},
     "output_type": "execute_result"
    }
   ],
   "source": [
    "df.describe()"
   ]
  },
  {
   "cell_type": "code",
   "execution_count": 9,
   "id": "29d14313",
   "metadata": {},
   "outputs": [],
   "source": [
    "df.bedroomcnt = df.bedroomcnt.astype(int)\n",
    "    # change year built to an integer\n",
    "df.yearbuilt = df.yearbuilt.astype(int)\n",
    "    # change fips to an integer\n",
    "df.fips = df.fips.astype(int)\n",
    "    # rename columns for readability\n",
    "df = df.rename(columns={'bedroomcnt': 'bedrooms', 'bathroomcnt': 'bathrooms', 'calculatedfinishedsquarefeet': 'sqft', \n",
    "                        'taxvaluedollarcnt': 'tax_value', 'yearbuilt': 'year'})"
   ]
  },
  {
   "cell_type": "code",
   "execution_count": 10,
   "id": "3c882b0b",
   "metadata": {},
   "outputs": [],
   "source": [
    "df = df.rename(columns={'lotsizesquarefeet':'lot_size', 'regionidzip':'zipcode','regionidcounty':'county',\n",
    "                        'regionidcity':'city'})"
   ]
  },
  {
   "cell_type": "code",
   "execution_count": 11,
   "id": "eec0d26a",
   "metadata": {},
   "outputs": [
    {
     "data": {
      "text/html": [
       "<div>\n",
       "<style scoped>\n",
       "    .dataframe tbody tr th:only-of-type {\n",
       "        vertical-align: middle;\n",
       "    }\n",
       "\n",
       "    .dataframe tbody tr th {\n",
       "        vertical-align: top;\n",
       "    }\n",
       "\n",
       "    .dataframe thead th {\n",
       "        text-align: right;\n",
       "    }\n",
       "</style>\n",
       "<table border=\"1\" class=\"dataframe\">\n",
       "  <thead>\n",
       "    <tr style=\"text-align: right;\">\n",
       "      <th></th>\n",
       "      <th>bathrooms</th>\n",
       "      <th>bedrooms</th>\n",
       "      <th>sqft</th>\n",
       "      <th>fips</th>\n",
       "      <th>lot_size</th>\n",
       "      <th>city</th>\n",
       "      <th>county</th>\n",
       "      <th>zipcode</th>\n",
       "      <th>year</th>\n",
       "      <th>tax_value</th>\n",
       "      <th>transactiondate</th>\n",
       "      <th>logerror</th>\n",
       "    </tr>\n",
       "  </thead>\n",
       "  <tbody>\n",
       "    <tr>\n",
       "      <th>4</th>\n",
       "      <td>2.0</td>\n",
       "      <td>4</td>\n",
       "      <td>3633.0</td>\n",
       "      <td>6037</td>\n",
       "      <td>9826.0</td>\n",
       "      <td>40227.0</td>\n",
       "      <td>3101.0</td>\n",
       "      <td>97329.0</td>\n",
       "      <td>2005</td>\n",
       "      <td>296425.0</td>\n",
       "      <td>2017-01-02</td>\n",
       "      <td>0.042463</td>\n",
       "    </tr>\n",
       "    <tr>\n",
       "      <th>7</th>\n",
       "      <td>2.0</td>\n",
       "      <td>3</td>\n",
       "      <td>2077.0</td>\n",
       "      <td>6037</td>\n",
       "      <td>6490.0</td>\n",
       "      <td>26964.0</td>\n",
       "      <td>3101.0</td>\n",
       "      <td>96152.0</td>\n",
       "      <td>1926</td>\n",
       "      <td>646760.0</td>\n",
       "      <td>2017-01-02</td>\n",
       "      <td>-0.040807</td>\n",
       "    </tr>\n",
       "    <tr>\n",
       "      <th>11</th>\n",
       "      <td>0.0</td>\n",
       "      <td>0</td>\n",
       "      <td>1200.0</td>\n",
       "      <td>6037</td>\n",
       "      <td>4054.0</td>\n",
       "      <td>12447.0</td>\n",
       "      <td>3101.0</td>\n",
       "      <td>96020.0</td>\n",
       "      <td>1972</td>\n",
       "      <td>5328.0</td>\n",
       "      <td>2017-01-02</td>\n",
       "      <td>0.069858</td>\n",
       "    </tr>\n",
       "    <tr>\n",
       "      <th>14</th>\n",
       "      <td>0.0</td>\n",
       "      <td>0</td>\n",
       "      <td>171.0</td>\n",
       "      <td>6037</td>\n",
       "      <td>13002.0</td>\n",
       "      <td>46298.0</td>\n",
       "      <td>3101.0</td>\n",
       "      <td>96246.0</td>\n",
       "      <td>1973</td>\n",
       "      <td>6920.0</td>\n",
       "      <td>2017-01-02</td>\n",
       "      <td>0.020950</td>\n",
       "    </tr>\n",
       "    <tr>\n",
       "      <th>15</th>\n",
       "      <td>0.0</td>\n",
       "      <td>0</td>\n",
       "      <td>203.0</td>\n",
       "      <td>6037</td>\n",
       "      <td>17359.0</td>\n",
       "      <td>46298.0</td>\n",
       "      <td>3101.0</td>\n",
       "      <td>96236.0</td>\n",
       "      <td>1960</td>\n",
       "      <td>14166.0</td>\n",
       "      <td>2017-01-02</td>\n",
       "      <td>0.033233</td>\n",
       "    </tr>\n",
       "    <tr>\n",
       "      <th>...</th>\n",
       "      <td>...</td>\n",
       "      <td>...</td>\n",
       "      <td>...</td>\n",
       "      <td>...</td>\n",
       "      <td>...</td>\n",
       "      <td>...</td>\n",
       "      <td>...</td>\n",
       "      <td>...</td>\n",
       "      <td>...</td>\n",
       "      <td>...</td>\n",
       "      <td>...</td>\n",
       "      <td>...</td>\n",
       "    </tr>\n",
       "    <tr>\n",
       "      <th>56074</th>\n",
       "      <td>2.0</td>\n",
       "      <td>2</td>\n",
       "      <td>1362.0</td>\n",
       "      <td>6037</td>\n",
       "      <td>6854.0</td>\n",
       "      <td>40227.0</td>\n",
       "      <td>3101.0</td>\n",
       "      <td>97330.0</td>\n",
       "      <td>1996</td>\n",
       "      <td>127276.0</td>\n",
       "      <td>2017-09-19</td>\n",
       "      <td>0.001082</td>\n",
       "    </tr>\n",
       "    <tr>\n",
       "      <th>56075</th>\n",
       "      <td>2.0</td>\n",
       "      <td>3</td>\n",
       "      <td>1600.0</td>\n",
       "      <td>6037</td>\n",
       "      <td>6709.0</td>\n",
       "      <td>40227.0</td>\n",
       "      <td>3101.0</td>\n",
       "      <td>97330.0</td>\n",
       "      <td>1992</td>\n",
       "      <td>180715.0</td>\n",
       "      <td>2017-09-20</td>\n",
       "      <td>-0.002245</td>\n",
       "    </tr>\n",
       "    <tr>\n",
       "      <th>56076</th>\n",
       "      <td>3.0</td>\n",
       "      <td>4</td>\n",
       "      <td>1921.0</td>\n",
       "      <td>6037</td>\n",
       "      <td>6763.0</td>\n",
       "      <td>40227.0</td>\n",
       "      <td>3101.0</td>\n",
       "      <td>97330.0</td>\n",
       "      <td>1990</td>\n",
       "      <td>162019.0</td>\n",
       "      <td>2017-09-20</td>\n",
       "      <td>0.020615</td>\n",
       "    </tr>\n",
       "    <tr>\n",
       "      <th>56077</th>\n",
       "      <td>3.0</td>\n",
       "      <td>4</td>\n",
       "      <td>1780.0</td>\n",
       "      <td>6037</td>\n",
       "      <td>6822.0</td>\n",
       "      <td>40227.0</td>\n",
       "      <td>3101.0</td>\n",
       "      <td>97330.0</td>\n",
       "      <td>1989</td>\n",
       "      <td>125923.0</td>\n",
       "      <td>2017-09-21</td>\n",
       "      <td>0.013209</td>\n",
       "    </tr>\n",
       "    <tr>\n",
       "      <th>56078</th>\n",
       "      <td>2.0</td>\n",
       "      <td>3</td>\n",
       "      <td>1549.0</td>\n",
       "      <td>6037</td>\n",
       "      <td>6987.0</td>\n",
       "      <td>40227.0</td>\n",
       "      <td>3101.0</td>\n",
       "      <td>97330.0</td>\n",
       "      <td>1990</td>\n",
       "      <td>198988.0</td>\n",
       "      <td>2017-09-21</td>\n",
       "      <td>0.037129</td>\n",
       "    </tr>\n",
       "  </tbody>\n",
       "</table>\n",
       "<p>54553 rows × 12 columns</p>\n",
       "</div>"
      ],
      "text/plain": [
       "       bathrooms  bedrooms    sqft  fips  lot_size     city  county  zipcode  \\\n",
       "4            2.0         4  3633.0  6037    9826.0  40227.0  3101.0  97329.0   \n",
       "7            2.0         3  2077.0  6037    6490.0  26964.0  3101.0  96152.0   \n",
       "11           0.0         0  1200.0  6037    4054.0  12447.0  3101.0  96020.0   \n",
       "14           0.0         0   171.0  6037   13002.0  46298.0  3101.0  96246.0   \n",
       "15           0.0         0   203.0  6037   17359.0  46298.0  3101.0  96236.0   \n",
       "...          ...       ...     ...   ...       ...      ...     ...      ...   \n",
       "56074        2.0         2  1362.0  6037    6854.0  40227.0  3101.0  97330.0   \n",
       "56075        2.0         3  1600.0  6037    6709.0  40227.0  3101.0  97330.0   \n",
       "56076        3.0         4  1921.0  6037    6763.0  40227.0  3101.0  97330.0   \n",
       "56077        3.0         4  1780.0  6037    6822.0  40227.0  3101.0  97330.0   \n",
       "56078        2.0         3  1549.0  6037    6987.0  40227.0  3101.0  97330.0   \n",
       "\n",
       "       year  tax_value transactiondate  logerror  \n",
       "4      2005   296425.0      2017-01-02  0.042463  \n",
       "7      1926   646760.0      2017-01-02 -0.040807  \n",
       "11     1972     5328.0      2017-01-02  0.069858  \n",
       "14     1973     6920.0      2017-01-02  0.020950  \n",
       "15     1960    14166.0      2017-01-02  0.033233  \n",
       "...     ...        ...             ...       ...  \n",
       "56074  1996   127276.0      2017-09-19  0.001082  \n",
       "56075  1992   180715.0      2017-09-20 -0.002245  \n",
       "56076  1990   162019.0      2017-09-20  0.020615  \n",
       "56077  1989   125923.0      2017-09-21  0.013209  \n",
       "56078  1990   198988.0      2017-09-21  0.037129  \n",
       "\n",
       "[54553 rows x 12 columns]"
      ]
     },
     "execution_count": 11,
     "metadata": {},
     "output_type": "execute_result"
    }
   ],
   "source": [
    "df"
   ]
  },
  {
   "cell_type": "code",
   "execution_count": 12,
   "id": "257780a5",
   "metadata": {},
   "outputs": [
    {
     "data": {
      "text/html": [
       "<div>\n",
       "<style scoped>\n",
       "    .dataframe tbody tr th:only-of-type {\n",
       "        vertical-align: middle;\n",
       "    }\n",
       "\n",
       "    .dataframe tbody tr th {\n",
       "        vertical-align: top;\n",
       "    }\n",
       "\n",
       "    .dataframe thead th {\n",
       "        text-align: right;\n",
       "    }\n",
       "</style>\n",
       "<table border=\"1\" class=\"dataframe\">\n",
       "  <thead>\n",
       "    <tr style=\"text-align: right;\">\n",
       "      <th></th>\n",
       "      <th>bathrooms</th>\n",
       "      <th>bedrooms</th>\n",
       "      <th>sqft</th>\n",
       "      <th>fips</th>\n",
       "      <th>lot_size</th>\n",
       "      <th>city</th>\n",
       "      <th>county</th>\n",
       "      <th>zipcode</th>\n",
       "      <th>year</th>\n",
       "      <th>tax_value</th>\n",
       "      <th>logerror</th>\n",
       "    </tr>\n",
       "  </thead>\n",
       "  <tbody>\n",
       "    <tr>\n",
       "      <th>count</th>\n",
       "      <td>54553.000000</td>\n",
       "      <td>54553.000000</td>\n",
       "      <td>54553.000000</td>\n",
       "      <td>54553.000000</td>\n",
       "      <td>5.455300e+04</td>\n",
       "      <td>54553.000000</td>\n",
       "      <td>54553.000000</td>\n",
       "      <td>54553.000000</td>\n",
       "      <td>54553.000000</td>\n",
       "      <td>5.455300e+04</td>\n",
       "      <td>54553.000000</td>\n",
       "    </tr>\n",
       "    <tr>\n",
       "      <th>mean</th>\n",
       "      <td>2.237686</td>\n",
       "      <td>3.298517</td>\n",
       "      <td>1857.693784</td>\n",
       "      <td>6048.856177</td>\n",
       "      <td>1.123118e+04</td>\n",
       "      <td>35502.566018</td>\n",
       "      <td>2560.631918</td>\n",
       "      <td>96594.523436</td>\n",
       "      <td>1960.796253</td>\n",
       "      <td>4.525896e+05</td>\n",
       "      <td>0.016783</td>\n",
       "    </tr>\n",
       "    <tr>\n",
       "      <th>std</th>\n",
       "      <td>0.989100</td>\n",
       "      <td>0.931808</td>\n",
       "      <td>955.170666</td>\n",
       "      <td>21.280432</td>\n",
       "      <td>9.141415e+04</td>\n",
       "      <td>54204.959656</td>\n",
       "      <td>786.841412</td>\n",
       "      <td>4323.250953</td>\n",
       "      <td>21.698743</td>\n",
       "      <td>5.892449e+05</td>\n",
       "      <td>0.172213</td>\n",
       "    </tr>\n",
       "    <tr>\n",
       "      <th>min</th>\n",
       "      <td>0.000000</td>\n",
       "      <td>0.000000</td>\n",
       "      <td>20.000000</td>\n",
       "      <td>6037.000000</td>\n",
       "      <td>1.690000e+02</td>\n",
       "      <td>3491.000000</td>\n",
       "      <td>1286.000000</td>\n",
       "      <td>95982.000000</td>\n",
       "      <td>1862.000000</td>\n",
       "      <td>9.000000e+00</td>\n",
       "      <td>-4.655420</td>\n",
       "    </tr>\n",
       "    <tr>\n",
       "      <th>25%</th>\n",
       "      <td>2.000000</td>\n",
       "      <td>3.000000</td>\n",
       "      <td>1260.000000</td>\n",
       "      <td>6037.000000</td>\n",
       "      <td>5.686000e+03</td>\n",
       "      <td>12447.000000</td>\n",
       "      <td>2061.000000</td>\n",
       "      <td>96193.000000</td>\n",
       "      <td>1949.000000</td>\n",
       "      <td>1.866290e+05</td>\n",
       "      <td>-0.024437</td>\n",
       "    </tr>\n",
       "    <tr>\n",
       "      <th>50%</th>\n",
       "      <td>2.000000</td>\n",
       "      <td>3.000000</td>\n",
       "      <td>1624.000000</td>\n",
       "      <td>6037.000000</td>\n",
       "      <td>6.790000e+03</td>\n",
       "      <td>24832.000000</td>\n",
       "      <td>3101.000000</td>\n",
       "      <td>96389.000000</td>\n",
       "      <td>1958.000000</td>\n",
       "      <td>3.271200e+05</td>\n",
       "      <td>0.006741</td>\n",
       "    </tr>\n",
       "    <tr>\n",
       "      <th>75%</th>\n",
       "      <td>3.000000</td>\n",
       "      <td>4.000000</td>\n",
       "      <td>2200.000000</td>\n",
       "      <td>6059.000000</td>\n",
       "      <td>8.600000e+03</td>\n",
       "      <td>44116.000000</td>\n",
       "      <td>3101.000000</td>\n",
       "      <td>96987.000000</td>\n",
       "      <td>1975.000000</td>\n",
       "      <td>5.288470e+05</td>\n",
       "      <td>0.039486</td>\n",
       "    </tr>\n",
       "    <tr>\n",
       "      <th>max</th>\n",
       "      <td>20.000000</td>\n",
       "      <td>25.000000</td>\n",
       "      <td>26345.000000</td>\n",
       "      <td>6111.000000</td>\n",
       "      <td>6.971010e+06</td>\n",
       "      <td>396556.000000</td>\n",
       "      <td>3101.000000</td>\n",
       "      <td>399675.000000</td>\n",
       "      <td>2016.000000</td>\n",
       "      <td>3.016684e+07</td>\n",
       "      <td>5.262999</td>\n",
       "    </tr>\n",
       "  </tbody>\n",
       "</table>\n",
       "</div>"
      ],
      "text/plain": [
       "          bathrooms      bedrooms          sqft          fips      lot_size  \\\n",
       "count  54553.000000  54553.000000  54553.000000  54553.000000  5.455300e+04   \n",
       "mean       2.237686      3.298517   1857.693784   6048.856177  1.123118e+04   \n",
       "std        0.989100      0.931808    955.170666     21.280432  9.141415e+04   \n",
       "min        0.000000      0.000000     20.000000   6037.000000  1.690000e+02   \n",
       "25%        2.000000      3.000000   1260.000000   6037.000000  5.686000e+03   \n",
       "50%        2.000000      3.000000   1624.000000   6037.000000  6.790000e+03   \n",
       "75%        3.000000      4.000000   2200.000000   6059.000000  8.600000e+03   \n",
       "max       20.000000     25.000000  26345.000000   6111.000000  6.971010e+06   \n",
       "\n",
       "                city        county        zipcode          year     tax_value  \\\n",
       "count   54553.000000  54553.000000   54553.000000  54553.000000  5.455300e+04   \n",
       "mean    35502.566018   2560.631918   96594.523436   1960.796253  4.525896e+05   \n",
       "std     54204.959656    786.841412    4323.250953     21.698743  5.892449e+05   \n",
       "min      3491.000000   1286.000000   95982.000000   1862.000000  9.000000e+00   \n",
       "25%     12447.000000   2061.000000   96193.000000   1949.000000  1.866290e+05   \n",
       "50%     24832.000000   3101.000000   96389.000000   1958.000000  3.271200e+05   \n",
       "75%     44116.000000   3101.000000   96987.000000   1975.000000  5.288470e+05   \n",
       "max    396556.000000   3101.000000  399675.000000   2016.000000  3.016684e+07   \n",
       "\n",
       "           logerror  \n",
       "count  54553.000000  \n",
       "mean       0.016783  \n",
       "std        0.172213  \n",
       "min       -4.655420  \n",
       "25%       -0.024437  \n",
       "50%        0.006741  \n",
       "75%        0.039486  \n",
       "max        5.262999  "
      ]
     },
     "execution_count": 12,
     "metadata": {},
     "output_type": "execute_result"
    }
   ],
   "source": [
    "df.describe()"
   ]
  },
  {
   "cell_type": "code",
   "execution_count": 13,
   "id": "568df6a5",
   "metadata": {},
   "outputs": [],
   "source": [
    "df = df[df['bedrooms'] < 5]\n",
    "#     # remove rows with 6 or more bathrooms\n",
    "df = df[df['bathrooms'] < 4]\n",
    "#     # remove rows with values less than or equal to 700 square feet\n",
    "df = df[df.sqft > 1000]\n",
    "#     # remove rows with values greater than or equal to 10_000 square feet\n",
    "df = df[df.sqft < 4000]\n",
    "# remove rows with tax values greater than or equal to 600000\n",
    "df = df[df.tax_value < 800000]\n",
    "# remove rows with tax values less than or equal to 1000\n",
    "df = df[df.tax_value > 90000]\n",
    "#     # remove rows with a year less than or equal to 1899\n",
    "# df = df[df.year > 1899]\n",
    "df = df[df.bathrooms > 0]\n",
    "df = df[df.bedrooms > 0]"
   ]
  },
  {
   "cell_type": "code",
   "execution_count": 14,
   "id": "5a8915cb",
   "metadata": {},
   "outputs": [],
   "source": [
    "df = df[df.lot_size < 12000]\n",
    "df = df[df.lot_size > 1000]"
   ]
  },
  {
   "cell_type": "code",
   "execution_count": 15,
   "id": "c28da1e0",
   "metadata": {},
   "outputs": [
    {
     "data": {
      "text/plain": [
       "(array([4005., 5020., 5563., 4684., 4033., 3163., 2186., 1586., 1167.,\n",
       "         803.]),\n",
       " array([ 90005. , 160959.3, 231913.6, 302867.9, 373822.2, 444776.5,\n",
       "        515730.8, 586685.1, 657639.4, 728593.7, 799548. ]),\n",
       " <BarContainer object of 10 artists>)"
      ]
     },
     "execution_count": 15,
     "metadata": {},
     "output_type": "execute_result"
    },
    {
     "data": {
      "image/png": "[encoded data removed]",
      "text/plain": [
       "<Figure size 432x288 with 1 Axes>"
      ]
     },
     "metadata": {
      "needs_background": "light"
     },
     "output_type": "display_data"
    }
   ],
   "source": [
    "plt.hist(df.tax_value)"
   ]
  },
  {
   "cell_type": "code",
   "execution_count": 16,
   "id": "25454304",
   "metadata": {},
   "outputs": [
    {
     "data": {
      "text/plain": [
       "(array([ 527.,  788., 1302., 4408., 8767., 8002., 4083., 2018., 1406.,\n",
       "         909.]),\n",
       " array([ 1010. ,  2108.9,  3207.8,  4306.7,  5405.6,  6504.5,  7603.4,\n",
       "         8702.3,  9801.2, 10900.1, 11999. ]),\n",
       " <BarContainer object of 10 artists>)"
      ]
     },
     "execution_count": 16,
     "metadata": {},
     "output_type": "execute_result"
    },
    {
     "data": {
      "image/png": "[encoded data removed]",
      "text/plain": [
       "<Figure size 432x288 with 1 Axes>"
      ]
     },
     "metadata": {
      "needs_background": "light"
     },
     "output_type": "display_data"
    }
   ],
   "source": [
    "plt.hist(df.lot_size)"
   ]
  },
  {
   "cell_type": "code",
   "execution_count": 17,
   "id": "cbcd3240",
   "metadata": {},
   "outputs": [
    {
     "data": {
      "text/html": [
       "<div>\n",
       "<style scoped>\n",
       "    .dataframe tbody tr th:only-of-type {\n",
       "        vertical-align: middle;\n",
       "    }\n",
       "\n",
       "    .dataframe tbody tr th {\n",
       "        vertical-align: top;\n",
       "    }\n",
       "\n",
       "    .dataframe thead th {\n",
       "        text-align: right;\n",
       "    }\n",
       "</style>\n",
       "<table border=\"1\" class=\"dataframe\">\n",
       "  <thead>\n",
       "    <tr style=\"text-align: right;\">\n",
       "      <th></th>\n",
       "      <th>bathrooms</th>\n",
       "      <th>bedrooms</th>\n",
       "      <th>sqft</th>\n",
       "      <th>fips</th>\n",
       "      <th>lot_size</th>\n",
       "      <th>city</th>\n",
       "      <th>county</th>\n",
       "      <th>zipcode</th>\n",
       "      <th>year</th>\n",
       "      <th>tax_value</th>\n",
       "      <th>logerror</th>\n",
       "    </tr>\n",
       "  </thead>\n",
       "  <tbody>\n",
       "    <tr>\n",
       "      <th>count</th>\n",
       "      <td>32210.000000</td>\n",
       "      <td>32210.000000</td>\n",
       "      <td>32210.000000</td>\n",
       "      <td>32210.000000</td>\n",
       "      <td>32210.000000</td>\n",
       "      <td>32210.000000</td>\n",
       "      <td>32210.000000</td>\n",
       "      <td>32210.000000</td>\n",
       "      <td>32210.000000</td>\n",
       "      <td>32210.000000</td>\n",
       "      <td>32210.000000</td>\n",
       "    </tr>\n",
       "    <tr>\n",
       "      <th>mean</th>\n",
       "      <td>2.095017</td>\n",
       "      <td>3.211518</td>\n",
       "      <td>1669.782738</td>\n",
       "      <td>6049.463893</td>\n",
       "      <td>6694.857311</td>\n",
       "      <td>35237.199690</td>\n",
       "      <td>2522.147314</td>\n",
       "      <td>96558.506209</td>\n",
       "      <td>1961.186122</td>\n",
       "      <td>351363.281000</td>\n",
       "      <td>0.016958</td>\n",
       "    </tr>\n",
       "    <tr>\n",
       "      <th>std</th>\n",
       "      <td>0.597893</td>\n",
       "      <td>0.643993</td>\n",
       "      <td>481.969862</td>\n",
       "      <td>21.454723</td>\n",
       "      <td>1896.527350</td>\n",
       "      <td>53669.538456</td>\n",
       "      <td>802.527657</td>\n",
       "      <td>404.305565</td>\n",
       "      <td>20.018932</td>\n",
       "      <td>168298.699538</td>\n",
       "      <td>0.171299</td>\n",
       "    </tr>\n",
       "    <tr>\n",
       "      <th>min</th>\n",
       "      <td>1.000000</td>\n",
       "      <td>1.000000</td>\n",
       "      <td>1001.000000</td>\n",
       "      <td>6037.000000</td>\n",
       "      <td>1010.000000</td>\n",
       "      <td>3491.000000</td>\n",
       "      <td>1286.000000</td>\n",
       "      <td>95982.000000</td>\n",
       "      <td>1885.000000</td>\n",
       "      <td>90005.000000</td>\n",
       "      <td>-4.655420</td>\n",
       "    </tr>\n",
       "    <tr>\n",
       "      <th>25%</th>\n",
       "      <td>2.000000</td>\n",
       "      <td>3.000000</td>\n",
       "      <td>1299.000000</td>\n",
       "      <td>6037.000000</td>\n",
       "      <td>5592.000000</td>\n",
       "      <td>12447.000000</td>\n",
       "      <td>1286.000000</td>\n",
       "      <td>96212.000000</td>\n",
       "      <td>1950.000000</td>\n",
       "      <td>219580.000000</td>\n",
       "      <td>-0.024416</td>\n",
       "    </tr>\n",
       "    <tr>\n",
       "      <th>50%</th>\n",
       "      <td>2.000000</td>\n",
       "      <td>3.000000</td>\n",
       "      <td>1570.000000</td>\n",
       "      <td>6037.000000</td>\n",
       "      <td>6550.000000</td>\n",
       "      <td>24832.000000</td>\n",
       "      <td>3101.000000</td>\n",
       "      <td>96424.000000</td>\n",
       "      <td>1959.000000</td>\n",
       "      <td>324441.000000</td>\n",
       "      <td>0.006737</td>\n",
       "    </tr>\n",
       "    <tr>\n",
       "      <th>75%</th>\n",
       "      <td>2.500000</td>\n",
       "      <td>4.000000</td>\n",
       "      <td>1936.000000</td>\n",
       "      <td>6059.000000</td>\n",
       "      <td>7675.000000</td>\n",
       "      <td>42967.000000</td>\n",
       "      <td>3101.000000</td>\n",
       "      <td>96995.000000</td>\n",
       "      <td>1974.000000</td>\n",
       "      <td>460000.000000</td>\n",
       "      <td>0.039561</td>\n",
       "    </tr>\n",
       "    <tr>\n",
       "      <th>max</th>\n",
       "      <td>3.500000</td>\n",
       "      <td>4.000000</td>\n",
       "      <td>3992.000000</td>\n",
       "      <td>6111.000000</td>\n",
       "      <td>11999.000000</td>\n",
       "      <td>396556.000000</td>\n",
       "      <td>3101.000000</td>\n",
       "      <td>97330.000000</td>\n",
       "      <td>2015.000000</td>\n",
       "      <td>799548.000000</td>\n",
       "      <td>3.394544</td>\n",
       "    </tr>\n",
       "  </tbody>\n",
       "</table>\n",
       "</div>"
      ],
      "text/plain": [
       "          bathrooms      bedrooms          sqft          fips      lot_size  \\\n",
       "count  32210.000000  32210.000000  32210.000000  32210.000000  32210.000000   \n",
       "mean       2.095017      3.211518   1669.782738   6049.463893   6694.857311   \n",
       "std        0.597893      0.643993    481.969862     21.454723   1896.527350   \n",
       "min        1.000000      1.000000   1001.000000   6037.000000   1010.000000   \n",
       "25%        2.000000      3.000000   1299.000000   6037.000000   5592.000000   \n",
       "50%        2.000000      3.000000   1570.000000   6037.000000   6550.000000   \n",
       "75%        2.500000      4.000000   1936.000000   6059.000000   7675.000000   \n",
       "max        3.500000      4.000000   3992.000000   6111.000000  11999.000000   \n",
       "\n",
       "                city        county       zipcode          year      tax_value  \\\n",
       "count   32210.000000  32210.000000  32210.000000  32210.000000   32210.000000   \n",
       "mean    35237.199690   2522.147314  96558.506209   1961.186122  351363.281000   \n",
       "std     53669.538456    802.527657    404.305565     20.018932  168298.699538   \n",
       "min      3491.000000   1286.000000  95982.000000   1885.000000   90005.000000   \n",
       "25%     12447.000000   1286.000000  96212.000000   1950.000000  219580.000000   \n",
       "50%     24832.000000   3101.000000  96424.000000   1959.000000  324441.000000   \n",
       "75%     42967.000000   3101.000000  96995.000000   1974.000000  460000.000000   \n",
       "max    396556.000000   3101.000000  97330.000000   2015.000000  799548.000000   \n",
       "\n",
       "           logerror  \n",
       "count  32210.000000  \n",
       "mean       0.016958  \n",
       "std        0.171299  \n",
       "min       -4.655420  \n",
       "25%       -0.024416  \n",
       "50%        0.006737  \n",
       "75%        0.039561  \n",
       "max        3.394544  "
      ]
     },
     "execution_count": 17,
     "metadata": {},
     "output_type": "execute_result"
    }
   ],
   "source": [
    "df.describe()"
   ]
  },
  {
   "cell_type": "code",
   "execution_count": 18,
   "id": "5700c5c5",
   "metadata": {},
   "outputs": [],
   "source": [
    "df = df.drop(columns=['zipcode','city','transactiondate','logerror'])"
   ]
  },
  {
   "cell_type": "code",
   "execution_count": 19,
   "id": "5324c834",
   "metadata": {},
   "outputs": [],
   "source": [
    "def plot_residuals(y, yhat):\n",
    "    '''This function takes in two arguments, y (target variable) and yhat (model predictions) and returns a \n",
    "    scatterplot of the residuals of the target variable.'''\n",
    "    residuals = y - yhat\n",
    "    plt.scatter(x=y, y=residuals)\n",
    "    plt.xlabel('Home Value')\n",
    "    plt.ylabel('Residuals')\n",
    "    plt.title('Residuals for Home Value')\n",
    "    plt.show()"
   ]
  },
  {
   "cell_type": "code",
   "execution_count": 20,
   "id": "7641f660",
   "metadata": {},
   "outputs": [],
   "source": [
    "train, validate, test = wrangle.split_data(df)"
   ]
  },
  {
   "cell_type": "code",
   "execution_count": 21,
   "id": "673a9469",
   "metadata": {},
   "outputs": [
    {
     "data": {
      "text/plain": [
       "<AxesSubplot:xlabel='bedrooms', ylabel='count'>"
      ]
     },
     "execution_count": 21,
     "metadata": {},
     "output_type": "execute_result"
    },
    {
     "data": {
      "image/png": "[encoded data removed]",
      "text/plain": [
       "<Figure size 432x288 with 1 Axes>"
      ]
     },
     "metadata": {
      "needs_background": "light"
     },
     "output_type": "display_data"
    }
   ],
   "source": [
    "sns.countplot(train.bedrooms, hue=train.bathrooms)"
   ]
  },
  {
   "cell_type": "code",
   "execution_count": 22,
   "id": "0c06dad7",
   "metadata": {},
   "outputs": [
    {
     "data": {
      "text/plain": [
       "<AxesSubplot:xlabel='fips', ylabel='count'>"
      ]
     },
     "execution_count": 22,
     "metadata": {},
     "output_type": "execute_result"
    },
    {
     "data": {
      "image/png": "[encoded data removed]",
      "text/plain": [
       "<Figure size 432x288 with 1 Axes>"
      ]
     },
     "metadata": {
      "needs_background": "light"
     },
     "output_type": "display_data"
    }
   ],
   "source": [
    "sns.countplot(train.fips, hue=train.bedrooms)"
   ]
  },
  {
   "cell_type": "code",
   "execution_count": 23,
   "id": "d3329608",
   "metadata": {},
   "outputs": [
    {
     "data": {
      "text/plain": [
       "<AxesSubplot:xlabel='sqft', ylabel='lot_size'>"
      ]
     },
     "execution_count": 23,
     "metadata": {},
     "output_type": "execute_result"
    },
    {
     "data": {
      "image/png": "[encoded data removed]",
      "text/plain": [
       "<Figure size 360x360 with 1 Axes>"
      ]
     },
     "metadata": {
      "needs_background": "light"
     },
     "output_type": "display_data"
    }
   ],
   "source": [
    "sns.relplot(train.sqft, train.lot_size)\n",
    "sns.regplot(x='sqft', y='lot_size', data=train, truncate=False, scatter=False, color='red')"
   ]
  },
  {
   "cell_type": "code",
   "execution_count": 24,
   "id": "4df601c0",
   "metadata": {},
   "outputs": [
    {
     "data": {
      "text/plain": [
       "<AxesSubplot:xlabel='sqft', ylabel='tax_value'>"
      ]
     },
     "execution_count": 24,
     "metadata": {},
     "output_type": "execute_result"
    },
    {
     "data": {
      "image/png": "[encoded data removed]",
      "text/plain": [
       "<Figure size 360x360 with 1 Axes>"
      ]
     },
     "metadata": {
      "needs_background": "light"
     },
     "output_type": "display_data"
    }
   ],
   "source": [
    "sns.relplot(train.sqft, train.tax_value)\n",
    "sns.regplot(x='sqft', y='tax_value', data=train, truncate=False, scatter=False, color='red')"
   ]
  },
  {
   "cell_type": "code",
   "execution_count": 25,
   "id": "e14912c8",
   "metadata": {},
   "outputs": [
    {
     "data": {
      "text/plain": [
       "<AxesSubplot:xlabel='lot_size', ylabel='tax_value'>"
      ]
     },
     "execution_count": 25,
     "metadata": {},
     "output_type": "execute_result"
    },
    {
     "data": {
      "image/png": "[encoded data removed]",
      "text/plain": [
       "<Figure size 360x360 with 1 Axes>"
      ]
     },
     "metadata": {
      "needs_background": "light"
     },
     "output_type": "display_data"
    }
   ],
   "source": [
    "sns.relplot(train.lot_size, train.tax_value)\n",
    "sns.regplot(x='lot_size', y='tax_value', data=train, truncate=False, scatter=False, color='red')"
   ]
  },
  {
   "cell_type": "code",
   "execution_count": 26,
   "id": "55bea2ce",
   "metadata": {},
   "outputs": [
    {
     "data": {
      "text/plain": [
       "<AxesSubplot:xlabel='sqft', ylabel='Count'>"
      ]
     },
     "execution_count": 26,
     "metadata": {},
     "output_type": "execute_result"
    },
    {
     "data": {
      "image/png": "[encoded data removed]",
      "text/plain": [
       "<Figure size 432x288 with 1 Axes>"
      ]
     },
     "metadata": {
      "needs_background": "light"
     },
     "output_type": "display_data"
    }
   ],
   "source": [
    "sns.histplot(x=train.sqft, hue=train.fips)"
   ]
  },
  {
   "cell_type": "code",
   "execution_count": 27,
   "id": "9fe4cd5e",
   "metadata": {},
   "outputs": [
    {
     "data": {
      "text/plain": [
       "<AxesSubplot:xlabel='tax_value', ylabel='Count'>"
      ]
     },
     "execution_count": 27,
     "metadata": {},
     "output_type": "execute_result"
    },
    {
     "data": {
      "image/png": "[encoded data removed]",
      "text/plain": [
       "<Figure size 432x288 with 1 Axes>"
      ]
     },
     "metadata": {
      "needs_background": "light"
     },
     "output_type": "display_data"
    }
   ],
   "source": [
    "sns.histplot(x=train.tax_value, hue=train.fips)"
   ]
  },
  {
   "cell_type": "code",
   "execution_count": 28,
   "id": "cc9ca2da",
   "metadata": {},
   "outputs": [
    {
     "data": {
      "text/plain": [
       "<AxesSubplot:xlabel='tax_value', ylabel='Count'>"
      ]
     },
     "execution_count": 28,
     "metadata": {},
     "output_type": "execute_result"
    },
    {
     "data": {
      "image/png": "[encoded data removed]",
      "text/plain": [
       "<Figure size 432x288 with 1 Axes>"
      ]
     },
     "metadata": {
      "needs_background": "light"
     },
     "output_type": "display_data"
    }
   ],
   "source": [
    "sns.histplot(x=train.tax_value, hue=train.bathrooms[train.bathrooms >= 2])"
   ]
  },
  {
   "cell_type": "code",
   "execution_count": 29,
   "id": "8a3251c0",
   "metadata": {},
   "outputs": [
    {
     "data": {
      "text/plain": [
       "<AxesSubplot:xlabel='tax_value', ylabel='Count'>"
      ]
     },
     "execution_count": 29,
     "metadata": {},
     "output_type": "execute_result"
    },
    {
     "data": {
      "image/png": "[encoded data removed]",
      "text/plain": [
       "<Figure size 432x288 with 1 Axes>"
      ]
     },
     "metadata": {
      "needs_background": "light"
     },
     "output_type": "display_data"
    }
   ],
   "source": [
    "sns.histplot(x=train.tax_value, hue=train.bedrooms)"
   ]
  },
  {
   "cell_type": "code",
   "execution_count": 30,
   "id": "dd21097d",
   "metadata": {},
   "outputs": [
    {
     "data": {
      "text/plain": [
       "<AxesSubplot:xlabel='sqft', ylabel='Count'>"
      ]
     },
     "execution_count": 30,
     "metadata": {},
     "output_type": "execute_result"
    },
    {
     "data": {
      "image/png": "[encoded data removed]",
      "text/plain": [
       "<Figure size 432x288 with 1 Axes>"
      ]
     },
     "metadata": {
      "needs_background": "light"
     },
     "output_type": "display_data"
    }
   ],
   "source": [
    "sns.histplot(x=train.sqft, hue=train.bathrooms)"
   ]
  },
  {
   "cell_type": "code",
   "execution_count": 31,
   "id": "ec9669f6",
   "metadata": {},
   "outputs": [],
   "source": [
    "cols = ['bathrooms','bedrooms','sqft']\n",
    "X_train, y_train = train[cols], train.tax_value\n",
    "X_validate, y_validate = validate[cols], validate.tax_value\n",
    "X_test, y_test = test[cols], test.tax_value"
   ]
  },
  {
   "cell_type": "code",
   "execution_count": 32,
   "id": "459a1a60",
   "metadata": {},
   "outputs": [],
   "source": [
    "baseline = train.tax_value.mean()"
   ]
  },
  {
   "cell_type": "code",
   "execution_count": 33,
   "id": "c9a916ee",
   "metadata": {},
   "outputs": [],
   "source": [
    "train['baseline'] = baseline"
   ]
  },
  {
   "cell_type": "code",
   "execution_count": 34,
   "id": "717b8ca5",
   "metadata": {},
   "outputs": [
    {
     "data": {
      "text/html": [
       "<div>\n",
       "<style scoped>\n",
       "    .dataframe tbody tr th:only-of-type {\n",
       "        vertical-align: middle;\n",
       "    }\n",
       "\n",
       "    .dataframe tbody tr th {\n",
       "        vertical-align: top;\n",
       "    }\n",
       "\n",
       "    .dataframe thead th {\n",
       "        text-align: right;\n",
       "    }\n",
       "</style>\n",
       "<table border=\"1\" class=\"dataframe\">\n",
       "  <thead>\n",
       "    <tr style=\"text-align: right;\">\n",
       "      <th></th>\n",
       "      <th>bathrooms</th>\n",
       "      <th>bedrooms</th>\n",
       "      <th>sqft</th>\n",
       "      <th>fips</th>\n",
       "      <th>lot_size</th>\n",
       "      <th>county</th>\n",
       "      <th>year</th>\n",
       "      <th>tax_value</th>\n",
       "      <th>baseline</th>\n",
       "    </tr>\n",
       "  </thead>\n",
       "  <tbody>\n",
       "    <tr>\n",
       "      <th>33806</th>\n",
       "      <td>2.0</td>\n",
       "      <td>3</td>\n",
       "      <td>1681.0</td>\n",
       "      <td>6037</td>\n",
       "      <td>6959.0</td>\n",
       "      <td>3101.0</td>\n",
       "      <td>1956</td>\n",
       "      <td>353537.0</td>\n",
       "      <td>353307.021474</td>\n",
       "    </tr>\n",
       "    <tr>\n",
       "      <th>34268</th>\n",
       "      <td>2.0</td>\n",
       "      <td>4</td>\n",
       "      <td>1654.0</td>\n",
       "      <td>6037</td>\n",
       "      <td>7496.0</td>\n",
       "      <td>3101.0</td>\n",
       "      <td>1980</td>\n",
       "      <td>176299.0</td>\n",
       "      <td>353307.021474</td>\n",
       "    </tr>\n",
       "    <tr>\n",
       "      <th>28434</th>\n",
       "      <td>1.0</td>\n",
       "      <td>2</td>\n",
       "      <td>1338.0</td>\n",
       "      <td>6037</td>\n",
       "      <td>6521.0</td>\n",
       "      <td>3101.0</td>\n",
       "      <td>1953</td>\n",
       "      <td>461934.0</td>\n",
       "      <td>353307.021474</td>\n",
       "    </tr>\n",
       "    <tr>\n",
       "      <th>47024</th>\n",
       "      <td>1.0</td>\n",
       "      <td>2</td>\n",
       "      <td>1050.0</td>\n",
       "      <td>6037</td>\n",
       "      <td>3335.0</td>\n",
       "      <td>3101.0</td>\n",
       "      <td>1915</td>\n",
       "      <td>744637.0</td>\n",
       "      <td>353307.021474</td>\n",
       "    </tr>\n",
       "    <tr>\n",
       "      <th>13023</th>\n",
       "      <td>3.0</td>\n",
       "      <td>3</td>\n",
       "      <td>1792.0</td>\n",
       "      <td>6037</td>\n",
       "      <td>7019.0</td>\n",
       "      <td>3101.0</td>\n",
       "      <td>1984</td>\n",
       "      <td>197973.0</td>\n",
       "      <td>353307.021474</td>\n",
       "    </tr>\n",
       "    <tr>\n",
       "      <th>...</th>\n",
       "      <td>...</td>\n",
       "      <td>...</td>\n",
       "      <td>...</td>\n",
       "      <td>...</td>\n",
       "      <td>...</td>\n",
       "      <td>...</td>\n",
       "      <td>...</td>\n",
       "      <td>...</td>\n",
       "      <td>...</td>\n",
       "    </tr>\n",
       "    <tr>\n",
       "      <th>50902</th>\n",
       "      <td>2.0</td>\n",
       "      <td>2</td>\n",
       "      <td>1122.0</td>\n",
       "      <td>6059</td>\n",
       "      <td>3276.0</td>\n",
       "      <td>1286.0</td>\n",
       "      <td>1986</td>\n",
       "      <td>151372.0</td>\n",
       "      <td>353307.021474</td>\n",
       "    </tr>\n",
       "    <tr>\n",
       "      <th>750</th>\n",
       "      <td>2.0</td>\n",
       "      <td>4</td>\n",
       "      <td>2040.0</td>\n",
       "      <td>6111</td>\n",
       "      <td>8940.0</td>\n",
       "      <td>2061.0</td>\n",
       "      <td>1975</td>\n",
       "      <td>442053.0</td>\n",
       "      <td>353307.021474</td>\n",
       "    </tr>\n",
       "    <tr>\n",
       "      <th>50269</th>\n",
       "      <td>3.0</td>\n",
       "      <td>3</td>\n",
       "      <td>1505.0</td>\n",
       "      <td>6037</td>\n",
       "      <td>2871.0</td>\n",
       "      <td>3101.0</td>\n",
       "      <td>1997</td>\n",
       "      <td>168589.0</td>\n",
       "      <td>353307.021474</td>\n",
       "    </tr>\n",
       "    <tr>\n",
       "      <th>54143</th>\n",
       "      <td>2.0</td>\n",
       "      <td>3</td>\n",
       "      <td>2558.0</td>\n",
       "      <td>6111</td>\n",
       "      <td>8775.0</td>\n",
       "      <td>2061.0</td>\n",
       "      <td>1957</td>\n",
       "      <td>497472.0</td>\n",
       "      <td>353307.021474</td>\n",
       "    </tr>\n",
       "    <tr>\n",
       "      <th>5167</th>\n",
       "      <td>3.0</td>\n",
       "      <td>3</td>\n",
       "      <td>2209.0</td>\n",
       "      <td>6037</td>\n",
       "      <td>8270.0</td>\n",
       "      <td>3101.0</td>\n",
       "      <td>1953</td>\n",
       "      <td>364171.0</td>\n",
       "      <td>353307.021474</td>\n",
       "    </tr>\n",
       "  </tbody>\n",
       "</table>\n",
       "<p>19326 rows × 9 columns</p>\n",
       "</div>"
      ],
      "text/plain": [
       "       bathrooms  bedrooms    sqft  fips  lot_size  county  year  tax_value  \\\n",
       "33806        2.0         3  1681.0  6037    6959.0  3101.0  1956   353537.0   \n",
       "34268        2.0         4  1654.0  6037    7496.0  3101.0  1980   176299.0   \n",
       "28434        1.0         2  1338.0  6037    6521.0  3101.0  1953   461934.0   \n",
       "47024        1.0         2  1050.0  6037    3335.0  3101.0  1915   744637.0   \n",
       "13023        3.0         3  1792.0  6037    7019.0  3101.0  1984   197973.0   \n",
       "...          ...       ...     ...   ...       ...     ...   ...        ...   \n",
       "50902        2.0         2  1122.0  6059    3276.0  1286.0  1986   151372.0   \n",
       "750          2.0         4  2040.0  6111    8940.0  2061.0  1975   442053.0   \n",
       "50269        3.0         3  1505.0  6037    2871.0  3101.0  1997   168589.0   \n",
       "54143        2.0         3  2558.0  6111    8775.0  2061.0  1957   497472.0   \n",
       "5167         3.0         3  2209.0  6037    8270.0  3101.0  1953   364171.0   \n",
       "\n",
       "            baseline  \n",
       "33806  353307.021474  \n",
       "34268  353307.021474  \n",
       "28434  353307.021474  \n",
       "47024  353307.021474  \n",
       "13023  353307.021474  \n",
       "...              ...  \n",
       "50902  353307.021474  \n",
       "750    353307.021474  \n",
       "50269  353307.021474  \n",
       "54143  353307.021474  \n",
       "5167   353307.021474  \n",
       "\n",
       "[19326 rows x 9 columns]"
      ]
     },
     "execution_count": 34,
     "metadata": {},
     "output_type": "execute_result"
    }
   ],
   "source": [
    "train"
   ]
  },
  {
   "cell_type": "code",
   "execution_count": 35,
   "id": "8e6ca51e",
   "metadata": {},
   "outputs": [],
   "source": [
    "X_train_scaled, X_validate_scaled, X_test_scaled = wrangle.minmax_scaler(X_train, X_validate, X_test)"
   ]
  },
  {
   "cell_type": "code",
   "execution_count": 36,
   "id": "97532999",
   "metadata": {},
   "outputs": [],
   "source": [
    "ols_model = LinearRegression().fit(X_train_scaled, train.tax_value)"
   ]
  },
  {
   "cell_type": "code",
   "execution_count": 37,
   "id": "0b9fd7fa",
   "metadata": {},
   "outputs": [],
   "source": [
    "train['yhat'] = ols_model.predict(X_train_scaled)"
   ]
  },
  {
   "cell_type": "code",
   "execution_count": 38,
   "id": "862c54b6",
   "metadata": {},
   "outputs": [],
   "source": [
    "y = train.tax_value\n",
    "yhat = train.yhat"
   ]
  },
  {
   "cell_type": "code",
   "execution_count": 39,
   "id": "174ad669",
   "metadata": {},
   "outputs": [],
   "source": [
    "# create column for model residual error\n",
    "train['residual'] = train.yhat - train.tax_value\n",
    "# create column for baseline residual error\n",
    "train['residual_baseline'] = train.baseline - train.tax_value"
   ]
  },
  {
   "cell_type": "code",
   "execution_count": 40,
   "id": "f3866367",
   "metadata": {},
   "outputs": [],
   "source": [
    "# calculate the model's sum of squares error for the selected variables against the target variable\n",
    "SSE = mean_squared_error(train.tax_value, train.yhat)*len(train)\n",
    "# calculate the baseline's sum of squares error for the selected variables against the target variable\n",
    "SSE_baseline = mean_squared_error(train.tax_value, train.baseline)*len(train)\n",
    "# calculate the model mean squared error for the selected variables against the target variable\n",
    "MSE = mean_squared_error(train.tax_value, train.yhat)\n",
    "# calculate the baseline mean squared error for the selected variables against the target variable\n",
    "MSE_baseline = mean_squared_error(train.tax_value, train.baseline)\n",
    "# calculate the model root mean squared error for the selected variables against the target variable\n",
    "RMSE = sqrt(mean_squared_error(train.tax_value, train.yhat))\n",
    "# calculate the baseline root mean squared error for the selected variables against the target variable\n",
    "RMSE_baseline = sqrt(mean_squared_error(train.tax_value, train.baseline))"
   ]
  },
  {
   "cell_type": "code",
   "execution_count": 41,
   "id": "d4d1d1da",
   "metadata": {},
   "outputs": [
    {
     "name": "stdout",
     "output_type": "stream",
     "text": [
      "  metric   model_error\n",
      "0    SSE  4.941814e+14\n",
      "1    MSE  2.557081e+10\n",
      "2   RMSE  1.599087e+05\n",
      "          metric   model_error\n",
      "0   SSE_baseline  5.504865e+14\n",
      "1   MSE_baseline  2.848424e+10\n",
      "2  RMSE_baseline  1.687728e+05\n"
     ]
    }
   ],
   "source": [
    "# create a dataframe for the model SSE, MSE, RMSE\n",
    "train_eval = pd.DataFrame(np.array(['SSE','MSE','RMSE']), columns=['metric'])\n",
    "# create a dataframe to show the baseline SSE, MSE, RMSE\n",
    "train_baseline_eval = pd.DataFrame(np.array(['SSE_baseline','MSE_baseline','RMSE_baseline']), columns=['metric'])\n",
    "# add a column to the train_eval dataframe for the values associated with each model metric\n",
    "train_eval['model_error'] = np.array([SSE, MSE, RMSE])\n",
    "# add a column to the train_baseline_eval for the values associated with each baseline metric\n",
    "train_baseline_eval['model_error'] = np.array([SSE_baseline, MSE_baseline, RMSE_baseline])\n",
    "# print the dataframes\n",
    "print(train_eval)\n",
    "print(train_baseline_eval)"
   ]
  },
  {
   "cell_type": "code",
   "execution_count": 42,
   "id": "6b404b50",
   "metadata": {},
   "outputs": [
    {
     "data": {
      "text/html": [
       "<div>\n",
       "<style scoped>\n",
       "    .dataframe tbody tr th:only-of-type {\n",
       "        vertical-align: middle;\n",
       "    }\n",
       "\n",
       "    .dataframe tbody tr th {\n",
       "        vertical-align: top;\n",
       "    }\n",
       "\n",
       "    .dataframe thead th {\n",
       "        text-align: right;\n",
       "    }\n",
       "</style>\n",
       "<table border=\"1\" class=\"dataframe\">\n",
       "  <thead>\n",
       "    <tr style=\"text-align: right;\">\n",
       "      <th></th>\n",
       "      <th>metric</th>\n",
       "      <th>model_error</th>\n",
       "      <th>error_delta</th>\n",
       "    </tr>\n",
       "  </thead>\n",
       "  <tbody>\n",
       "    <tr>\n",
       "      <th>0</th>\n",
       "      <td>SSE</td>\n",
       "      <td>4.941814e+14</td>\n",
       "      <td>-5.630505e+13</td>\n",
       "    </tr>\n",
       "    <tr>\n",
       "      <th>1</th>\n",
       "      <td>MSE</td>\n",
       "      <td>2.557081e+10</td>\n",
       "      <td>-2.913435e+09</td>\n",
       "    </tr>\n",
       "    <tr>\n",
       "      <th>2</th>\n",
       "      <td>RMSE</td>\n",
       "      <td>1.599087e+05</td>\n",
       "      <td>-8.864007e+03</td>\n",
       "    </tr>\n",
       "  </tbody>\n",
       "</table>\n",
       "</div>"
      ],
      "text/plain": [
       "  metric   model_error   error_delta\n",
       "0    SSE  4.941814e+14 -5.630505e+13\n",
       "1    MSE  2.557081e+10 -2.913435e+09\n",
       "2   RMSE  1.599087e+05 -8.864007e+03"
      ]
     },
     "execution_count": 42,
     "metadata": {},
     "output_type": "execute_result"
    }
   ],
   "source": [
    "# add a column to train_eval for the error delta for each metric\n",
    "train_eval['error_delta'] = train_eval.model_error - train_baseline_eval.model_error\n",
    "train_eval"
   ]
  },
  {
   "cell_type": "code",
   "execution_count": 43,
   "id": "ea14a4e2",
   "metadata": {},
   "outputs": [
    {
     "data": {
      "image/png": "[encoded data removed]",
      "text/plain": [
       "<Figure size 432x288 with 1 Axes>"
      ]
     },
     "metadata": {
      "needs_background": "light"
     },
     "output_type": "display_data"
    }
   ],
   "source": [
    "plot_residuals(y, yhat)"
   ]
  },
  {
   "cell_type": "code",
   "execution_count": 44,
   "id": "a767d7db",
   "metadata": {},
   "outputs": [],
   "source": [
    "cols = ['bathrooms','sqft','year','fips']\n",
    "X_train, y_train = train[cols], train.tax_value\n",
    "X_validate, y_validate = validate[cols], validate.tax_value\n",
    "X_test, y_test = test[cols], test.tax_value"
   ]
  },
  {
   "cell_type": "code",
   "execution_count": 45,
   "id": "5f1f6701",
   "metadata": {},
   "outputs": [],
   "source": [
    "baseline = train.tax_value.mean()"
   ]
  },
  {
   "cell_type": "code",
   "execution_count": 46,
   "id": "6a0ac404",
   "metadata": {},
   "outputs": [],
   "source": [
    "train['baseline'] = baseline\n",
    "validate['baseline'] = validate.tax_value.mean()"
   ]
  },
  {
   "cell_type": "code",
   "execution_count": 47,
   "id": "8049ebf2",
   "metadata": {},
   "outputs": [],
   "source": [
    "X_train_scaled, X_validate_scaled, X_test_scaled = wrangle.minmax_scaler(X_train, X_validate, X_test)"
   ]
  },
  {
   "cell_type": "code",
   "execution_count": 48,
   "id": "2805d7cd",
   "metadata": {},
   "outputs": [],
   "source": [
    "ols_model = LinearRegression().fit(X_train_scaled, train.tax_value)"
   ]
  },
  {
   "cell_type": "code",
   "execution_count": 49,
   "id": "c7abff47",
   "metadata": {},
   "outputs": [],
   "source": [
    "train['yhat'] = ols_model.predict(X_train_scaled)"
   ]
  },
  {
   "cell_type": "code",
   "execution_count": 50,
   "id": "cf69c110",
   "metadata": {},
   "outputs": [],
   "source": [
    "y = train.tax_value\n",
    "yhat = train.yhat"
   ]
  },
  {
   "cell_type": "code",
   "execution_count": 51,
   "id": "c6183b2f",
   "metadata": {},
   "outputs": [],
   "source": [
    "# create column for model residual error\n",
    "train['residual'] = train.yhat - train.tax_value\n",
    "# create column for baseline residual error\n",
    "train['residual_baseline'] = train.baseline - train.tax_value"
   ]
  },
  {
   "cell_type": "code",
   "execution_count": 52,
   "id": "4da695cb",
   "metadata": {},
   "outputs": [],
   "source": [
    "# calculate the model's sum of squares error for the selected variables against the target variable\n",
    "SSE = mean_squared_error(train.tax_value, train.yhat)*len(train)\n",
    "# calculate the baseline's sum of squares error for the selected variables against the target variable\n",
    "SSE_baseline = mean_squared_error(train.tax_value, train.baseline)*len(train)\n",
    "# calculate the model mean squared error for the selected variables against the target variable\n",
    "MSE = mean_squared_error(train.tax_value, train.yhat)\n",
    "# calculate the baseline mean squared error for the selected variables against the target variable\n",
    "MSE_baseline = mean_squared_error(train.tax_value, train.baseline)\n",
    "# calculate the model root mean squared error for the selected variables against the target variable\n",
    "RMSE = sqrt(mean_squared_error(train.tax_value, train.yhat))\n",
    "# calculate the baseline root mean squared error for the selected variables against the target variable\n",
    "RMSE_baseline = sqrt(mean_squared_error(train.tax_value, train.baseline))"
   ]
  },
  {
   "cell_type": "code",
   "execution_count": 53,
   "id": "07470e4b",
   "metadata": {},
   "outputs": [
    {
     "name": "stdout",
     "output_type": "stream",
     "text": [
      "  metric   model_error\n",
      "0    SSE  4.932268e+14\n",
      "1    MSE  2.552141e+10\n",
      "2   RMSE  1.597542e+05\n",
      "          metric   model_error\n",
      "0   SSE_baseline  5.504865e+14\n",
      "1   MSE_baseline  2.848424e+10\n",
      "2  RMSE_baseline  1.687728e+05\n"
     ]
    }
   ],
   "source": [
    "# create a dataframe for the model SSE, MSE, RMSE\n",
    "train_eval = pd.DataFrame(np.array(['SSE','MSE','RMSE']), columns=['metric'])\n",
    "# create a dataframe to show the baseline SSE, MSE, RMSE\n",
    "train_baseline_eval = pd.DataFrame(np.array(['SSE_baseline','MSE_baseline','RMSE_baseline']), columns=['metric'])\n",
    "# add a column to the train_eval dataframe for the values associated with each model metric\n",
    "train_eval['model_error'] = np.array([SSE, MSE, RMSE])\n",
    "# add a column to the train_baseline_eval for the values associated with each baseline metric\n",
    "train_baseline_eval['model_error'] = np.array([SSE_baseline, MSE_baseline, RMSE_baseline])\n",
    "# print the dataframes\n",
    "print(train_eval)\n",
    "print(train_baseline_eval)"
   ]
  },
  {
   "cell_type": "code",
   "execution_count": 54,
   "id": "d13c4d7c",
   "metadata": {},
   "outputs": [
    {
     "data": {
      "text/html": [
       "<div>\n",
       "<style scoped>\n",
       "    .dataframe tbody tr th:only-of-type {\n",
       "        vertical-align: middle;\n",
       "    }\n",
       "\n",
       "    .dataframe tbody tr th {\n",
       "        vertical-align: top;\n",
       "    }\n",
       "\n",
       "    .dataframe thead th {\n",
       "        text-align: right;\n",
       "    }\n",
       "</style>\n",
       "<table border=\"1\" class=\"dataframe\">\n",
       "  <thead>\n",
       "    <tr style=\"text-align: right;\">\n",
       "      <th></th>\n",
       "      <th>metric</th>\n",
       "      <th>model_error</th>\n",
       "      <th>error_delta</th>\n",
       "    </tr>\n",
       "  </thead>\n",
       "  <tbody>\n",
       "    <tr>\n",
       "      <th>0</th>\n",
       "      <td>SSE</td>\n",
       "      <td>4.932268e+14</td>\n",
       "      <td>-5.725966e+13</td>\n",
       "    </tr>\n",
       "    <tr>\n",
       "      <th>1</th>\n",
       "      <td>MSE</td>\n",
       "      <td>2.552141e+10</td>\n",
       "      <td>-2.962830e+09</td>\n",
       "    </tr>\n",
       "    <tr>\n",
       "      <th>2</th>\n",
       "      <td>RMSE</td>\n",
       "      <td>1.597542e+05</td>\n",
       "      <td>-9.018530e+03</td>\n",
       "    </tr>\n",
       "  </tbody>\n",
       "</table>\n",
       "</div>"
      ],
      "text/plain": [
       "  metric   model_error   error_delta\n",
       "0    SSE  4.932268e+14 -5.725966e+13\n",
       "1    MSE  2.552141e+10 -2.962830e+09\n",
       "2   RMSE  1.597542e+05 -9.018530e+03"
      ]
     },
     "execution_count": 54,
     "metadata": {},
     "output_type": "execute_result"
    }
   ],
   "source": [
    "# add a column to train_eval for the error delta for each metric\n",
    "train_eval['error_delta'] = train_eval.model_error - train_baseline_eval.model_error\n",
    "train_eval"
   ]
  },
  {
   "cell_type": "code",
   "execution_count": 55,
   "id": "eedc0010",
   "metadata": {},
   "outputs": [
    {
     "data": {
      "text/plain": [
       "0.10401646946638943"
      ]
     },
     "execution_count": 55,
     "metadata": {},
     "output_type": "execute_result"
    }
   ],
   "source": [
    "r2_score(train.tax_value, train.yhat)"
   ]
  },
  {
   "cell_type": "code",
   "execution_count": 56,
   "id": "87fd64ba",
   "metadata": {},
   "outputs": [
    {
     "data": {
      "image/png": "[encoded data removed]",
      "text/plain": [
       "<Figure size 432x288 with 1 Axes>"
      ]
     },
     "metadata": {
      "needs_background": "light"
     },
     "output_type": "display_data"
    }
   ],
   "source": [
    "plot_residuals(y, yhat)"
   ]
  },
  {
   "cell_type": "code",
   "execution_count": 57,
   "id": "c1da5496",
   "metadata": {},
   "outputs": [],
   "source": [
    "df.fips = df.fips.astype(str)"
   ]
  },
  {
   "cell_type": "code",
   "execution_count": 58,
   "id": "85d93709",
   "metadata": {},
   "outputs": [],
   "source": [
    "df.county = df.county.astype(str)"
   ]
  },
  {
   "cell_type": "code",
   "execution_count": 59,
   "id": "79164c9b",
   "metadata": {},
   "outputs": [],
   "source": [
    "# create dummies for the 'day' and 'time' columns\n",
    "dummy_df = pd.get_dummies(df[['fips', 'county']], dummy_na=False)\n",
    "# concatenate the dummy columns and the original dataframe\n",
    "df = pd.concat([df, dummy_df], axis=1)"
   ]
  },
  {
   "cell_type": "code",
   "execution_count": 60,
   "id": "f4d6c3c7",
   "metadata": {},
   "outputs": [
    {
     "data": {
      "text/html": [
       "<div>\n",
       "<style scoped>\n",
       "    .dataframe tbody tr th:only-of-type {\n",
       "        vertical-align: middle;\n",
       "    }\n",
       "\n",
       "    .dataframe tbody tr th {\n",
       "        vertical-align: top;\n",
       "    }\n",
       "\n",
       "    .dataframe thead th {\n",
       "        text-align: right;\n",
       "    }\n",
       "</style>\n",
       "<table border=\"1\" class=\"dataframe\">\n",
       "  <thead>\n",
       "    <tr style=\"text-align: right;\">\n",
       "      <th></th>\n",
       "      <th>bathrooms</th>\n",
       "      <th>bedrooms</th>\n",
       "      <th>sqft</th>\n",
       "      <th>fips</th>\n",
       "      <th>lot_size</th>\n",
       "      <th>county</th>\n",
       "      <th>year</th>\n",
       "      <th>tax_value</th>\n",
       "      <th>fips_6037</th>\n",
       "      <th>fips_6059</th>\n",
       "      <th>fips_6111</th>\n",
       "      <th>county_1286.0</th>\n",
       "      <th>county_2061.0</th>\n",
       "      <th>county_3101.0</th>\n",
       "    </tr>\n",
       "  </thead>\n",
       "  <tbody>\n",
       "    <tr>\n",
       "      <th>4</th>\n",
       "      <td>2.0</td>\n",
       "      <td>4</td>\n",
       "      <td>3633.0</td>\n",
       "      <td>6037</td>\n",
       "      <td>9826.0</td>\n",
       "      <td>3101.0</td>\n",
       "      <td>2005</td>\n",
       "      <td>296425.0</td>\n",
       "      <td>1</td>\n",
       "      <td>0</td>\n",
       "      <td>0</td>\n",
       "      <td>0</td>\n",
       "      <td>0</td>\n",
       "      <td>1</td>\n",
       "    </tr>\n",
       "    <tr>\n",
       "      <th>7</th>\n",
       "      <td>2.0</td>\n",
       "      <td>3</td>\n",
       "      <td>2077.0</td>\n",
       "      <td>6037</td>\n",
       "      <td>6490.0</td>\n",
       "      <td>3101.0</td>\n",
       "      <td>1926</td>\n",
       "      <td>646760.0</td>\n",
       "      <td>1</td>\n",
       "      <td>0</td>\n",
       "      <td>0</td>\n",
       "      <td>0</td>\n",
       "      <td>0</td>\n",
       "      <td>1</td>\n",
       "    </tr>\n",
       "    <tr>\n",
       "      <th>18</th>\n",
       "      <td>1.0</td>\n",
       "      <td>3</td>\n",
       "      <td>1244.0</td>\n",
       "      <td>6037</td>\n",
       "      <td>6021.0</td>\n",
       "      <td>3101.0</td>\n",
       "      <td>1950</td>\n",
       "      <td>169471.0</td>\n",
       "      <td>1</td>\n",
       "      <td>0</td>\n",
       "      <td>0</td>\n",
       "      <td>0</td>\n",
       "      <td>0</td>\n",
       "      <td>1</td>\n",
       "    </tr>\n",
       "    <tr>\n",
       "      <th>19</th>\n",
       "      <td>2.0</td>\n",
       "      <td>3</td>\n",
       "      <td>1300.0</td>\n",
       "      <td>6037</td>\n",
       "      <td>4917.0</td>\n",
       "      <td>3101.0</td>\n",
       "      <td>1950</td>\n",
       "      <td>233266.0</td>\n",
       "      <td>1</td>\n",
       "      <td>0</td>\n",
       "      <td>0</td>\n",
       "      <td>0</td>\n",
       "      <td>0</td>\n",
       "      <td>1</td>\n",
       "    </tr>\n",
       "    <tr>\n",
       "      <th>20</th>\n",
       "      <td>2.0</td>\n",
       "      <td>3</td>\n",
       "      <td>1222.0</td>\n",
       "      <td>6037</td>\n",
       "      <td>5500.0</td>\n",
       "      <td>3101.0</td>\n",
       "      <td>1951</td>\n",
       "      <td>290492.0</td>\n",
       "      <td>1</td>\n",
       "      <td>0</td>\n",
       "      <td>0</td>\n",
       "      <td>0</td>\n",
       "      <td>0</td>\n",
       "      <td>1</td>\n",
       "    </tr>\n",
       "    <tr>\n",
       "      <th>...</th>\n",
       "      <td>...</td>\n",
       "      <td>...</td>\n",
       "      <td>...</td>\n",
       "      <td>...</td>\n",
       "      <td>...</td>\n",
       "      <td>...</td>\n",
       "      <td>...</td>\n",
       "      <td>...</td>\n",
       "      <td>...</td>\n",
       "      <td>...</td>\n",
       "      <td>...</td>\n",
       "      <td>...</td>\n",
       "      <td>...</td>\n",
       "      <td>...</td>\n",
       "    </tr>\n",
       "    <tr>\n",
       "      <th>56074</th>\n",
       "      <td>2.0</td>\n",
       "      <td>2</td>\n",
       "      <td>1362.0</td>\n",
       "      <td>6037</td>\n",
       "      <td>6854.0</td>\n",
       "      <td>3101.0</td>\n",
       "      <td>1996</td>\n",
       "      <td>127276.0</td>\n",
       "      <td>1</td>\n",
       "      <td>0</td>\n",
       "      <td>0</td>\n",
       "      <td>0</td>\n",
       "      <td>0</td>\n",
       "      <td>1</td>\n",
       "    </tr>\n",
       "    <tr>\n",
       "      <th>56075</th>\n",
       "      <td>2.0</td>\n",
       "      <td>3</td>\n",
       "      <td>1600.0</td>\n",
       "      <td>6037</td>\n",
       "      <td>6709.0</td>\n",
       "      <td>3101.0</td>\n",
       "      <td>1992</td>\n",
       "      <td>180715.0</td>\n",
       "      <td>1</td>\n",
       "      <td>0</td>\n",
       "      <td>0</td>\n",
       "      <td>0</td>\n",
       "      <td>0</td>\n",
       "      <td>1</td>\n",
       "    </tr>\n",
       "    <tr>\n",
       "      <th>56076</th>\n",
       "      <td>3.0</td>\n",
       "      <td>4</td>\n",
       "      <td>1921.0</td>\n",
       "      <td>6037</td>\n",
       "      <td>6763.0</td>\n",
       "      <td>3101.0</td>\n",
       "      <td>1990</td>\n",
       "      <td>162019.0</td>\n",
       "      <td>1</td>\n",
       "      <td>0</td>\n",
       "      <td>0</td>\n",
       "      <td>0</td>\n",
       "      <td>0</td>\n",
       "      <td>1</td>\n",
       "    </tr>\n",
       "    <tr>\n",
       "      <th>56077</th>\n",
       "      <td>3.0</td>\n",
       "      <td>4</td>\n",
       "      <td>1780.0</td>\n",
       "      <td>6037</td>\n",
       "      <td>6822.0</td>\n",
       "      <td>3101.0</td>\n",
       "      <td>1989</td>\n",
       "      <td>125923.0</td>\n",
       "      <td>1</td>\n",
       "      <td>0</td>\n",
       "      <td>0</td>\n",
       "      <td>0</td>\n",
       "      <td>0</td>\n",
       "      <td>1</td>\n",
       "    </tr>\n",
       "    <tr>\n",
       "      <th>56078</th>\n",
       "      <td>2.0</td>\n",
       "      <td>3</td>\n",
       "      <td>1549.0</td>\n",
       "      <td>6037</td>\n",
       "      <td>6987.0</td>\n",
       "      <td>3101.0</td>\n",
       "      <td>1990</td>\n",
       "      <td>198988.0</td>\n",
       "      <td>1</td>\n",
       "      <td>0</td>\n",
       "      <td>0</td>\n",
       "      <td>0</td>\n",
       "      <td>0</td>\n",
       "      <td>1</td>\n",
       "    </tr>\n",
       "  </tbody>\n",
       "</table>\n",
       "<p>32210 rows × 14 columns</p>\n",
       "</div>"
      ],
      "text/plain": [
       "       bathrooms  bedrooms    sqft  fips  lot_size  county  year  tax_value  \\\n",
       "4            2.0         4  3633.0  6037    9826.0  3101.0  2005   296425.0   \n",
       "7            2.0         3  2077.0  6037    6490.0  3101.0  1926   646760.0   \n",
       "18           1.0         3  1244.0  6037    6021.0  3101.0  1950   169471.0   \n",
       "19           2.0         3  1300.0  6037    4917.0  3101.0  1950   233266.0   \n",
       "20           2.0         3  1222.0  6037    5500.0  3101.0  1951   290492.0   \n",
       "...          ...       ...     ...   ...       ...     ...   ...        ...   \n",
       "56074        2.0         2  1362.0  6037    6854.0  3101.0  1996   127276.0   \n",
       "56075        2.0         3  1600.0  6037    6709.0  3101.0  1992   180715.0   \n",
       "56076        3.0         4  1921.0  6037    6763.0  3101.0  1990   162019.0   \n",
       "56077        3.0         4  1780.0  6037    6822.0  3101.0  1989   125923.0   \n",
       "56078        2.0         3  1549.0  6037    6987.0  3101.0  1990   198988.0   \n",
       "\n",
       "       fips_6037  fips_6059  fips_6111  county_1286.0  county_2061.0  \\\n",
       "4              1          0          0              0              0   \n",
       "7              1          0          0              0              0   \n",
       "18             1          0          0              0              0   \n",
       "19             1          0          0              0              0   \n",
       "20             1          0          0              0              0   \n",
       "...          ...        ...        ...            ...            ...   \n",
       "56074          1          0          0              0              0   \n",
       "56075          1          0          0              0              0   \n",
       "56076          1          0          0              0              0   \n",
       "56077          1          0          0              0              0   \n",
       "56078          1          0          0              0              0   \n",
       "\n",
       "       county_3101.0  \n",
       "4                  1  \n",
       "7                  1  \n",
       "18                 1  \n",
       "19                 1  \n",
       "20                 1  \n",
       "...              ...  \n",
       "56074              1  \n",
       "56075              1  \n",
       "56076              1  \n",
       "56077              1  \n",
       "56078              1  \n",
       "\n",
       "[32210 rows x 14 columns]"
      ]
     },
     "execution_count": 60,
     "metadata": {},
     "output_type": "execute_result"
    }
   ],
   "source": [
    "df"
   ]
  },
  {
   "cell_type": "code",
   "execution_count": 61,
   "id": "6116f7f3",
   "metadata": {},
   "outputs": [],
   "source": [
    "df['bed_bath'] = df.bathrooms + df.bedrooms"
   ]
  },
  {
   "cell_type": "code",
   "execution_count": 62,
   "id": "0c0f7164",
   "metadata": {},
   "outputs": [],
   "source": [
    "df.fips = df.fips.astype(int)"
   ]
  },
  {
   "cell_type": "code",
   "execution_count": 63,
   "id": "3c569d3b",
   "metadata": {},
   "outputs": [],
   "source": [
    "df.county = df.county.astype(float)"
   ]
  },
  {
   "cell_type": "code",
   "execution_count": 64,
   "id": "82706ce2",
   "metadata": {},
   "outputs": [],
   "source": [
    "train, validate, test = wrangle.split_data(df)"
   ]
  },
  {
   "cell_type": "code",
   "execution_count": 65,
   "id": "9c40a403",
   "metadata": {},
   "outputs": [
    {
     "data": {
      "text/html": [
       "<div>\n",
       "<style scoped>\n",
       "    .dataframe tbody tr th:only-of-type {\n",
       "        vertical-align: middle;\n",
       "    }\n",
       "\n",
       "    .dataframe tbody tr th {\n",
       "        vertical-align: top;\n",
       "    }\n",
       "\n",
       "    .dataframe thead th {\n",
       "        text-align: right;\n",
       "    }\n",
       "</style>\n",
       "<table border=\"1\" class=\"dataframe\">\n",
       "  <thead>\n",
       "    <tr style=\"text-align: right;\">\n",
       "      <th></th>\n",
       "      <th>bathrooms</th>\n",
       "      <th>bedrooms</th>\n",
       "      <th>sqft</th>\n",
       "      <th>fips</th>\n",
       "      <th>lot_size</th>\n",
       "      <th>county</th>\n",
       "      <th>year</th>\n",
       "      <th>tax_value</th>\n",
       "      <th>fips_6037</th>\n",
       "      <th>fips_6059</th>\n",
       "      <th>fips_6111</th>\n",
       "      <th>county_1286.0</th>\n",
       "      <th>county_2061.0</th>\n",
       "      <th>county_3101.0</th>\n",
       "      <th>bed_bath</th>\n",
       "    </tr>\n",
       "  </thead>\n",
       "  <tbody>\n",
       "    <tr>\n",
       "      <th>count</th>\n",
       "      <td>19326.000000</td>\n",
       "      <td>19326.000000</td>\n",
       "      <td>19326.000000</td>\n",
       "      <td>19326.000000</td>\n",
       "      <td>19326.000000</td>\n",
       "      <td>19326.000000</td>\n",
       "      <td>19326.000000</td>\n",
       "      <td>19326.000000</td>\n",
       "      <td>19326.000000</td>\n",
       "      <td>19326.000000</td>\n",
       "      <td>19326.000000</td>\n",
       "      <td>19326.000000</td>\n",
       "      <td>19326.000000</td>\n",
       "      <td>19326.000000</td>\n",
       "      <td>19326.000000</td>\n",
       "    </tr>\n",
       "    <tr>\n",
       "      <th>mean</th>\n",
       "      <td>2.096166</td>\n",
       "      <td>3.211684</td>\n",
       "      <td>1673.084808</td>\n",
       "      <td>6049.552520</td>\n",
       "      <td>6701.334472</td>\n",
       "      <td>2525.109231</td>\n",
       "      <td>1961.161906</td>\n",
       "      <td>353307.021474</td>\n",
       "      <td>0.643951</td>\n",
       "      <td>0.265290</td>\n",
       "      <td>0.090759</td>\n",
       "      <td>0.265290</td>\n",
       "      <td>0.090759</td>\n",
       "      <td>0.643951</td>\n",
       "      <td>5.307850</td>\n",
       "    </tr>\n",
       "    <tr>\n",
       "      <th>std</th>\n",
       "      <td>0.599268</td>\n",
       "      <td>0.648094</td>\n",
       "      <td>482.887558</td>\n",
       "      <td>21.629906</td>\n",
       "      <td>1896.753727</td>\n",
       "      <td>800.295762</td>\n",
       "      <td>20.033217</td>\n",
       "      <td>168777.121583</td>\n",
       "      <td>0.478842</td>\n",
       "      <td>0.441499</td>\n",
       "      <td>0.287273</td>\n",
       "      <td>0.441499</td>\n",
       "      <td>0.287273</td>\n",
       "      <td>0.478842</td>\n",
       "      <td>1.062283</td>\n",
       "    </tr>\n",
       "    <tr>\n",
       "      <th>min</th>\n",
       "      <td>1.000000</td>\n",
       "      <td>1.000000</td>\n",
       "      <td>1001.000000</td>\n",
       "      <td>6037.000000</td>\n",
       "      <td>1024.000000</td>\n",
       "      <td>1286.000000</td>\n",
       "      <td>1885.000000</td>\n",
       "      <td>90005.000000</td>\n",
       "      <td>0.000000</td>\n",
       "      <td>0.000000</td>\n",
       "      <td>0.000000</td>\n",
       "      <td>0.000000</td>\n",
       "      <td>0.000000</td>\n",
       "      <td>0.000000</td>\n",
       "      <td>2.000000</td>\n",
       "    </tr>\n",
       "    <tr>\n",
       "      <th>25%</th>\n",
       "      <td>2.000000</td>\n",
       "      <td>3.000000</td>\n",
       "      <td>1300.000000</td>\n",
       "      <td>6037.000000</td>\n",
       "      <td>5596.250000</td>\n",
       "      <td>1286.000000</td>\n",
       "      <td>1950.000000</td>\n",
       "      <td>220923.000000</td>\n",
       "      <td>0.000000</td>\n",
       "      <td>0.000000</td>\n",
       "      <td>0.000000</td>\n",
       "      <td>0.000000</td>\n",
       "      <td>0.000000</td>\n",
       "      <td>0.000000</td>\n",
       "      <td>5.000000</td>\n",
       "    </tr>\n",
       "    <tr>\n",
       "      <th>50%</th>\n",
       "      <td>2.000000</td>\n",
       "      <td>3.000000</td>\n",
       "      <td>1572.000000</td>\n",
       "      <td>6037.000000</td>\n",
       "      <td>6560.000000</td>\n",
       "      <td>3101.000000</td>\n",
       "      <td>1959.000000</td>\n",
       "      <td>327409.500000</td>\n",
       "      <td>1.000000</td>\n",
       "      <td>0.000000</td>\n",
       "      <td>0.000000</td>\n",
       "      <td>0.000000</td>\n",
       "      <td>0.000000</td>\n",
       "      <td>1.000000</td>\n",
       "      <td>5.000000</td>\n",
       "    </tr>\n",
       "    <tr>\n",
       "      <th>75%</th>\n",
       "      <td>2.500000</td>\n",
       "      <td>4.000000</td>\n",
       "      <td>1940.000000</td>\n",
       "      <td>6059.000000</td>\n",
       "      <td>7688.000000</td>\n",
       "      <td>3101.000000</td>\n",
       "      <td>1974.000000</td>\n",
       "      <td>462904.000000</td>\n",
       "      <td>1.000000</td>\n",
       "      <td>1.000000</td>\n",
       "      <td>0.000000</td>\n",
       "      <td>1.000000</td>\n",
       "      <td>0.000000</td>\n",
       "      <td>1.000000</td>\n",
       "      <td>6.000000</td>\n",
       "    </tr>\n",
       "    <tr>\n",
       "      <th>max</th>\n",
       "      <td>3.500000</td>\n",
       "      <td>4.000000</td>\n",
       "      <td>3992.000000</td>\n",
       "      <td>6111.000000</td>\n",
       "      <td>11999.000000</td>\n",
       "      <td>3101.000000</td>\n",
       "      <td>2015.000000</td>\n",
       "      <td>799548.000000</td>\n",
       "      <td>1.000000</td>\n",
       "      <td>1.000000</td>\n",
       "      <td>1.000000</td>\n",
       "      <td>1.000000</td>\n",
       "      <td>1.000000</td>\n",
       "      <td>1.000000</td>\n",
       "      <td>7.500000</td>\n",
       "    </tr>\n",
       "  </tbody>\n",
       "</table>\n",
       "</div>"
      ],
      "text/plain": [
       "          bathrooms      bedrooms          sqft          fips      lot_size  \\\n",
       "count  19326.000000  19326.000000  19326.000000  19326.000000  19326.000000   \n",
       "mean       2.096166      3.211684   1673.084808   6049.552520   6701.334472   \n",
       "std        0.599268      0.648094    482.887558     21.629906   1896.753727   \n",
       "min        1.000000      1.000000   1001.000000   6037.000000   1024.000000   \n",
       "25%        2.000000      3.000000   1300.000000   6037.000000   5596.250000   \n",
       "50%        2.000000      3.000000   1572.000000   6037.000000   6560.000000   \n",
       "75%        2.500000      4.000000   1940.000000   6059.000000   7688.000000   \n",
       "max        3.500000      4.000000   3992.000000   6111.000000  11999.000000   \n",
       "\n",
       "             county          year      tax_value     fips_6037     fips_6059  \\\n",
       "count  19326.000000  19326.000000   19326.000000  19326.000000  19326.000000   \n",
       "mean    2525.109231   1961.161906  353307.021474      0.643951      0.265290   \n",
       "std      800.295762     20.033217  168777.121583      0.478842      0.441499   \n",
       "min     1286.000000   1885.000000   90005.000000      0.000000      0.000000   \n",
       "25%     1286.000000   1950.000000  220923.000000      0.000000      0.000000   \n",
       "50%     3101.000000   1959.000000  327409.500000      1.000000      0.000000   \n",
       "75%     3101.000000   1974.000000  462904.000000      1.000000      1.000000   \n",
       "max     3101.000000   2015.000000  799548.000000      1.000000      1.000000   \n",
       "\n",
       "          fips_6111  county_1286.0  county_2061.0  county_3101.0      bed_bath  \n",
       "count  19326.000000   19326.000000   19326.000000   19326.000000  19326.000000  \n",
       "mean       0.090759       0.265290       0.090759       0.643951      5.307850  \n",
       "std        0.287273       0.441499       0.287273       0.478842      1.062283  \n",
       "min        0.000000       0.000000       0.000000       0.000000      2.000000  \n",
       "25%        0.000000       0.000000       0.000000       0.000000      5.000000  \n",
       "50%        0.000000       0.000000       0.000000       1.000000      5.000000  \n",
       "75%        0.000000       1.000000       0.000000       1.000000      6.000000  \n",
       "max        1.000000       1.000000       1.000000       1.000000      7.500000  "
      ]
     },
     "execution_count": 65,
     "metadata": {},
     "output_type": "execute_result"
    }
   ],
   "source": [
    "train.describe()"
   ]
  },
  {
   "cell_type": "code",
   "execution_count": 66,
   "id": "38718262",
   "metadata": {},
   "outputs": [
    {
     "name": "stdout",
     "output_type": "stream",
     "text": [
      "<class 'pandas.core.frame.DataFrame'>\n",
      "Int64Index: 19326 entries, 33806 to 5167\n",
      "Data columns (total 15 columns):\n",
      " #   Column         Non-Null Count  Dtype  \n",
      "---  ------         --------------  -----  \n",
      " 0   bathrooms      19326 non-null  float64\n",
      " 1   bedrooms       19326 non-null  int64  \n",
      " 2   sqft           19326 non-null  float64\n",
      " 3   fips           19326 non-null  int64  \n",
      " 4   lot_size       19326 non-null  float64\n",
      " 5   county         19326 non-null  float64\n",
      " 6   year           19326 non-null  int64  \n",
      " 7   tax_value      19326 non-null  float64\n",
      " 8   fips_6037      19326 non-null  uint8  \n",
      " 9   fips_6059      19326 non-null  uint8  \n",
      " 10  fips_6111      19326 non-null  uint8  \n",
      " 11  county_1286.0  19326 non-null  uint8  \n",
      " 12  county_2061.0  19326 non-null  uint8  \n",
      " 13  county_3101.0  19326 non-null  uint8  \n",
      " 14  bed_bath       19326 non-null  float64\n",
      "dtypes: float64(6), int64(3), uint8(6)\n",
      "memory usage: 1.6 MB\n"
     ]
    }
   ],
   "source": [
    "train.info()"
   ]
  },
  {
   "cell_type": "code",
   "execution_count": null,
   "id": "660ce8d0",
   "metadata": {},
   "outputs": [],
   "source": []
  },
  {
   "cell_type": "code",
   "execution_count": 67,
   "id": "5f0b71b1",
   "metadata": {},
   "outputs": [],
   "source": [
    "cols = ['bathrooms','sqft','fips_6037','bed_bath','bedrooms','lot_size','year']\n",
    "X_train, y_train = train[cols], train[['tax_value']]\n",
    "X_validate, y_validate = validate[cols], validate[['tax_value']]\n",
    "X_test, y_test = test[cols], test[['tax_value']]"
   ]
  },
  {
   "cell_type": "code",
   "execution_count": 68,
   "id": "3772157a",
   "metadata": {},
   "outputs": [],
   "source": [
    "X_train_scaled, X_validate_scaled, X_test_scaled = wrangle.quantile_scaler(X_train, X_validate, X_test)"
   ]
  },
  {
   "cell_type": "code",
   "execution_count": 69,
   "id": "2644f38a",
   "metadata": {},
   "outputs": [],
   "source": [
    "baseline = train.tax_value.mean()"
   ]
  },
  {
   "cell_type": "code",
   "execution_count": 70,
   "id": "3a135400",
   "metadata": {},
   "outputs": [],
   "source": [
    "train['baseline'] = baseline"
   ]
  },
  {
   "cell_type": "code",
   "execution_count": 71,
   "id": "8f1485b0",
   "metadata": {},
   "outputs": [],
   "source": [
    "validate['baseline'] = validate.tax_value.mean()"
   ]
  },
  {
   "cell_type": "code",
   "execution_count": 72,
   "id": "d3999040",
   "metadata": {},
   "outputs": [],
   "source": [
    "ols_model = LinearRegression().fit(X_train_scaled, train.tax_value)"
   ]
  },
  {
   "cell_type": "code",
   "execution_count": 73,
   "id": "54c6e8e7",
   "metadata": {},
   "outputs": [],
   "source": [
    "train['yhat'] = ols_model.predict(X_train_scaled)"
   ]
  },
  {
   "cell_type": "code",
   "execution_count": 74,
   "id": "f3c7206f",
   "metadata": {},
   "outputs": [],
   "source": [
    "y = train.tax_value\n",
    "yhat = train.yhat"
   ]
  },
  {
   "cell_type": "code",
   "execution_count": 75,
   "id": "1ba1bc06",
   "metadata": {},
   "outputs": [],
   "source": [
    "# create column for model residual error\n",
    "train['residual'] = train.yhat - train.tax_value\n",
    "# create column for baseline residual error\n",
    "train['residual_baseline'] = train.baseline - train.tax_value"
   ]
  },
  {
   "cell_type": "code",
   "execution_count": 76,
   "id": "60fd3d7d",
   "metadata": {},
   "outputs": [],
   "source": [
    "# calculate the model's sum of squares error for the selected variables against the target variable\n",
    "SSE = mean_squared_error(train.tax_value, train.yhat)*len(train)\n",
    "# calculate the baseline's sum of squares error for the selected variables against the target variable\n",
    "SSE_baseline = mean_squared_error(train.tax_value, train.baseline)*len(train)\n",
    "# calculate the model mean squared error for the selected variables against the target variable\n",
    "MSE = mean_squared_error(train.tax_value, train.yhat)\n",
    "# calculate the baseline mean squared error for the selected variables against the target variable\n",
    "MSE_baseline = mean_squared_error(train.tax_value, train.baseline)\n",
    "# calculate the model root mean squared error for the selected variables against the target variable\n",
    "RMSE = sqrt(mean_squared_error(train.tax_value, train.yhat))\n",
    "# calculate the baseline root mean squared error for the selected variables against the target variable\n",
    "RMSE_baseline = sqrt(mean_squared_error(train.tax_value, train.baseline))"
   ]
  },
  {
   "cell_type": "code",
   "execution_count": 77,
   "id": "77dd1010",
   "metadata": {},
   "outputs": [
    {
     "name": "stdout",
     "output_type": "stream",
     "text": [
      "  metric   model_error\n",
      "0    SSE  4.887639e+14\n",
      "1    MSE  2.529049e+10\n",
      "2   RMSE  1.590298e+05\n",
      "          metric   model_error\n",
      "0   SSE_baseline  5.504865e+14\n",
      "1   MSE_baseline  2.848424e+10\n",
      "2  RMSE_baseline  1.687728e+05\n"
     ]
    }
   ],
   "source": [
    "# create a dataframe for the model SSE, MSE, RMSE\n",
    "train_eval = pd.DataFrame(np.array(['SSE','MSE','RMSE']), columns=['metric'])\n",
    "# create a dataframe to show the baseline SSE, MSE, RMSE\n",
    "train_baseline_eval = pd.DataFrame(np.array(['SSE_baseline','MSE_baseline','RMSE_baseline']), columns=['metric'])\n",
    "# add a column to the train_eval dataframe for the values associated with each model metric\n",
    "train_eval['model_error'] = np.array([SSE, MSE, RMSE])\n",
    "# add a column to the train_baseline_eval for the values associated with each baseline metric\n",
    "train_baseline_eval['model_error'] = np.array([SSE_baseline, MSE_baseline, RMSE_baseline])\n",
    "# print the dataframes\n",
    "print(train_eval)\n",
    "print(train_baseline_eval)"
   ]
  },
  {
   "cell_type": "code",
   "execution_count": 78,
   "id": "288fd2fc",
   "metadata": {},
   "outputs": [
    {
     "data": {
      "text/html": [
       "<div>\n",
       "<style scoped>\n",
       "    .dataframe tbody tr th:only-of-type {\n",
       "        vertical-align: middle;\n",
       "    }\n",
       "\n",
       "    .dataframe tbody tr th {\n",
       "        vertical-align: top;\n",
       "    }\n",
       "\n",
       "    .dataframe thead th {\n",
       "        text-align: right;\n",
       "    }\n",
       "</style>\n",
       "<table border=\"1\" class=\"dataframe\">\n",
       "  <thead>\n",
       "    <tr style=\"text-align: right;\">\n",
       "      <th></th>\n",
       "      <th>metric</th>\n",
       "      <th>model_error</th>\n",
       "      <th>error_delta</th>\n",
       "    </tr>\n",
       "  </thead>\n",
       "  <tbody>\n",
       "    <tr>\n",
       "      <th>0</th>\n",
       "      <td>SSE</td>\n",
       "      <td>4.887639e+14</td>\n",
       "      <td>-6.172256e+13</td>\n",
       "    </tr>\n",
       "    <tr>\n",
       "      <th>1</th>\n",
       "      <td>MSE</td>\n",
       "      <td>2.529049e+10</td>\n",
       "      <td>-3.193757e+09</td>\n",
       "    </tr>\n",
       "    <tr>\n",
       "      <th>2</th>\n",
       "      <td>RMSE</td>\n",
       "      <td>1.590298e+05</td>\n",
       "      <td>-9.742929e+03</td>\n",
       "    </tr>\n",
       "  </tbody>\n",
       "</table>\n",
       "</div>"
      ],
      "text/plain": [
       "  metric   model_error   error_delta\n",
       "0    SSE  4.887639e+14 -6.172256e+13\n",
       "1    MSE  2.529049e+10 -3.193757e+09\n",
       "2   RMSE  1.590298e+05 -9.742929e+03"
      ]
     },
     "execution_count": 78,
     "metadata": {},
     "output_type": "execute_result"
    }
   ],
   "source": [
    "# add a column to train_eval for the error delta for each metric\n",
    "train_eval['error_delta'] = train_eval.model_error - train_baseline_eval.model_error\n",
    "train_eval"
   ]
  },
  {
   "cell_type": "code",
   "execution_count": 79,
   "id": "69fc2c0b",
   "metadata": {},
   "outputs": [
    {
     "data": {
      "text/plain": [
       "0.11212365491443044"
      ]
     },
     "execution_count": 79,
     "metadata": {},
     "output_type": "execute_result"
    }
   ],
   "source": [
    "r2_score(train.tax_value, train.yhat)"
   ]
  },
  {
   "cell_type": "code",
   "execution_count": 80,
   "id": "9573e300",
   "metadata": {},
   "outputs": [],
   "source": [
    "X = X_train\n",
    "y = y_train"
   ]
  },
  {
   "cell_type": "code",
   "execution_count": 81,
   "id": "1568107d",
   "metadata": {},
   "outputs": [],
   "source": [
    "def select_kbest(X, y, k=2):\n",
    "    '''\n",
    "    will take in two pandas objects:\n",
    "    X: a dataframe representing numerical independent features\n",
    "    y: a pandas Series representing a target variable\n",
    "    k: a keyword argument defaulted to 2 for the number of ideal features we elect to select\n",
    "    \n",
    "    return: a list of the selected features from the SelectKBest process\n",
    "    '''\n",
    "    kbest = SelectKBest(f_regression, k=k)\n",
    "    kbest.fit(X, y)\n",
    "    mask = kbest.get_support()\n",
    "    return X.columns[mask]"
   ]
  },
  {
   "cell_type": "code",
   "execution_count": 82,
   "id": "365fb3c3",
   "metadata": {
    "scrolled": true
   },
   "outputs": [
    {
     "data": {
      "text/plain": [
       "Index(['bathrooms', 'sqft', 'fips_6037', 'bed_bath', 'year'], dtype='object')"
      ]
     },
     "execution_count": 82,
     "metadata": {},
     "output_type": "execute_result"
    }
   ],
   "source": [
    "select_kbest(X, y, k=5)"
   ]
  },
  {
   "cell_type": "code",
   "execution_count": 83,
   "id": "1d0e209a",
   "metadata": {},
   "outputs": [
    {
     "name": "stdout",
     "output_type": "stream",
     "text": [
      "RMSE for Lasso + Lars\n",
      "Training/In-Sample:  159033.22451247528 \n",
      "Validation/Out-of-Sample:  156935.51587208445\n"
     ]
    }
   ],
   "source": [
    "# create the model object\n",
    "lars = LassoLars(alpha=1.0)\n",
    "\n",
    "# fit the model to our training data. We must specify the column in y_train, \n",
    "# since we have converted it to a dataframe from a series! \n",
    "lars.fit(X_train_scaled, y_train.tax_value)\n",
    "\n",
    "# predict train\n",
    "y_train['tax_pred_lars'] = lars.predict(X_train_scaled)\n",
    "\n",
    "# evaluate: rmse\n",
    "rmse_train = mean_squared_error(y_train.tax_value, y_train.tax_pred_lars)**(1/2)\n",
    "\n",
    "# predict validate\n",
    "y_validate['tax_pred_lars'] = lars.predict(X_validate_scaled)\n",
    "\n",
    "# evaluate: rmse\n",
    "rmse_validate = mean_squared_error(y_validate.tax_value, y_validate.tax_pred_lars)**(1/2)\n",
    "\n",
    "print(\"RMSE for Lasso + Lars\\nTraining/In-Sample: \", rmse_train, \n",
    "      \"\\nValidation/Out-of-Sample: \", rmse_validate)"
   ]
  },
  {
   "cell_type": "code",
   "execution_count": 84,
   "id": "5f587800",
   "metadata": {},
   "outputs": [],
   "source": [
    "train['yhat'] = lars.predict(X_train_scaled)"
   ]
  },
  {
   "cell_type": "code",
   "execution_count": 85,
   "id": "49b4f965",
   "metadata": {},
   "outputs": [],
   "source": [
    "y = train.tax_value\n",
    "yhat = train.yhat"
   ]
  },
  {
   "cell_type": "code",
   "execution_count": 86,
   "id": "26a9ebe0",
   "metadata": {},
   "outputs": [],
   "source": [
    "# create column for model residual error\n",
    "train['residual'] = train.yhat - train.tax_value\n",
    "# create column for baseline residual error\n",
    "train['residual_baseline'] = train.baseline - train.tax_value"
   ]
  },
  {
   "cell_type": "code",
   "execution_count": 87,
   "id": "effaf50a",
   "metadata": {},
   "outputs": [],
   "source": [
    "# calculate the model's sum of squares error for the selected variables against the target variable\n",
    "SSE = mean_squared_error(train.tax_value, train.yhat)*len(train)\n",
    "# calculate the baseline's sum of squares error for the selected variables against the target variable\n",
    "SSE_baseline = mean_squared_error(train.tax_value, train.baseline)*len(train)\n",
    "# calculate the model mean squared error for the selected variables against the target variable\n",
    "MSE = mean_squared_error(train.tax_value, train.yhat)\n",
    "# calculate the baseline mean squared error for the selected variables against the target variable\n",
    "MSE_baseline = mean_squared_error(train.tax_value, train.baseline)\n",
    "# calculate the model root mean squared error for the selected variables against the target variable\n",
    "RMSE = sqrt(mean_squared_error(train.tax_value, train.yhat))\n",
    "# calculate the baseline root mean squared error for the selected variables against the target variable\n",
    "RMSE_baseline = sqrt(mean_squared_error(train.tax_value, train.baseline))"
   ]
  },
  {
   "cell_type": "code",
   "execution_count": 88,
   "id": "b54f6d99",
   "metadata": {},
   "outputs": [
    {
     "name": "stdout",
     "output_type": "stream",
     "text": [
      "  metric   model_error\n",
      "0    SSE  4.887848e+14\n",
      "1    MSE  2.529157e+10\n",
      "2   RMSE  1.590332e+05\n",
      "          metric   model_error\n",
      "0   SSE_baseline  5.504865e+14\n",
      "1   MSE_baseline  2.848424e+10\n",
      "2  RMSE_baseline  1.687728e+05\n"
     ]
    }
   ],
   "source": [
    "# create a dataframe for the model SSE, MSE, RMSE\n",
    "train_eval = pd.DataFrame(np.array(['SSE','MSE','RMSE']), columns=['metric'])\n",
    "# create a dataframe to show the baseline SSE, MSE, RMSE\n",
    "train_baseline_eval = pd.DataFrame(np.array(['SSE_baseline','MSE_baseline','RMSE_baseline']), columns=['metric'])\n",
    "# add a column to the train_eval dataframe for the values associated with each model metric\n",
    "train_eval['model_error'] = np.array([SSE, MSE, RMSE])\n",
    "# add a column to the train_baseline_eval for the values associated with each baseline metric\n",
    "train_baseline_eval['model_error'] = np.array([SSE_baseline, MSE_baseline, RMSE_baseline])\n",
    "# print the dataframes\n",
    "print(train_eval)\n",
    "print(train_baseline_eval)"
   ]
  },
  {
   "cell_type": "code",
   "execution_count": 89,
   "id": "460c8f26",
   "metadata": {},
   "outputs": [
    {
     "data": {
      "text/html": [
       "<div>\n",
       "<style scoped>\n",
       "    .dataframe tbody tr th:only-of-type {\n",
       "        vertical-align: middle;\n",
       "    }\n",
       "\n",
       "    .dataframe tbody tr th {\n",
       "        vertical-align: top;\n",
       "    }\n",
       "\n",
       "    .dataframe thead th {\n",
       "        text-align: right;\n",
       "    }\n",
       "</style>\n",
       "<table border=\"1\" class=\"dataframe\">\n",
       "  <thead>\n",
       "    <tr style=\"text-align: right;\">\n",
       "      <th></th>\n",
       "      <th>metric</th>\n",
       "      <th>model_error</th>\n",
       "      <th>error_delta</th>\n",
       "    </tr>\n",
       "  </thead>\n",
       "  <tbody>\n",
       "    <tr>\n",
       "      <th>0</th>\n",
       "      <td>SSE</td>\n",
       "      <td>4.887848e+14</td>\n",
       "      <td>-6.170166e+13</td>\n",
       "    </tr>\n",
       "    <tr>\n",
       "      <th>1</th>\n",
       "      <td>MSE</td>\n",
       "      <td>2.529157e+10</td>\n",
       "      <td>-3.192676e+09</td>\n",
       "    </tr>\n",
       "    <tr>\n",
       "      <th>2</th>\n",
       "      <td>RMSE</td>\n",
       "      <td>1.590332e+05</td>\n",
       "      <td>-9.739530e+03</td>\n",
       "    </tr>\n",
       "  </tbody>\n",
       "</table>\n",
       "</div>"
      ],
      "text/plain": [
       "  metric   model_error   error_delta\n",
       "0    SSE  4.887848e+14 -6.170166e+13\n",
       "1    MSE  2.529157e+10 -3.192676e+09\n",
       "2   RMSE  1.590332e+05 -9.739530e+03"
      ]
     },
     "execution_count": 89,
     "metadata": {},
     "output_type": "execute_result"
    }
   ],
   "source": [
    "# add a column to train_eval for the error delta for each metric\n",
    "train_eval['error_delta'] = train_eval.model_error - train_baseline_eval.model_error\n",
    "train_eval"
   ]
  },
  {
   "cell_type": "code",
   "execution_count": 90,
   "id": "e4bfed5e",
   "metadata": {},
   "outputs": [
    {
     "data": {
      "text/plain": [
       "0.11208570063765566"
      ]
     },
     "execution_count": 90,
     "metadata": {},
     "output_type": "execute_result"
    }
   ],
   "source": [
    "r2_score(train.tax_value, train.yhat)"
   ]
  },
  {
   "cell_type": "code",
   "execution_count": 91,
   "id": "a9f989d8",
   "metadata": {},
   "outputs": [],
   "source": [
    "# make the polynomial features to get a new set of features\n",
    "pf = PolynomialFeatures(degree=3)\n",
    "\n",
    "# fit and transform X_train_scaled\n",
    "X_train_degree2 = pf.fit_transform(X_train_scaled)\n",
    "\n",
    "# transform X_validate_scaled & X_test_scaled\n",
    "X_validate_degree2 = pf.transform(X_validate_scaled)\n",
    "X_test_degree2 = pf.transform(X_test_scaled)"
   ]
  },
  {
   "cell_type": "code",
   "execution_count": 92,
   "id": "d3fb59ab",
   "metadata": {},
   "outputs": [
    {
     "name": "stdout",
     "output_type": "stream",
     "text": [
      "RMSE for Polynomial Model, degrees=3\n",
      "Training/In-Sample:  172939.86356047026 \n",
      "Validation/Out-of-Sample:  171046.54726365206\n"
     ]
    }
   ],
   "source": [
    "# create the model object\n",
    "lm2 = LinearRegression()\n",
    "\n",
    "# fit the model to our training data. We must specify the column in y_train, \n",
    "# since we have converted it to a dataframe from a series! \n",
    "lm2.fit(X_train_degree2, y_train.tax_value)\n",
    "\n",
    "# predict train\n",
    "y_train['value_pred_lm2'] = lm2.predict(X_train_degree2)\n",
    "\n",
    "# evaluate: rmse\n",
    "rmse_train = mean_squared_error(y_train.tax_value, y_train.value_pred_lm2)**(1/2)\n",
    "\n",
    "# predict validate\n",
    "y_validate['value_pred_lm2'] = lm2.predict(X_validate_degree2)\n",
    "\n",
    "# evaluate: rmse\n",
    "rmse_validate = mean_squared_error(y_validate.tax_value, y_validate.value_pred_lm2)**(1/2)\n",
    "\n",
    "print(\"RMSE for Polynomial Model, degrees=3\\nTraining/In-Sample: \", rmse_train, \n",
    "      \"\\nValidation/Out-of-Sample: \", rmse_validate)"
   ]
  },
  {
   "cell_type": "code",
   "execution_count": 93,
   "id": "3f1e446a",
   "metadata": {},
   "outputs": [],
   "source": [
    "train['yhat'] = lm2.predict(X_train_degree2)"
   ]
  },
  {
   "cell_type": "code",
   "execution_count": 94,
   "id": "fc9c0ae7",
   "metadata": {},
   "outputs": [],
   "source": [
    "y = train.tax_value\n",
    "yhat = train.yhat"
   ]
  },
  {
   "cell_type": "code",
   "execution_count": 95,
   "id": "41177fc0",
   "metadata": {},
   "outputs": [],
   "source": [
    "# calculate the model's sum of squares error for the selected variables against the target variable\n",
    "SSE = mean_squared_error(train.tax_value, train.yhat)*len(train)\n",
    "# calculate the baseline's sum of squares error for the selected variables against the target variable\n",
    "SSE_baseline = mean_squared_error(train.tax_value, train.baseline)*len(train)\n",
    "# calculate the model mean squared error for the selected variables against the target variable\n",
    "MSE = mean_squared_error(train.tax_value, train.yhat)\n",
    "# calculate the baseline mean squared error for the selected variables against the target variable\n",
    "MSE_baseline = mean_squared_error(train.tax_value, train.baseline)\n",
    "# calculate the model root mean squared error for the selected variables against the target variable\n",
    "RMSE = sqrt(mean_squared_error(train.tax_value, train.yhat))\n",
    "# calculate the baseline root mean squared error for the selected variables against the target variable\n",
    "RMSE_baseline = sqrt(mean_squared_error(train.tax_value, train.baseline))"
   ]
  },
  {
   "cell_type": "code",
   "execution_count": 96,
   "id": "230886a1",
   "metadata": {},
   "outputs": [
    {
     "name": "stdout",
     "output_type": "stream",
     "text": [
      "  metric   model_error\n",
      "0    SSE  5.780058e+14\n",
      "1    MSE  2.990820e+10\n",
      "2   RMSE  1.729399e+05\n",
      "          metric   model_error\n",
      "0   SSE_baseline  5.504865e+14\n",
      "1   MSE_baseline  2.848424e+10\n",
      "2  RMSE_baseline  1.687728e+05\n"
     ]
    }
   ],
   "source": [
    "# create a dataframe for the model SSE, MSE, RMSE\n",
    "train_eval = pd.DataFrame(np.array(['SSE','MSE','RMSE']), columns=['metric'])\n",
    "# create a dataframe to show the baseline SSE, MSE, RMSE\n",
    "train_baseline_eval = pd.DataFrame(np.array(['SSE_baseline','MSE_baseline','RMSE_baseline']), columns=['metric'])\n",
    "# add a column to the train_eval dataframe for the values associated with each model metric\n",
    "train_eval['model_error'] = np.array([SSE, MSE, RMSE])\n",
    "# add a column to the train_baseline_eval for the values associated with each baseline metric\n",
    "train_baseline_eval['model_error'] = np.array([SSE_baseline, MSE_baseline, RMSE_baseline])\n",
    "# print the dataframes\n",
    "print(train_eval)\n",
    "print(train_baseline_eval)"
   ]
  },
  {
   "cell_type": "code",
   "execution_count": 97,
   "id": "db1e907a",
   "metadata": {},
   "outputs": [
    {
     "data": {
      "text/html": [
       "<div>\n",
       "<style scoped>\n",
       "    .dataframe tbody tr th:only-of-type {\n",
       "        vertical-align: middle;\n",
       "    }\n",
       "\n",
       "    .dataframe tbody tr th {\n",
       "        vertical-align: top;\n",
       "    }\n",
       "\n",
       "    .dataframe thead th {\n",
       "        text-align: right;\n",
       "    }\n",
       "</style>\n",
       "<table border=\"1\" class=\"dataframe\">\n",
       "  <thead>\n",
       "    <tr style=\"text-align: right;\">\n",
       "      <th></th>\n",
       "      <th>metric</th>\n",
       "      <th>model_error</th>\n",
       "      <th>error_delta</th>\n",
       "    </tr>\n",
       "  </thead>\n",
       "  <tbody>\n",
       "    <tr>\n",
       "      <th>0</th>\n",
       "      <td>SSE</td>\n",
       "      <td>5.780058e+14</td>\n",
       "      <td>2.751933e+13</td>\n",
       "    </tr>\n",
       "    <tr>\n",
       "      <th>1</th>\n",
       "      <td>MSE</td>\n",
       "      <td>2.990820e+10</td>\n",
       "      <td>1.423954e+09</td>\n",
       "    </tr>\n",
       "    <tr>\n",
       "      <th>2</th>\n",
       "      <td>RMSE</td>\n",
       "      <td>1.729399e+05</td>\n",
       "      <td>4.167109e+03</td>\n",
       "    </tr>\n",
       "  </tbody>\n",
       "</table>\n",
       "</div>"
      ],
      "text/plain": [
       "  metric   model_error   error_delta\n",
       "0    SSE  5.780058e+14  2.751933e+13\n",
       "1    MSE  2.990820e+10  1.423954e+09\n",
       "2   RMSE  1.729399e+05  4.167109e+03"
      ]
     },
     "execution_count": 97,
     "metadata": {},
     "output_type": "execute_result"
    }
   ],
   "source": [
    "# add a column to train_eval for the error delta for each metric\n",
    "train_eval['error_delta'] = train_eval.model_error - train_baseline_eval.model_error\n",
    "train_eval"
   ]
  },
  {
   "cell_type": "code",
   "execution_count": 98,
   "id": "c7a0c1dd",
   "metadata": {},
   "outputs": [
    {
     "data": {
      "text/plain": [
       "-0.049990923270902377"
      ]
     },
     "execution_count": 98,
     "metadata": {},
     "output_type": "execute_result"
    }
   ],
   "source": [
    "r2_score(train.tax_value, train.yhat)"
   ]
  },
  {
   "cell_type": "code",
   "execution_count": 99,
   "id": "bf529f89",
   "metadata": {},
   "outputs": [
    {
     "data": {
      "image/png": "[encoded data removed]",
      "text/plain": [
       "<Figure size 432x288 with 1 Axes>"
      ]
     },
     "metadata": {
      "needs_background": "light"
     },
     "output_type": "display_data"
    }
   ],
   "source": [
    "plot_residuals(y, yhat)"
   ]
  },
  {
   "cell_type": "code",
   "execution_count": 100,
   "id": "c0f6f6ce",
   "metadata": {},
   "outputs": [
    {
     "name": "stdout",
     "output_type": "stream",
     "text": [
      "RMSE for GLM using Tweedie, power=2 & alpha=0\n",
      "Training/In-Sample:  158703.8370635266 \n",
      "Validation/Out-of-Sample:  156651.1689310095\n"
     ]
    }
   ],
   "source": [
    "# create the model object\n",
    "glm = TweedieRegressor(power=1, alpha=5)\n",
    "\n",
    "# fit the model to our training data. We must specify the column in y_train, \n",
    "# since we have converted it to a dataframe from a series! \n",
    "glm.fit(X_train_scaled, y_train.tax_value)\n",
    "\n",
    "# predict train\n",
    "y_train['value_pred_glm'] = glm.predict(X_train_scaled)\n",
    "\n",
    "# evaluate: rmse\n",
    "rmse_train = mean_squared_error(y_train.tax_value, y_train.value_pred_glm)**(1/2)\n",
    "\n",
    "# predict validate\n",
    "y_validate['value_pred_glm'] = glm.predict(X_validate_scaled)\n",
    "\n",
    "# evaluate: rmse\n",
    "rmse_validate = mean_squared_error(y_validate.tax_value, y_validate.value_pred_glm)**(1/2)\n",
    "\n",
    "print(\"RMSE for GLM using Tweedie, power=2 & alpha=0\\nTraining/In-Sample: \", rmse_train, \n",
    "      \"\\nValidation/Out-of-Sample: \", rmse_validate)"
   ]
  },
  {
   "cell_type": "code",
   "execution_count": 101,
   "id": "e298ee6f",
   "metadata": {},
   "outputs": [],
   "source": [
    "train['yhat'] = glm.predict(X_train_scaled)"
   ]
  },
  {
   "cell_type": "code",
   "execution_count": 102,
   "id": "84ed1277",
   "metadata": {},
   "outputs": [],
   "source": [
    "y = train.tax_value\n",
    "yhat = train.yhat"
   ]
  },
  {
   "cell_type": "code",
   "execution_count": 103,
   "id": "50b069fa",
   "metadata": {},
   "outputs": [],
   "source": [
    "# calculate the model's sum of squares error for the selected variables against the target variable\n",
    "SSE = mean_squared_error(train.tax_value, train.yhat)*len(train)\n",
    "# calculate the baseline's sum of squares error for the selected variables against the target variable\n",
    "SSE_baseline = mean_squared_error(train.tax_value, train.baseline)*len(train)\n",
    "# calculate the model mean squared error for the selected variables against the target variable\n",
    "MSE = mean_squared_error(train.tax_value, train.yhat)\n",
    "# calculate the baseline mean squared error for the selected variables against the target variable\n",
    "MSE_baseline = mean_squared_error(train.tax_value, train.baseline)\n",
    "# calculate the model root mean squared error for the selected variables against the target variable\n",
    "RMSE = sqrt(mean_squared_error(train.tax_value, train.yhat))\n",
    "# calculate the baseline root mean squared error for the selected variables against the target variable\n",
    "RMSE_baseline = sqrt(mean_squared_error(train.tax_value, train.baseline))"
   ]
  },
  {
   "cell_type": "code",
   "execution_count": 104,
   "id": "509375e8",
   "metadata": {},
   "outputs": [
    {
     "name": "stdout",
     "output_type": "stream",
     "text": [
      "  metric   model_error\n",
      "0    SSE  4.867622e+14\n",
      "1    MSE  2.518691e+10\n",
      "2   RMSE  1.587038e+05\n",
      "          metric   model_error\n",
      "0   SSE_baseline  5.504865e+14\n",
      "1   MSE_baseline  2.848424e+10\n",
      "2  RMSE_baseline  1.687728e+05\n"
     ]
    }
   ],
   "source": [
    "# create a dataframe for the model SSE, MSE, RMSE\n",
    "train_eval = pd.DataFrame(np.array(['SSE','MSE','RMSE']), columns=['metric'])\n",
    "# create a dataframe to show the baseline SSE, MSE, RMSE\n",
    "train_baseline_eval = pd.DataFrame(np.array(['SSE_baseline','MSE_baseline','RMSE_baseline']), columns=['metric'])\n",
    "# add a column to the train_eval dataframe for the values associated with each model metric\n",
    "train_eval['model_error'] = np.array([SSE, MSE, RMSE])\n",
    "# add a column to the train_baseline_eval for the values associated with each baseline metric\n",
    "train_baseline_eval['model_error'] = np.array([SSE_baseline, MSE_baseline, RMSE_baseline])\n",
    "# print the dataframes\n",
    "print(train_eval)\n",
    "print(train_baseline_eval)"
   ]
  },
  {
   "cell_type": "code",
   "execution_count": 105,
   "id": "964a31cb",
   "metadata": {},
   "outputs": [
    {
     "data": {
      "text/html": [
       "<div>\n",
       "<style scoped>\n",
       "    .dataframe tbody tr th:only-of-type {\n",
       "        vertical-align: middle;\n",
       "    }\n",
       "\n",
       "    .dataframe tbody tr th {\n",
       "        vertical-align: top;\n",
       "    }\n",
       "\n",
       "    .dataframe thead th {\n",
       "        text-align: right;\n",
       "    }\n",
       "</style>\n",
       "<table border=\"1\" class=\"dataframe\">\n",
       "  <thead>\n",
       "    <tr style=\"text-align: right;\">\n",
       "      <th></th>\n",
       "      <th>metric</th>\n",
       "      <th>model_error</th>\n",
       "      <th>error_delta</th>\n",
       "    </tr>\n",
       "  </thead>\n",
       "  <tbody>\n",
       "    <tr>\n",
       "      <th>0</th>\n",
       "      <td>SSE</td>\n",
       "      <td>4.867622e+14</td>\n",
       "      <td>-6.372429e+13</td>\n",
       "    </tr>\n",
       "    <tr>\n",
       "      <th>1</th>\n",
       "      <td>MSE</td>\n",
       "      <td>2.518691e+10</td>\n",
       "      <td>-3.297335e+09</td>\n",
       "    </tr>\n",
       "    <tr>\n",
       "      <th>2</th>\n",
       "      <td>RMSE</td>\n",
       "      <td>1.587038e+05</td>\n",
       "      <td>-1.006892e+04</td>\n",
       "    </tr>\n",
       "  </tbody>\n",
       "</table>\n",
       "</div>"
      ],
      "text/plain": [
       "  metric   model_error   error_delta\n",
       "0    SSE  4.867622e+14 -6.372429e+13\n",
       "1    MSE  2.518691e+10 -3.297335e+09\n",
       "2   RMSE  1.587038e+05 -1.006892e+04"
      ]
     },
     "execution_count": 105,
     "metadata": {},
     "output_type": "execute_result"
    }
   ],
   "source": [
    "# add a column to train_eval for the error delta for each metric\n",
    "train_eval['error_delta'] = train_eval.model_error - train_baseline_eval.model_error\n",
    "train_eval"
   ]
  },
  {
   "cell_type": "code",
   "execution_count": 106,
   "id": "b7328601",
   "metadata": {},
   "outputs": [
    {
     "data": {
      "text/plain": [
       "0.11575996366235985"
      ]
     },
     "execution_count": 106,
     "metadata": {},
     "output_type": "execute_result"
    }
   ],
   "source": [
    "r2_score(train.tax_value, train.yhat)"
   ]
  },
  {
   "cell_type": "code",
   "execution_count": 107,
   "id": "3772ed8c",
   "metadata": {},
   "outputs": [
    {
     "data": {
      "image/png": "[encoded data removed]",
      "text/plain": [
       "<Figure size 432x288 with 1 Axes>"
      ]
     },
     "metadata": {
      "needs_background": "light"
     },
     "output_type": "display_data"
    }
   ],
   "source": [
    "plot_residuals(y, yhat)"
   ]
  },
  {
   "cell_type": "code",
   "execution_count": 108,
   "id": "5da31ac8",
   "metadata": {},
   "outputs": [],
   "source": [
    "# create column for model residual error\n",
    "train['residual'] = train.yhat - train.tax_value\n",
    "# create column for baseline residual error\n",
    "train['residual_baseline'] = train.baseline - train.tax_value"
   ]
  },
  {
   "cell_type": "code",
   "execution_count": 109,
   "id": "6b3a74cf",
   "metadata": {},
   "outputs": [],
   "source": [
    "ols_model = LinearRegression().fit(X_validate_scaled, validate.tax_value)"
   ]
  },
  {
   "cell_type": "code",
   "execution_count": 110,
   "id": "1616a7f6",
   "metadata": {},
   "outputs": [],
   "source": [
    "validate['yhat'] = ols_model.predict(X_validate_scaled)"
   ]
  },
  {
   "cell_type": "code",
   "execution_count": 111,
   "id": "f8254361",
   "metadata": {},
   "outputs": [],
   "source": [
    "y = validate.tax_value\n",
    "yhat = validate.yhat"
   ]
  },
  {
   "cell_type": "code",
   "execution_count": 112,
   "id": "ce4f4ff7",
   "metadata": {},
   "outputs": [],
   "source": [
    "# create column for model residual error\n",
    "validate['residual'] = validate.yhat - validate.tax_value\n",
    "# create column for baseline residual error\n",
    "validate['residual_baseline'] = validate.baseline - validate.tax_value"
   ]
  },
  {
   "cell_type": "code",
   "execution_count": 113,
   "id": "d1499366",
   "metadata": {},
   "outputs": [],
   "source": [
    "# calculate the model's sum of squares error for the selected variables against the target variable\n",
    "SSE = mean_squared_error(validate.tax_value, validate.yhat)*len(validate)\n",
    "# calculate the baseline's sum of squares error for the selected variables against the target variable\n",
    "SSE_baseline = mean_squared_error(validate.tax_value, validate.baseline)*len(validate)\n",
    "# calculate the model mean squared error for the selected variables against the target variable\n",
    "MSE = mean_squared_error(validate.tax_value, validate.yhat)\n",
    "# calculate the baseline mean squared error for the selected variables against the target variable\n",
    "MSE_baseline = mean_squared_error(validate.tax_value, validate.baseline)\n",
    "# calculate the model root mean squared error for the selected variables against the target variable\n",
    "RMSE = sqrt(mean_squared_error(validate.tax_value, validate.yhat))\n",
    "# calculate the baseline root mean squared error for the selected variables against the target variable\n",
    "RMSE_baseline = sqrt(mean_squared_error(validate.tax_value, validate.baseline))"
   ]
  },
  {
   "cell_type": "code",
   "execution_count": 114,
   "id": "e963f722",
   "metadata": {},
   "outputs": [
    {
     "name": "stdout",
     "output_type": "stream",
     "text": [
      "  metric   model_error\n",
      "0    SSE  1.583967e+14\n",
      "1    MSE  2.458812e+10\n",
      "2   RMSE  1.568060e+05\n",
      "          metric   model_error\n",
      "0   SSE_baseline  1.787778e+14\n",
      "1   MSE_baseline  2.775191e+10\n",
      "2  RMSE_baseline  1.665891e+05\n"
     ]
    }
   ],
   "source": [
    "# create a dataframe for the model SSE, MSE, RMSE\n",
    "e_eval = pd.DataFrame(np.array(['SSE','MSE','RMSE']), columns=['metric'])\n",
    "# create a dataframe to show the baseline SSE, MSE, RMSE\n",
    "baseline_eval = pd.DataFrame(np.array(['SSE_baseline','MSE_baseline','RMSE_baseline']), columns=['metric'])\n",
    "# add a column to the train_eval dataframe for the values associated with each model metric\n",
    "e_eval['model_error'] = np.array([SSE, MSE, RMSE])\n",
    "# add a column to the train_baseline_eval for the values associated with each baseline metric\n",
    "baseline_eval['model_error'] = np.array([SSE_baseline, MSE_baseline, RMSE_baseline])\n",
    "# print the dataframes\n",
    "print(e_eval)\n",
    "print(baseline_eval)"
   ]
  },
  {
   "cell_type": "code",
   "execution_count": 115,
   "id": "0eb50a99",
   "metadata": {},
   "outputs": [
    {
     "data": {
      "text/html": [
       "<div>\n",
       "<style scoped>\n",
       "    .dataframe tbody tr th:only-of-type {\n",
       "        vertical-align: middle;\n",
       "    }\n",
       "\n",
       "    .dataframe tbody tr th {\n",
       "        vertical-align: top;\n",
       "    }\n",
       "\n",
       "    .dataframe thead th {\n",
       "        text-align: right;\n",
       "    }\n",
       "</style>\n",
       "<table border=\"1\" class=\"dataframe\">\n",
       "  <thead>\n",
       "    <tr style=\"text-align: right;\">\n",
       "      <th></th>\n",
       "      <th>metric</th>\n",
       "      <th>model_error</th>\n",
       "      <th>error_delta</th>\n",
       "    </tr>\n",
       "  </thead>\n",
       "  <tbody>\n",
       "    <tr>\n",
       "      <th>0</th>\n",
       "      <td>SSE</td>\n",
       "      <td>1.583967e+14</td>\n",
       "      <td>-2.038113e+13</td>\n",
       "    </tr>\n",
       "    <tr>\n",
       "      <th>1</th>\n",
       "      <td>MSE</td>\n",
       "      <td>2.458812e+10</td>\n",
       "      <td>-3.163790e+09</td>\n",
       "    </tr>\n",
       "    <tr>\n",
       "      <th>2</th>\n",
       "      <td>RMSE</td>\n",
       "      <td>1.568060e+05</td>\n",
       "      <td>-9.783048e+03</td>\n",
       "    </tr>\n",
       "  </tbody>\n",
       "</table>\n",
       "</div>"
      ],
      "text/plain": [
       "  metric   model_error   error_delta\n",
       "0    SSE  1.583967e+14 -2.038113e+13\n",
       "1    MSE  2.458812e+10 -3.163790e+09\n",
       "2   RMSE  1.568060e+05 -9.783048e+03"
      ]
     },
     "execution_count": 115,
     "metadata": {},
     "output_type": "execute_result"
    }
   ],
   "source": [
    "# add a column to train_eval for the error delta for each metric\n",
    "e_eval['error_delta'] = e_eval.model_error - baseline_eval.model_error\n",
    "e_eval"
   ]
  },
  {
   "cell_type": "code",
   "execution_count": 116,
   "id": "6a67f660",
   "metadata": {},
   "outputs": [
    {
     "data": {
      "text/plain": [
       "0.11400257037306494"
      ]
     },
     "execution_count": 116,
     "metadata": {},
     "output_type": "execute_result"
    }
   ],
   "source": [
    "r2_score(validate.tax_value, validate.yhat)"
   ]
  },
  {
   "cell_type": "code",
   "execution_count": 117,
   "id": "3ad11027",
   "metadata": {},
   "outputs": [
    {
     "name": "stdout",
     "output_type": "stream",
     "text": [
      "RMSE for Lasso + Lars\n",
      "Training/In-Sample:  159033.22451247528 \n",
      "Validation/Out-of-Sample:  156935.51587208445\n"
     ]
    }
   ],
   "source": [
    "# create the model object\n",
    "lars = LassoLars(alpha=1.0)\n",
    "\n",
    "# fit the model to our training data. We must specify the column in y_train, \n",
    "# since we have converted it to a dataframe from a series! \n",
    "lars.fit(X_train_scaled, y_train.tax_value)\n",
    "\n",
    "# predict train\n",
    "y_train['tax_pred_lars'] = lars.predict(X_train_scaled)\n",
    "\n",
    "# evaluate: rmse\n",
    "rmse_train = mean_squared_error(y_train.tax_value, y_train.tax_pred_lars)**(1/2)\n",
    "\n",
    "# predict validate\n",
    "y_validate['tax_pred_lars'] = lars.predict(X_validate_scaled)\n",
    "\n",
    "# evaluate: rmse\n",
    "rmse_validate = mean_squared_error(y_validate.tax_value, y_validate.tax_pred_lars)**(1/2)\n",
    "\n",
    "print(\"RMSE for Lasso + Lars\\nTraining/In-Sample: \", rmse_train, \n",
    "      \"\\nValidation/Out-of-Sample: \", rmse_validate)"
   ]
  },
  {
   "cell_type": "code",
   "execution_count": 118,
   "id": "d2e80620",
   "metadata": {},
   "outputs": [],
   "source": [
    "train['yhat'] = lars.predict(X_train_scaled)"
   ]
  },
  {
   "cell_type": "code",
   "execution_count": 119,
   "id": "80749de7",
   "metadata": {},
   "outputs": [],
   "source": [
    "y = train.tax_value\n",
    "yhat = train.yhat"
   ]
  },
  {
   "cell_type": "code",
   "execution_count": 120,
   "id": "24b6ad50",
   "metadata": {},
   "outputs": [],
   "source": [
    "# create column for model residual error\n",
    "train['residual'] = train.yhat - train.tax_value\n",
    "# create column for baseline residual error\n",
    "train['residual_baseline'] = train.baseline - train.tax_value"
   ]
  },
  {
   "cell_type": "code",
   "execution_count": 121,
   "id": "21f7866a",
   "metadata": {},
   "outputs": [],
   "source": [
    "# calculate the model's sum of squares error for the selected variables against the target variable\n",
    "SSE = mean_squared_error(train.tax_value, train.yhat)*len(train)\n",
    "# calculate the baseline's sum of squares error for the selected variables against the target variable\n",
    "SSE_baseline = mean_squared_error(train.tax_value, train.baseline)*len(train)\n",
    "# calculate the model mean squared error for the selected variables against the target variable\n",
    "MSE = mean_squared_error(train.tax_value, train.yhat)\n",
    "# calculate the baseline mean squared error for the selected variables against the target variable\n",
    "MSE_baseline = mean_squared_error(train.tax_value, train.baseline)\n",
    "# calculate the model root mean squared error for the selected variables against the target variable\n",
    "RMSE = sqrt(mean_squared_error(train.tax_value, train.yhat))\n",
    "# calculate the baseline root mean squared error for the selected variables against the target variable\n",
    "RMSE_baseline = sqrt(mean_squared_error(train.tax_value, train.baseline))"
   ]
  },
  {
   "cell_type": "code",
   "execution_count": 122,
   "id": "1a46414e",
   "metadata": {},
   "outputs": [
    {
     "name": "stdout",
     "output_type": "stream",
     "text": [
      "  metric   model_error\n",
      "0    SSE  4.887848e+14\n",
      "1    MSE  2.529157e+10\n",
      "2   RMSE  1.590332e+05\n",
      "          metric   model_error\n",
      "0   SSE_baseline  5.504865e+14\n",
      "1   MSE_baseline  2.848424e+10\n",
      "2  RMSE_baseline  1.687728e+05\n"
     ]
    }
   ],
   "source": [
    "# create a dataframe for the model SSE, MSE, RMSE\n",
    "train_eval = pd.DataFrame(np.array(['SSE','MSE','RMSE']), columns=['metric'])\n",
    "# create a dataframe to show the baseline SSE, MSE, RMSE\n",
    "train_baseline_eval = pd.DataFrame(np.array(['SSE_baseline','MSE_baseline','RMSE_baseline']), columns=['metric'])\n",
    "# add a column to the train_eval dataframe for the values associated with each model metric\n",
    "train_eval['model_error'] = np.array([SSE, MSE, RMSE])\n",
    "# add a column to the train_baseline_eval for the values associated with each baseline metric\n",
    "train_baseline_eval['model_error'] = np.array([SSE_baseline, MSE_baseline, RMSE_baseline])\n",
    "# print the dataframes\n",
    "print(train_eval)\n",
    "print(train_baseline_eval)"
   ]
  },
  {
   "cell_type": "code",
   "execution_count": 123,
   "id": "f1a20fb1",
   "metadata": {},
   "outputs": [
    {
     "data": {
      "text/html": [
       "<div>\n",
       "<style scoped>\n",
       "    .dataframe tbody tr th:only-of-type {\n",
       "        vertical-align: middle;\n",
       "    }\n",
       "\n",
       "    .dataframe tbody tr th {\n",
       "        vertical-align: top;\n",
       "    }\n",
       "\n",
       "    .dataframe thead th {\n",
       "        text-align: right;\n",
       "    }\n",
       "</style>\n",
       "<table border=\"1\" class=\"dataframe\">\n",
       "  <thead>\n",
       "    <tr style=\"text-align: right;\">\n",
       "      <th></th>\n",
       "      <th>metric</th>\n",
       "      <th>model_error</th>\n",
       "      <th>error_delta</th>\n",
       "    </tr>\n",
       "  </thead>\n",
       "  <tbody>\n",
       "    <tr>\n",
       "      <th>0</th>\n",
       "      <td>SSE</td>\n",
       "      <td>4.887848e+14</td>\n",
       "      <td>-6.170166e+13</td>\n",
       "    </tr>\n",
       "    <tr>\n",
       "      <th>1</th>\n",
       "      <td>MSE</td>\n",
       "      <td>2.529157e+10</td>\n",
       "      <td>-3.192676e+09</td>\n",
       "    </tr>\n",
       "    <tr>\n",
       "      <th>2</th>\n",
       "      <td>RMSE</td>\n",
       "      <td>1.590332e+05</td>\n",
       "      <td>-9.739530e+03</td>\n",
       "    </tr>\n",
       "  </tbody>\n",
       "</table>\n",
       "</div>"
      ],
      "text/plain": [
       "  metric   model_error   error_delta\n",
       "0    SSE  4.887848e+14 -6.170166e+13\n",
       "1    MSE  2.529157e+10 -3.192676e+09\n",
       "2   RMSE  1.590332e+05 -9.739530e+03"
      ]
     },
     "execution_count": 123,
     "metadata": {},
     "output_type": "execute_result"
    }
   ],
   "source": [
    "# add a column to train_eval for the error delta for each metric\n",
    "train_eval['error_delta'] = train_eval.model_error - train_baseline_eval.model_error\n",
    "train_eval"
   ]
  },
  {
   "cell_type": "code",
   "execution_count": 124,
   "id": "86d38e43",
   "metadata": {},
   "outputs": [
    {
     "data": {
      "text/plain": [
       "0.11208570063765566"
      ]
     },
     "execution_count": 124,
     "metadata": {},
     "output_type": "execute_result"
    }
   ],
   "source": [
    "r2_score(train.tax_value, train.yhat)"
   ]
  },
  {
   "cell_type": "code",
   "execution_count": null,
   "id": "bec111a0",
   "metadata": {},
   "outputs": [],
   "source": []
  },
  {
   "cell_type": "code",
   "execution_count": 125,
   "id": "461c9cdf",
   "metadata": {},
   "outputs": [
    {
     "data": {
      "image/png": "[encoded data removed]",
      "text/plain": [
       "<Figure size 432x288 with 1 Axes>"
      ]
     },
     "metadata": {
      "needs_background": "light"
     },
     "output_type": "display_data"
    }
   ],
   "source": [
    "plot_residuals(y, yhat)"
   ]
  },
  {
   "cell_type": "code",
   "execution_count": 126,
   "id": "5aaabef6",
   "metadata": {},
   "outputs": [
    {
     "name": "stdout",
     "output_type": "stream",
     "text": [
      "RMSE for Lasso + Lars\n",
      "Training/In-Sample:  159033.22451247528 \n",
      "Validation/Out-of-Sample:  156935.51587208445 \n",
      "r^2 score:  0.11208570063765566\n"
     ]
    }
   ],
   "source": [
    "model.lasso_lars_model(X_train_scaled, X_validate_scaled, y_train, y_validate, train, 1)"
   ]
  },
  {
   "cell_type": "code",
   "execution_count": 127,
   "id": "561cbdd6",
   "metadata": {},
   "outputs": [
    {
     "name": "stdout",
     "output_type": "stream",
     "text": [
      "RMSE for Linear Regression Model \n",
      "Training/In-Sample:  159029.825504526 \n",
      "Validation/Out-of-Sample:  156925.77845831972 \n",
      "r^2 score:  0.11212365491443044\n"
     ]
    }
   ],
   "source": [
    "model.lrm(X_train_scaled, X_validate_scaled, y_train, y_validate, train)"
   ]
  },
  {
   "cell_type": "code",
   "execution_count": 130,
   "id": "a59cbfab",
   "metadata": {},
   "outputs": [
    {
     "name": "stdout",
     "output_type": "stream",
     "text": [
      "RMSE for Polynomial Model, degrees=3\n",
      "Training/In-Sample:  157578.45618450915 \n",
      "Validation/Out-of-Sample:  155280.51094180654 \n",
      "r^2 score:  0.12825592669527897\n"
     ]
    }
   ],
   "source": [
    "model.poly_lm(X_train_scaled, X_validate_scaled, X_test_scaled, y_train, y_validate, train, 2)"
   ]
  },
  {
   "cell_type": "code",
   "execution_count": 129,
   "id": "22f422e4",
   "metadata": {},
   "outputs": [
    {
     "name": "stdout",
     "output_type": "stream",
     "text": [
      "RMSE for GLM using Tweedie, power=1 & alpha=2\n",
      "Training/In-Sample:  158703.86409798404 \n",
      "Validation/Out-of-Sample:  156651.06987978527 \n",
      "r^2 score:  0.11575966241001323\n"
     ]
    }
   ],
   "source": [
    "model.glm_model(X_train_scaled, X_validate_scaled, y_train, y_validate, train, 1, 2)"
   ]
  },
  {
   "cell_type": "code",
   "execution_count": 238,
   "id": "39c0c2d0",
   "metadata": {},
   "outputs": [],
   "source": [
    "y = lrm(X_train_scaled, X_validate_scaled, y_train, y_validate, train)"
   ]
  },
  {
   "cell_type": "code",
   "execution_count": 239,
   "id": "f38026f1",
   "metadata": {},
   "outputs": [],
   "source": [
    "z = lrm(X_train_scaled, X_validate_scaled, y_train, y_validate, train)"
   ]
  },
  {
   "cell_type": "code",
   "execution_count": 248,
   "id": "b0465a1e",
   "metadata": {},
   "outputs": [],
   "source": [
    "def model_performance(df1, df2, df3):\n",
    "    df1 = x\n",
    "    df2 = y\n",
    "    df3 = z\n",
    "    df = df1.merge('left', on=df2)\n",
    "    return df"
   ]
  },
  {
   "cell_type": "code",
   "execution_count": 257,
   "id": "42a99aff",
   "metadata": {},
   "outputs": [],
   "source": [
    "def train_vars(cols):\n",
    "    cols = cols\n",
    "    X_train, y_train = train[cols], train.tax_value\n",
    "    return X_train, y_train"
   ]
  },
  {
   "cell_type": "code",
   "execution_count": 258,
   "id": "90542c1b",
   "metadata": {},
   "outputs": [],
   "source": [
    "cols = ['bathrooms','bedrooms','sqft']\n",
    "X_train, y_train = train_vars(cols)"
   ]
  },
  {
   "cell_type": "code",
   "execution_count": 259,
   "id": "18550029",
   "metadata": {},
   "outputs": [],
   "source": [
    "def val_vars(cols):\n",
    "    cols = cols\n",
    "    X_validate, y_validate = validate[cols], validate.tax_value\n",
    "    return X_validate, y_validate"
   ]
  },
  {
   "cell_type": "code",
   "execution_count": 260,
   "id": "241f248d",
   "metadata": {},
   "outputs": [],
   "source": [
    "X_validate, y_validate = val_vars(cols)"
   ]
  },
  {
   "cell_type": "code",
   "execution_count": 264,
   "id": "e9d31a83",
   "metadata": {},
   "outputs": [],
   "source": [
    "def model_vars(cols):\n",
    "    cols = cols\n",
    "    X_train, y_train, X_validate, y_validate, X_test, y_test = train[cols], train.tax_value, validate[cols], validate.tax_value, test[cols], test.tax_value\n",
    "    return X_train, y_train, X_validate, y_validate, X_test, y_test"
   ]
  },
  {
   "cell_type": "code",
   "execution_count": 265,
   "id": "528ff8a5",
   "metadata": {},
   "outputs": [],
   "source": [
    "cols = ['bathrooms','bedrooms','sqft','year']"
   ]
  },
  {
   "cell_type": "code",
   "execution_count": 267,
   "id": "e7de5dc2",
   "metadata": {},
   "outputs": [],
   "source": [
    "X_train, y_train, X_validate, y_validate, X_test, y_test = model_vars(cols)"
   ]
  },
  {
   "cell_type": "code",
   "execution_count": 268,
   "id": "97c5ef65",
   "metadata": {},
   "outputs": [],
   "source": [
    "X_train_scaled, X_validate_scaled, X_test_scaled = wrangle.minmax_scaler(X_train, X_validate, X_test)"
   ]
  },
  {
   "cell_type": "code",
   "execution_count": null,
   "id": "2f4d0635",
   "metadata": {},
   "outputs": [],
   "source": []
  }
 ],
 "metadata": {
  "kernelspec": {
   "display_name": "Python 3 (ipykernel)",
   "language": "python",
   "name": "python3"
  },
  "language_info": {
   "codemirror_mode": {
    "name": "ipython",
    "version": 3
   },
   "file_extension": ".py",
   "mimetype": "text/x-python",
   "name": "python",
   "nbconvert_exporter": "python",
   "pygments_lexer": "ipython3",
   "version": "3.9.12"
  }
 },
 "nbformat": 4,
 "nbformat_minor": 5
}
